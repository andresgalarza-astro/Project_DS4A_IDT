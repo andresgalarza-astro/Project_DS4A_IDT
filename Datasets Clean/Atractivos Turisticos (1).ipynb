{
 "cells": [
  {
   "cell_type": "code",
   "execution_count": null,
   "id": "3debfd00",
   "metadata": {},
   "outputs": [],
   "source": [
    "pip install folium\n"
   ]
  },
  {
   "cell_type": "code",
   "execution_count": 1,
   "id": "2efd6f33",
   "metadata": {},
   "outputs": [],
   "source": [
    "import pandas as pd\n",
    "import matplotlib.pyplot as plt\n",
    "import folium"
   ]
  },
  {
   "cell_type": "code",
   "execution_count": 2,
   "id": "5f1ce4b4",
   "metadata": {},
   "outputs": [],
   "source": [
    "df=pd.read_csv('data/7. Base de Atractivos turísticos (2021).csv', delimiter=';',encoding='latin-1',dtype={\"Latitud\":str})"
   ]
  },
  {
   "cell_type": "code",
   "execution_count": 3,
   "id": "929020ad",
   "metadata": {},
   "outputs": [
    {
     "name": "stdout",
     "output_type": "stream",
     "text": [
      "<class 'pandas.core.frame.DataFrame'>\n",
      "RangeIndex: 442 entries, 0 to 441\n",
      "Data columns (total 8 columns):\n",
      " #   Column               Non-Null Count  Dtype \n",
      "---  ------               --------------  ----- \n",
      " 0   ID                   442 non-null    int64 \n",
      " 1   Codigo               442 non-null    object\n",
      " 2   Nombre               442 non-null    object\n",
      " 3   Direccion Atractivo  439 non-null    object\n",
      " 4   Tipo de Patrimonio   442 non-null    object\n",
      " 5   Nombre Propietario   442 non-null    object\n",
      " 6   Latitud              442 non-null    object\n",
      " 7   Longitud             442 non-null    object\n",
      "dtypes: int64(1), object(7)\n",
      "memory usage: 27.8+ KB\n"
     ]
    }
   ],
   "source": [
    "df.info()"
   ]
  },
  {
   "cell_type": "code",
   "execution_count": 4,
   "id": "6f8de903",
   "metadata": {},
   "outputs": [],
   "source": [
    "df.columns=[\"id\",\"codigo\",\"nombre\",\"direccion_atractivo\",\"tipo_patrimonio\",\"tipo_propiedad\",\"latitud\",\"longitud\"]"
   ]
  },
  {
   "cell_type": "code",
   "execution_count": 5,
   "id": "ede1b314",
   "metadata": {},
   "outputs": [],
   "source": [
    "\n",
    "df[\"latitud\"]=df[\"latitud\"].str.replace(\",\",\".\")\n",
    "df[\"longitud\"]=df[\"longitud\"].str.replace(\",\",\".\")\n",
    "df[\"latitud\"]=df[\"latitud\"].astype(float)\n",
    "df[\"longitud\"]=df[\"longitud\"].astype(float)"
   ]
  },
  {
   "cell_type": "code",
   "execution_count": 6,
   "id": "766aad1f",
   "metadata": {},
   "outputs": [
    {
     "name": "stdout",
     "output_type": "stream",
     "text": [
      "<class 'pandas.core.frame.DataFrame'>\n",
      "RangeIndex: 442 entries, 0 to 441\n",
      "Data columns (total 8 columns):\n",
      " #   Column               Non-Null Count  Dtype  \n",
      "---  ------               --------------  -----  \n",
      " 0   id                   442 non-null    int64  \n",
      " 1   codigo               442 non-null    object \n",
      " 2   nombre               442 non-null    object \n",
      " 3   direccion_atractivo  439 non-null    object \n",
      " 4   tipo_patrimonio      442 non-null    object \n",
      " 5   tipo_propiedad       442 non-null    object \n",
      " 6   latitud              442 non-null    float64\n",
      " 7   longitud             442 non-null    float64\n",
      "dtypes: float64(2), int64(1), object(5)\n",
      "memory usage: 27.8+ KB\n"
     ]
    }
   ],
   "source": [
    "df.info()"
   ]
  },
  {
   "cell_type": "code",
   "execution_count": null,
   "id": "e73b7517",
   "metadata": {},
   "outputs": [],
   "source": [
    "df[\"latitud\"]=df[\"latitud\"].str.replace(\",\",\".\")\n",
    "df[\"longitud\"]=df[\"longitud\"].str.replace(\",\",\".\")"
   ]
  },
  {
   "cell_type": "code",
   "execution_count": null,
   "id": "a0bbd5ae",
   "metadata": {},
   "outputs": [],
   "source": [
    "df[\"latitud\"]=df[\"latitud\"].astype(float)\n",
    "df[\"longitud\"]=df[\"longitud\"].astype(float)"
   ]
  },
  {
   "cell_type": "code",
   "execution_count": 7,
   "id": "e079a123",
   "metadata": {},
   "outputs": [],
   "source": [
    "df[\"direccion_atractivo\"]=df[\"direccion_atractivo\"].fillna(\"No se encuentra direccion\")"
   ]
  },
  {
   "cell_type": "code",
   "execution_count": 8,
   "id": "cb028a66",
   "metadata": {},
   "outputs": [
    {
     "name": "stdout",
     "output_type": "stream",
     "text": [
      "<class 'pandas.core.frame.DataFrame'>\n",
      "RangeIndex: 442 entries, 0 to 441\n",
      "Data columns (total 8 columns):\n",
      " #   Column               Non-Null Count  Dtype  \n",
      "---  ------               --------------  -----  \n",
      " 0   id                   442 non-null    int64  \n",
      " 1   codigo               442 non-null    object \n",
      " 2   nombre               442 non-null    object \n",
      " 3   direccion_atractivo  442 non-null    object \n",
      " 4   tipo_patrimonio      442 non-null    object \n",
      " 5   tipo_propiedad       442 non-null    object \n",
      " 6   latitud              442 non-null    float64\n",
      " 7   longitud             442 non-null    float64\n",
      "dtypes: float64(2), int64(1), object(5)\n",
      "memory usage: 27.8+ KB\n"
     ]
    }
   ],
   "source": [
    "df.info()"
   ]
  },
  {
   "cell_type": "code",
   "execution_count": null,
   "id": "2d2d0635",
   "metadata": {},
   "outputs": [],
   "source": [
    "df[\"tipo_propiedad\"].value_counts()"
   ]
  },
  {
   "cell_type": "code",
   "execution_count": null,
   "id": "c1518110",
   "metadata": {},
   "outputs": [],
   "source": [
    "some_map=folium.Map(location=[df[\"latitud\"].mean(),df[\"longitud\"].mean()],zoom_start=10)"
   ]
  },
  {
   "cell_type": "code",
   "execution_count": null,
   "id": "8bdab8d1",
   "metadata": {},
   "outputs": [],
   "source": [
    "for row in df.itertuples():\n",
    "    \n",
    "    some_map.add_child(folium.Marker(location=[row.latitud,row.longitud],popup=row.nombre))"
   ]
  },
  {
   "cell_type": "code",
   "execution_count": null,
   "id": "047f23e8",
   "metadata": {
    "scrolled": true
   },
   "outputs": [],
   "source": [
    "some_map"
   ]
  },
  {
   "cell_type": "code",
   "execution_count": null,
   "id": "d8b666c5",
   "metadata": {
    "scrolled": true
   },
   "outputs": [],
   "source": [
    "df.groupby([\"tipo_patrimonio\"])[\"tipo_patrimonio\"].count().sort_values(ascending=True).plot.barh(\n",
    "                                                                                                title=\"# Tipos de propiedad\",\n",
    "                                                                                                color=\"royalblue\",fontsize=9)\n"
   ]
  },
  {
   "cell_type": "code",
   "execution_count": null,
   "id": "ccd0a24f",
   "metadata": {},
   "outputs": [],
   "source": [
    "df[\"tipo_patrimonio\"].value_counts()"
   ]
  },
  {
   "cell_type": "code",
   "execution_count": null,
   "id": "2d0bfc66",
   "metadata": {},
   "outputs": [],
   "source": []
  },
  {
   "cell_type": "code",
   "execution_count": null,
   "id": "3b46f64a",
   "metadata": {},
   "outputs": [],
   "source": [
    "[]"
   ]
  }
 ],
 "metadata": {
  "kernelspec": {
   "display_name": "Python 3",
   "language": "python",
   "name": "python3"
  },
  "language_info": {
   "codemirror_mode": {
    "name": "ipython",
    "version": 3
   },
   "file_extension": ".py",
   "mimetype": "text/x-python",
   "name": "python",
   "nbconvert_exporter": "python",
   "pygments_lexer": "ipython3",
   "version": "3.8.12"
  }
 },
 "nbformat": 4,
 "nbformat_minor": 5
}
