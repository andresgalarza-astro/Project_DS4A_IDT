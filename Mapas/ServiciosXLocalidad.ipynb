{
 "cells": [
  {
   "cell_type": "code",
   "execution_count": 1,
   "id": "9589e563-2b9c-4edc-be4a-60f788f7186a",
   "metadata": {},
   "outputs": [],
   "source": [
    "import pandas as pd\n",
    "import plotly.express as px"
   ]
  },
  {
   "cell_type": "code",
   "execution_count": 2,
   "id": "18447070-9ca8-47d1-b978-507b232556b5",
   "metadata": {},
   "outputs": [],
   "source": [
    "Banks = pd.read_csv('../Datasets Clean/bankslocalidades.csv')\n",
    "ATMs = pd.read_csv('../Datasets Clean/ATMslocalidades.csv')\n",
    "Health = pd.read_csv('../Datasets Clean/healthlocalidades.csv')\n",
    "Pharmacies = pd.read_csv('../Datasets Clean/PharmaciesLocalidades.csv')\n",
    "SITP = pd.read_csv('../Datasets Clean/SITPLocalidades.csv')\n",
    "TM = pd.read_csv('../Datasets Clean/TMLocalidades.csv')"
   ]
  },
  {
   "cell_type": "code",
   "execution_count": 3,
   "id": "63f82924-bfcb-4634-b150-da779f331616",
   "metadata": {},
   "outputs": [],
   "source": [
    "df1 = Banks.Localidad.value_counts().to_frame().rename(columns={'Localidad':'Bancos'})\n",
    "df2 = ATMs.Localidad.value_counts().to_frame().rename(columns={'Localidad':'ATMs'})\n",
    "df3 = Health.Localidad.value_counts().to_frame().rename(columns={'Localidad':'Puntos Salud'})\n",
    "df4 = Pharmacies.Localidad.value_counts().to_frame().rename(columns={'Localidad':'Farmacias'})\n",
    "df5 = SITP.Localidad.value_counts().to_frame().rename(columns={'Localidad':'SITP'})\n",
    "df6 = TM.Localidad.value_counts().to_frame().rename(columns={'Localidad':'TM'})"
   ]
  },
  {
   "cell_type": "code",
   "execution_count": 4,
   "id": "b73b6fda-ebc1-4e0b-b519-576c1fc36c51",
   "metadata": {},
   "outputs": [],
   "source": [
    "DF = pd.concat([df1,df2,df3,df4,df5,df6],axis=1)"
   ]
  },
  {
   "cell_type": "code",
   "execution_count": 5,
   "id": "b59f351a-a9e8-4251-81bf-8beb83529d1c",
   "metadata": {},
   "outputs": [
    {
     "data": {
      "text/plain": [
       "<AxesSubplot:xlabel='index', ylabel='Chapinero'>"
      ]
     },
     "execution_count": 5,
     "metadata": {},
     "output_type": "execute_result"
    },
    {
     "data": {
      "image/png": "[encoded data removed]",
      "text/plain": [
       "<Figure size 432x288 with 1 Axes>"
      ]
     },
     "metadata": {
      "needs_background": "light"
     },
     "output_type": "display_data"
    }
   ],
   "source": [
    "import seaborn as sns\n",
    "\n",
    "sns.barplot(data=DF.loc['Chapinero'].to_frame().sort_values(by='Chapinero',ascending=False).reset_index(),x='index',y='Chapinero')"
   ]
  },
  {
   "cell_type": "code",
   "execution_count": 6,
   "id": "3abf9774-9ab3-4431-b352-35ddab075e0f",
   "metadata": {},
   "outputs": [
    {
     "data": {
      "text/html": [
       "<div>\n",
       "<style scoped>\n",
       "    .dataframe tbody tr th:only-of-type {\n",
       "        vertical-align: middle;\n",
       "    }\n",
       "\n",
       "    .dataframe tbody tr th {\n",
       "        vertical-align: top;\n",
       "    }\n",
       "\n",
       "    .dataframe thead th {\n",
       "        text-align: right;\n",
       "    }\n",
       "</style>\n",
       "<table border=\"1\" class=\"dataframe\">\n",
       "  <thead>\n",
       "    <tr style=\"text-align: right;\">\n",
       "      <th></th>\n",
       "      <th>index</th>\n",
       "      <th>Chapinero</th>\n",
       "    </tr>\n",
       "  </thead>\n",
       "  <tbody>\n",
       "    <tr>\n",
       "      <th>0</th>\n",
       "      <td>Bancos</td>\n",
       "      <td>138.0</td>\n",
       "    </tr>\n",
       "    <tr>\n",
       "      <th>1</th>\n",
       "      <td>ATMs</td>\n",
       "      <td>430.0</td>\n",
       "    </tr>\n",
       "    <tr>\n",
       "      <th>2</th>\n",
       "      <td>Puntos Salud</td>\n",
       "      <td>167.0</td>\n",
       "    </tr>\n",
       "    <tr>\n",
       "      <th>3</th>\n",
       "      <td>Farmacias</td>\n",
       "      <td>21.0</td>\n",
       "    </tr>\n",
       "    <tr>\n",
       "      <th>4</th>\n",
       "      <td>SITP</td>\n",
       "      <td>325.0</td>\n",
       "    </tr>\n",
       "    <tr>\n",
       "      <th>5</th>\n",
       "      <td>TM</td>\n",
       "      <td>10.0</td>\n",
       "    </tr>\n",
       "  </tbody>\n",
       "</table>\n",
       "</div>"
      ],
      "text/plain": [
       "          index  Chapinero\n",
       "0        Bancos      138.0\n",
       "1          ATMs      430.0\n",
       "2  Puntos Salud      167.0\n",
       "3     Farmacias       21.0\n",
       "4          SITP      325.0\n",
       "5            TM       10.0"
      ]
     },
     "execution_count": 6,
     "metadata": {},
     "output_type": "execute_result"
    }
   ],
   "source": [
    "DF.loc['Chapinero'].to_frame().reset_index()"
   ]
  },
  {
   "cell_type": "code",
   "execution_count": 15,
   "id": "2869ff28-d66c-4e0a-a9c1-ffba640cfae6",
   "metadata": {},
   "outputs": [
    {
     "data": {
      "application/vnd.plotly.v1+json": {
       "config": {
        "plotlyServerURL": "https://plot.ly"
       },
       "data": [
        {
         "name": "Chapinero",
         "type": "bar",
         "visible": true,
         "x": [
          "ATMs",
          "SITP",
          "Puntos Salud",
          "Bancos",
          "Farmacias",
          "TM"
         ],
         "y": [
          430,
          325,
          167,
          138,
          21,
          10
         ]
        },
        {
         "name": "Usaquén",
         "type": "bar",
         "visible": false,
         "x": [
          "SITP",
          "ATMs",
          "Puntos Salud",
          "Bancos",
          "Farmacias",
          "TM"
         ],
         "y": [
          698,
          428,
          291,
          103,
          40,
          13
         ]
        },
        {
         "name": "Santa Fe",
         "type": "bar",
         "visible": false,
         "x": [
          "ATMs",
          "SITP",
          "Bancos",
          "Puntos Salud",
          "TM",
          "Farmacias"
         ],
         "y": [
          234,
          189,
          90,
          31,
          13,
          10
         ]
        },
        {
         "name": "Suba",
         "type": "bar",
         "visible": false,
         "x": [
          "SITP",
          "ATMs",
          "Puntos Salud",
          "Bancos",
          "Farmacias",
          "TM"
         ],
         "y": [
          826,
          373,
          202,
          73,
          12,
          11
         ]
        },
        {
         "name": "Kennedy",
         "type": "bar",
         "visible": false,
         "x": [
          "SITP",
          "ATMs",
          "Puntos Salud",
          "Bancos",
          "TM",
          "Farmacias"
         ],
         "y": [
          932,
          220,
          73,
          63,
          10,
          4
         ]
        },
        {
         "name": "Teusaquillo",
         "type": "bar",
         "visible": false,
         "x": [
          "SITP",
          "ATMs",
          "Puntos Salud",
          "Bancos",
          "Farmacias",
          "TM"
         ],
         "y": [
          272,
          218,
          123,
          57,
          13,
          13
         ]
        },
        {
         "name": "Engativá",
         "type": "bar",
         "visible": false,
         "x": [
          "SITP",
          "ATMs",
          "Puntos Salud",
          "Bancos",
          "Farmacias",
          "TM"
         ],
         "y": [
          775,
          309,
          107,
          54,
          15,
          13
         ]
        },
        {
         "name": "Fontibón",
         "type": "bar",
         "visible": false,
         "x": [
          "SITP",
          "ATMs",
          "Puntos Salud",
          "Bancos",
          "Farmacias",
          "TM"
         ],
         "y": [
          393,
          228,
          76,
          54,
          14,
          1
         ]
        },
        {
         "name": "Puente Aranda",
         "type": "bar",
         "visible": false,
         "x": [
          "SITP",
          "ATMs",
          "Bancos",
          "Puntos Salud",
          "TM",
          "Farmacias"
         ],
         "y": [
          377,
          185,
          51,
          38,
          14,
          6
         ]
        },
        {
         "name": "Barrios Unidos",
         "type": "bar",
         "visible": false,
         "x": [
          "SITP",
          "ATMs",
          "Puntos Salud",
          "Bancos",
          "TM",
          "Farmacias"
         ],
         "y": [
          219,
          147,
          88,
          38,
          12,
          5
         ]
        },
        {
         "name": "Los Mártires",
         "type": "bar",
         "visible": false,
         "x": [
          "SITP",
          "ATMs",
          "Bancos",
          "Puntos Salud",
          "TM",
          "Farmacias"
         ],
         "y": [
          166,
          119,
          37,
          24,
          10,
          5
         ]
        },
        {
         "name": "Antonio Nariño",
         "type": "bar",
         "visible": false,
         "x": [
          "SITP",
          "ATMs",
          "Puntos Salud",
          "Bancos",
          "TM",
          "Farmacias"
         ],
         "y": [
          99,
          87,
          61,
          25,
          5,
          3
         ]
        },
        {
         "name": "La Candelaria",
         "type": "bar",
         "visible": false,
         "x": [
          "ATMs",
          "SITP",
          "Bancos",
          "Puntos Salud",
          "TM",
          "Farmacias"
         ],
         "y": [
          65,
          36,
          24,
          4,
          1,
          null
         ]
        },
        {
         "name": "Bosa",
         "type": "bar",
         "visible": false,
         "x": [
          "SITP",
          "ATMs",
          "Puntos Salud",
          "Bancos",
          "Farmacias",
          "TM"
         ],
         "y": [
          499,
          64,
          20,
          17,
          9,
          2
         ]
        },
        {
         "name": "Tunjuelito",
         "type": "bar",
         "visible": false,
         "x": [
          "SITP",
          "ATMs",
          "Puntos Salud",
          "Bancos",
          "Farmacias",
          "TM"
         ],
         "y": [
          185,
          74,
          30,
          15,
          9,
          3
         ]
        },
        {
         "name": "San Cristobal",
         "type": "bar",
         "visible": false,
         "x": [
          "SITP",
          "ATMs",
          "Puntos Salud",
          "Bancos",
          "Farmacias",
          "TM"
         ],
         "y": [
          406,
          51,
          19,
          13,
          9,
          3
         ]
        },
        {
         "name": "Usme",
         "type": "bar",
         "visible": false,
         "x": [
          "SITP",
          "ATMs",
          "Puntos Salud",
          "Bancos",
          "TM",
          "Farmacias"
         ],
         "y": [
          328,
          36,
          28,
          13,
          1,
          null
         ]
        },
        {
         "name": "Ciudad Bolivar",
         "type": "bar",
         "visible": false,
         "x": [
          "SITP",
          "Puntos Salud",
          "ATMs",
          "Bancos",
          "TM",
          "Farmacias"
         ],
         "y": [
          570,
          140,
          58,
          8,
          2,
          1
         ]
        },
        {
         "name": "Rafael Uribe Uribe",
         "type": "bar",
         "visible": false,
         "x": [
          "SITP",
          "Puntos Salud",
          "ATMs",
          "TM",
          "Bancos",
          "Farmacias"
         ],
         "y": [
          308,
          75,
          42,
          8,
          6,
          null
         ]
        }
       ],
       "layout": {
        "autosize": true,
        "template": {
         "data": {
          "bar": [
           {
            "error_x": {
             "color": "#2a3f5f"
            },
            "error_y": {
             "color": "#2a3f5f"
            },
            "marker": {
             "line": {
              "color": "#E5ECF6",
              "width": 0.5
             },
             "pattern": {
              "fillmode": "overlay",
              "size": 10,
              "solidity": 0.2
             }
            },
            "type": "bar"
           }
          ],
          "barpolar": [
           {
            "marker": {
             "line": {
              "color": "#E5ECF6",
              "width": 0.5
             },
             "pattern": {
              "fillmode": "overlay",
              "size": 10,
              "solidity": 0.2
             }
            },
            "type": "barpolar"
           }
          ],
          "carpet": [
           {
            "aaxis": {
             "endlinecolor": "#2a3f5f",
             "gridcolor": "white",
             "linecolor": "white",
             "minorgridcolor": "white",
             "startlinecolor": "#2a3f5f"
            },
            "baxis": {
             "endlinecolor": "#2a3f5f",
             "gridcolor": "white",
             "linecolor": "white",
             "minorgridcolor": "white",
             "startlinecolor": "#2a3f5f"
            },
            "type": "carpet"
           }
          ],
          "choropleth": [
           {
            "colorbar": {
             "outlinewidth": 0,
             "ticks": ""
            },
            "type": "choropleth"
           }
          ],
          "contour": [
           {
            "colorbar": {
             "outlinewidth": 0,
             "ticks": ""
            },
            "colorscale": [
             [
              0,
              "#0d0887"
             ],
             [
              0.1111111111111111,
              "#46039f"
             ],
             [
              0.2222222222222222,
              "#7201a8"
             ],
             [
              0.3333333333333333,
              "#9c179e"
             ],
             [
              0.4444444444444444,
              "#bd3786"
             ],
             [
              0.5555555555555556,
              "#d8576b"
             ],
             [
              0.6666666666666666,
              "#ed7953"
             ],
             [
              0.7777777777777778,
              "#fb9f3a"
             ],
             [
              0.8888888888888888,
              "#fdca26"
             ],
             [
              1,
              "#f0f921"
             ]
            ],
            "type": "contour"
           }
          ],
          "contourcarpet": [
           {
            "colorbar": {
             "outlinewidth": 0,
             "ticks": ""
            },
            "type": "contourcarpet"
           }
          ],
          "heatmap": [
           {
            "colorbar": {
             "outlinewidth": 0,
             "ticks": ""
            },
            "colorscale": [
             [
              0,
              "#0d0887"
             ],
             [
              0.1111111111111111,
              "#46039f"
             ],
             [
              0.2222222222222222,
              "#7201a8"
             ],
             [
              0.3333333333333333,
              "#9c179e"
             ],
             [
              0.4444444444444444,
              "#bd3786"
             ],
             [
              0.5555555555555556,
              "#d8576b"
             ],
             [
              0.6666666666666666,
              "#ed7953"
             ],
             [
              0.7777777777777778,
              "#fb9f3a"
             ],
             [
              0.8888888888888888,
              "#fdca26"
             ],
             [
              1,
              "#f0f921"
             ]
            ],
            "type": "heatmap"
           }
          ],
          "heatmapgl": [
           {
            "colorbar": {
             "outlinewidth": 0,
             "ticks": ""
            },
            "colorscale": [
             [
              0,
              "#0d0887"
             ],
             [
              0.1111111111111111,
              "#46039f"
             ],
             [
              0.2222222222222222,
              "#7201a8"
             ],
             [
              0.3333333333333333,
              "#9c179e"
             ],
             [
              0.4444444444444444,
              "#bd3786"
             ],
             [
              0.5555555555555556,
              "#d8576b"
             ],
             [
              0.6666666666666666,
              "#ed7953"
             ],
             [
              0.7777777777777778,
              "#fb9f3a"
             ],
             [
              0.8888888888888888,
              "#fdca26"
             ],
             [
              1,
              "#f0f921"
             ]
            ],
            "type": "heatmapgl"
           }
          ],
          "histogram": [
           {
            "marker": {
             "pattern": {
              "fillmode": "overlay",
              "size": 10,
              "solidity": 0.2
             }
            },
            "type": "histogram"
           }
          ],
          "histogram2d": [
           {
            "colorbar": {
             "outlinewidth": 0,
             "ticks": ""
            },
            "colorscale": [
             [
              0,
              "#0d0887"
             ],
             [
              0.1111111111111111,
              "#46039f"
             ],
             [
              0.2222222222222222,
              "#7201a8"
             ],
             [
              0.3333333333333333,
              "#9c179e"
             ],
             [
              0.4444444444444444,
              "#bd3786"
             ],
             [
              0.5555555555555556,
              "#d8576b"
             ],
             [
              0.6666666666666666,
              "#ed7953"
             ],
             [
              0.7777777777777778,
              "#fb9f3a"
             ],
             [
              0.8888888888888888,
              "#fdca26"
             ],
             [
              1,
              "#f0f921"
             ]
            ],
            "type": "histogram2d"
           }
          ],
          "histogram2dcontour": [
           {
            "colorbar": {
             "outlinewidth": 0,
             "ticks": ""
            },
            "colorscale": [
             [
              0,
              "#0d0887"
             ],
             [
              0.1111111111111111,
              "#46039f"
             ],
             [
              0.2222222222222222,
              "#7201a8"
             ],
             [
              0.3333333333333333,
              "#9c179e"
             ],
             [
              0.4444444444444444,
              "#bd3786"
             ],
             [
              0.5555555555555556,
              "#d8576b"
             ],
             [
              0.6666666666666666,
              "#ed7953"
             ],
             [
              0.7777777777777778,
              "#fb9f3a"
             ],
             [
              0.8888888888888888,
              "#fdca26"
             ],
             [
              1,
              "#f0f921"
             ]
            ],
            "type": "histogram2dcontour"
           }
          ],
          "mesh3d": [
           {
            "colorbar": {
             "outlinewidth": 0,
             "ticks": ""
            },
            "type": "mesh3d"
           }
          ],
          "parcoords": [
           {
            "line": {
             "colorbar": {
              "outlinewidth": 0,
              "ticks": ""
             }
            },
            "type": "parcoords"
           }
          ],
          "pie": [
           {
            "automargin": true,
            "type": "pie"
           }
          ],
          "scatter": [
           {
            "fillpattern": {
             "fillmode": "overlay",
             "size": 10,
             "solidity": 0.2
            },
            "type": "scatter"
           }
          ],
          "scatter3d": [
           {
            "line": {
             "colorbar": {
              "outlinewidth": 0,
              "ticks": ""
             }
            },
            "marker": {
             "colorbar": {
              "outlinewidth": 0,
              "ticks": ""
             }
            },
            "type": "scatter3d"
           }
          ],
          "scattercarpet": [
           {
            "marker": {
             "colorbar": {
              "outlinewidth": 0,
              "ticks": ""
             }
            },
            "type": "scattercarpet"
           }
          ],
          "scattergeo": [
           {
            "marker": {
             "colorbar": {
              "outlinewidth": 0,
              "ticks": ""
             }
            },
            "type": "scattergeo"
           }
          ],
          "scattergl": [
           {
            "marker": {
             "colorbar": {
              "outlinewidth": 0,
              "ticks": ""
             }
            },
            "type": "scattergl"
           }
          ],
          "scattermapbox": [
           {
            "marker": {
             "colorbar": {
              "outlinewidth": 0,
              "ticks": ""
             }
            },
            "type": "scattermapbox"
           }
          ],
          "scatterpolar": [
           {
            "marker": {
             "colorbar": {
              "outlinewidth": 0,
              "ticks": ""
             }
            },
            "type": "scatterpolar"
           }
          ],
          "scatterpolargl": [
           {
            "marker": {
             "colorbar": {
              "outlinewidth": 0,
              "ticks": ""
             }
            },
            "type": "scatterpolargl"
           }
          ],
          "scatterternary": [
           {
            "marker": {
             "colorbar": {
              "outlinewidth": 0,
              "ticks": ""
             }
            },
            "type": "scatterternary"
           }
          ],
          "surface": [
           {
            "colorbar": {
             "outlinewidth": 0,
             "ticks": ""
            },
            "colorscale": [
             [
              0,
              "#0d0887"
             ],
             [
              0.1111111111111111,
              "#46039f"
             ],
             [
              0.2222222222222222,
              "#7201a8"
             ],
             [
              0.3333333333333333,
              "#9c179e"
             ],
             [
              0.4444444444444444,
              "#bd3786"
             ],
             [
              0.5555555555555556,
              "#d8576b"
             ],
             [
              0.6666666666666666,
              "#ed7953"
             ],
             [
              0.7777777777777778,
              "#fb9f3a"
             ],
             [
              0.8888888888888888,
              "#fdca26"
             ],
             [
              1,
              "#f0f921"
             ]
            ],
            "type": "surface"
           }
          ],
          "table": [
           {
            "cells": {
             "fill": {
              "color": "#EBF0F8"
             },
             "line": {
              "color": "white"
             }
            },
            "header": {
             "fill": {
              "color": "#C8D4E3"
             },
             "line": {
              "color": "white"
             }
            },
            "type": "table"
           }
          ]
         },
         "layout": {
          "annotationdefaults": {
           "arrowcolor": "#2a3f5f",
           "arrowhead": 0,
           "arrowwidth": 1
          },
          "autotypenumbers": "strict",
          "coloraxis": {
           "colorbar": {
            "outlinewidth": 0,
            "ticks": ""
           }
          },
          "colorscale": {
           "diverging": [
            [
             0,
             "#8e0152"
            ],
            [
             0.1,
             "#c51b7d"
            ],
            [
             0.2,
             "#de77ae"
            ],
            [
             0.3,
             "#f1b6da"
            ],
            [
             0.4,
             "#fde0ef"
            ],
            [
             0.5,
             "#f7f7f7"
            ],
            [
             0.6,
             "#e6f5d0"
            ],
            [
             0.7,
             "#b8e186"
            ],
            [
             0.8,
             "#7fbc41"
            ],
            [
             0.9,
             "#4d9221"
            ],
            [
             1,
             "#276419"
            ]
           ],
           "sequential": [
            [
             0,
             "#0d0887"
            ],
            [
             0.1111111111111111,
             "#46039f"
            ],
            [
             0.2222222222222222,
             "#7201a8"
            ],
            [
             0.3333333333333333,
             "#9c179e"
            ],
            [
             0.4444444444444444,
             "#bd3786"
            ],
            [
             0.5555555555555556,
             "#d8576b"
            ],
            [
             0.6666666666666666,
             "#ed7953"
            ],
            [
             0.7777777777777778,
             "#fb9f3a"
            ],
            [
             0.8888888888888888,
             "#fdca26"
            ],
            [
             1,
             "#f0f921"
            ]
           ],
           "sequentialminus": [
            [
             0,
             "#0d0887"
            ],
            [
             0.1111111111111111,
             "#46039f"
            ],
            [
             0.2222222222222222,
             "#7201a8"
            ],
            [
             0.3333333333333333,
             "#9c179e"
            ],
            [
             0.4444444444444444,
             "#bd3786"
            ],
            [
             0.5555555555555556,
             "#d8576b"
            ],
            [
             0.6666666666666666,
             "#ed7953"
            ],
            [
             0.7777777777777778,
             "#fb9f3a"
            ],
            [
             0.8888888888888888,
             "#fdca26"
            ],
            [
             1,
             "#f0f921"
            ]
           ]
          },
          "colorway": [
           "#636efa",
           "#EF553B",
           "#00cc96",
           "#ab63fa",
           "#FFA15A",
           "#19d3f3",
           "#FF6692",
           "#B6E880",
           "#FF97FF",
           "#FECB52"
          ],
          "font": {
           "color": "#2a3f5f"
          },
          "geo": {
           "bgcolor": "white",
           "lakecolor": "white",
           "landcolor": "#E5ECF6",
           "showlakes": true,
           "showland": true,
           "subunitcolor": "white"
          },
          "hoverlabel": {
           "align": "left"
          },
          "hovermode": "closest",
          "mapbox": {
           "style": "light"
          },
          "paper_bgcolor": "white",
          "plot_bgcolor": "#E5ECF6",
          "polar": {
           "angularaxis": {
            "gridcolor": "white",
            "linecolor": "white",
            "ticks": ""
           },
           "bgcolor": "#E5ECF6",
           "radialaxis": {
            "gridcolor": "white",
            "linecolor": "white",
            "ticks": ""
           }
          },
          "scene": {
           "xaxis": {
            "backgroundcolor": "#E5ECF6",
            "gridcolor": "white",
            "gridwidth": 2,
            "linecolor": "white",
            "showbackground": true,
            "ticks": "",
            "zerolinecolor": "white"
           },
           "yaxis": {
            "backgroundcolor": "#E5ECF6",
            "gridcolor": "white",
            "gridwidth": 2,
            "linecolor": "white",
            "showbackground": true,
            "ticks": "",
            "zerolinecolor": "white"
           },
           "zaxis": {
            "backgroundcolor": "#E5ECF6",
            "gridcolor": "white",
            "gridwidth": 2,
            "linecolor": "white",
            "showbackground": true,
            "ticks": "",
            "zerolinecolor": "white"
           }
          },
          "shapedefaults": {
           "line": {
            "color": "#2a3f5f"
           }
          },
          "ternary": {
           "aaxis": {
            "gridcolor": "white",
            "linecolor": "white",
            "ticks": ""
           },
           "baxis": {
            "gridcolor": "white",
            "linecolor": "white",
            "ticks": ""
           },
           "bgcolor": "#E5ECF6",
           "caxis": {
            "gridcolor": "white",
            "linecolor": "white",
            "ticks": ""
           }
          },
          "title": {
           "x": 0.05
          },
          "xaxis": {
           "automargin": true,
           "gridcolor": "white",
           "linecolor": "white",
           "ticks": "",
           "title": {
            "standoff": 15
           },
           "zerolinecolor": "white",
           "zerolinewidth": 2
          },
          "yaxis": {
           "automargin": true,
           "gridcolor": "white",
           "linecolor": "white",
           "ticks": "",
           "title": {
            "standoff": 15
           },
           "zerolinecolor": "white",
           "zerolinewidth": 2
          }
         }
        },
        "title": {
         "text": "Chapinero"
        },
        "updatemenus": [
         {
          "active": 2,
          "buttons": [
           {
            "args": [
             {
              "visible": [
               false,
               false,
               false,
               false,
               false,
               false,
               false,
               false,
               false,
               false,
               false,
               false,
               false,
               false,
               false,
               false,
               false,
               false,
               false
              ]
             },
             {
              "title": "None"
             },
             {
              "showlegend": true
             }
            ],
            "label": "None",
            "method": "update"
           },
           {
            "args": [
             {
              "visible": [
               true,
               true,
               true,
               true,
               true,
               true,
               true,
               true,
               true,
               true,
               true,
               true,
               true,
               true,
               true,
               true,
               true,
               true,
               true
              ]
             },
             {
              "title": "All"
             },
             {
              "showlegend": true
             }
            ],
            "label": "All",
            "method": "update"
           },
           {
            "args": [
             {
              "visible": [
               true,
               false,
               false,
               false,
               false,
               false,
               false,
               false,
               false,
               false,
               false,
               false,
               false,
               false,
               false,
               false,
               false,
               false,
               false
              ]
             },
             {
              "title": "Chapinero"
             },
             {
              "showlegend": true
             }
            ],
            "label": "Chapinero",
            "method": "update"
           },
           {
            "args": [
             {
              "visible": [
               false,
               true,
               false,
               false,
               false,
               false,
               false,
               false,
               false,
               false,
               false,
               false,
               false,
               false,
               false,
               false,
               false,
               false,
               false
              ]
             },
             {
              "title": "Usaquén"
             },
             {
              "showlegend": true
             }
            ],
            "label": "Usaquén",
            "method": "update"
           },
           {
            "args": [
             {
              "visible": [
               false,
               false,
               true,
               false,
               false,
               false,
               false,
               false,
               false,
               false,
               false,
               false,
               false,
               false,
               false,
               false,
               false,
               false,
               false
              ]
             },
             {
              "title": "Santa Fe"
             },
             {
              "showlegend": true
             }
            ],
            "label": "Santa Fe",
            "method": "update"
           },
           {
            "args": [
             {
              "visible": [
               false,
               false,
               false,
               true,
               false,
               false,
               false,
               false,
               false,
               false,
               false,
               false,
               false,
               false,
               false,
               false,
               false,
               false,
               false
              ]
             },
             {
              "title": "Suba"
             },
             {
              "showlegend": true
             }
            ],
            "label": "Suba",
            "method": "update"
           },
           {
            "args": [
             {
              "visible": [
               false,
               false,
               false,
               false,
               true,
               false,
               false,
               false,
               false,
               false,
               false,
               false,
               false,
               false,
               false,
               false,
               false,
               false,
               false
              ]
             },
             {
              "title": "Kennedy"
             },
             {
              "showlegend": true
             }
            ],
            "label": "Kennedy",
            "method": "update"
           },
           {
            "args": [
             {
              "visible": [
               false,
               false,
               false,
               false,
               false,
               true,
               false,
               false,
               false,
               false,
               false,
               false,
               false,
               false,
               false,
               false,
               false,
               false,
               false
              ]
             },
             {
              "title": "Teusaquillo"
             },
             {
              "showlegend": true
             }
            ],
            "label": "Teusaquillo",
            "method": "update"
           },
           {
            "args": [
             {
              "visible": [
               false,
               false,
               false,
               false,
               false,
               false,
               true,
               false,
               false,
               false,
               false,
               false,
               false,
               false,
               false,
               false,
               false,
               false,
               false
              ]
             },
             {
              "title": "Engativá"
             },
             {
              "showlegend": true
             }
            ],
            "label": "Engativá",
            "method": "update"
           },
           {
            "args": [
             {
              "visible": [
               false,
               false,
               false,
               false,
               false,
               false,
               false,
               true,
               false,
               false,
               false,
               false,
               false,
               false,
               false,
               false,
               false,
               false,
               false
              ]
             },
             {
              "title": "Fontibón"
             },
             {
              "showlegend": true
             }
            ],
            "label": "Fontibón",
            "method": "update"
           },
           {
            "args": [
             {
              "visible": [
               false,
               false,
               false,
               false,
               false,
               false,
               false,
               false,
               true,
               false,
               false,
               false,
               false,
               false,
               false,
               false,
               false,
               false,
               false
              ]
             },
             {
              "title": "Puente Aranda"
             },
             {
              "showlegend": true
             }
            ],
            "label": "Puente Aranda",
            "method": "update"
           },
           {
            "args": [
             {
              "visible": [
               false,
               false,
               false,
               false,
               false,
               false,
               false,
               false,
               false,
               true,
               false,
               false,
               false,
               false,
               false,
               false,
               false,
               false,
               false
              ]
             },
             {
              "title": "Barrios Unidos"
             },
             {
              "showlegend": true
             }
            ],
            "label": "Barrios Unidos",
            "method": "update"
           },
           {
            "args": [
             {
              "visible": [
               false,
               false,
               false,
               false,
               false,
               false,
               false,
               false,
               false,
               false,
               true,
               false,
               false,
               false,
               false,
               false,
               false,
               false,
               false
              ]
             },
             {
              "title": "Los Mártires"
             },
             {
              "showlegend": true
             }
            ],
            "label": "Los Mártires",
            "method": "update"
           },
           {
            "args": [
             {
              "visible": [
               false,
               false,
               false,
               false,
               false,
               false,
               false,
               false,
               false,
               false,
               false,
               true,
               false,
               false,
               false,
               false,
               false,
               false,
               false
              ]
             },
             {
              "title": "Antonio Nariño"
             },
             {
              "showlegend": true
             }
            ],
            "label": "Antonio Nariño",
            "method": "update"
           },
           {
            "args": [
             {
              "visible": [
               false,
               false,
               false,
               false,
               false,
               false,
               false,
               false,
               false,
               false,
               false,
               false,
               true,
               false,
               false,
               false,
               false,
               false,
               false
              ]
             },
             {
              "title": "La Candelaria"
             },
             {
              "showlegend": true
             }
            ],
            "label": "La Candelaria",
            "method": "update"
           },
           {
            "args": [
             {
              "visible": [
               false,
               false,
               false,
               false,
               false,
               false,
               false,
               false,
               false,
               false,
               false,
               false,
               false,
               true,
               false,
               false,
               false,
               false,
               false
              ]
             },
             {
              "title": "Bosa"
             },
             {
              "showlegend": true
             }
            ],
            "label": "Bosa",
            "method": "update"
           },
           {
            "args": [
             {
              "visible": [
               false,
               false,
               false,
               false,
               false,
               false,
               false,
               false,
               false,
               false,
               false,
               false,
               false,
               false,
               true,
               false,
               false,
               false,
               false
              ]
             },
             {
              "title": "Tunjuelito"
             },
             {
              "showlegend": true
             }
            ],
            "label": "Tunjuelito",
            "method": "update"
           },
           {
            "args": [
             {
              "visible": [
               false,
               false,
               false,
               false,
               false,
               false,
               false,
               false,
               false,
               false,
               false,
               false,
               false,
               false,
               false,
               true,
               false,
               false,
               false
              ]
             },
             {
              "title": "San Cristobal"
             },
             {
              "showlegend": true
             }
            ],
            "label": "San Cristobal",
            "method": "update"
           },
           {
            "args": [
             {
              "visible": [
               false,
               false,
               false,
               false,
               false,
               false,
               false,
               false,
               false,
               false,
               false,
               false,
               false,
               false,
               false,
               false,
               true,
               false,
               false
              ]
             },
             {
              "title": "Usme"
             },
             {
              "showlegend": true
             }
            ],
            "label": "Usme",
            "method": "update"
           },
           {
            "args": [
             {
              "visible": [
               false,
               false,
               false,
               false,
               false,
               false,
               false,
               false,
               false,
               false,
               false,
               false,
               false,
               false,
               false,
               false,
               false,
               true,
               false
              ]
             },
             {
              "title": "Ciudad Bolivar"
             },
             {
              "showlegend": true
             }
            ],
            "label": "Ciudad Bolivar",
            "method": "update"
           },
           {
            "args": [
             {
              "visible": [
               false,
               false,
               false,
               false,
               false,
               false,
               false,
               false,
               false,
               false,
               false,
               false,
               false,
               false,
               false,
               false,
               false,
               false,
               true
              ]
             },
             {
              "title": "Rafael Uribe Uribe"
             },
             {
              "showlegend": true
             }
            ],
            "label": "Rafael Uribe Uribe",
            "method": "update"
           }
          ]
         }
        ],
        "xaxis": {
         "autorange": true,
         "range": [
          -0.5,
          5.5
         ],
         "title": {
          "text": "Servicio"
         },
         "type": "category"
        },
        "yaxis": {
         "autorange": true,
         "range": [
          0,
          452.63157894736844
         ],
         "type": "linear"
        }
       }
      },
      "image/png": "[encoded data removed]",
      "text/html": [
       "<div>                            <div id=\"9eea8c93-96f4-4df6-b202-d116cf563cf1\" class=\"plotly-graph-div\" style=\"height:525px; width:100%;\"></div>            <script type=\"text/javascript\">                require([\"plotly\"], function(Plotly) {                    window.PLOTLYENV=window.PLOTLYENV || {};                                    if (document.getElementById(\"9eea8c93-96f4-4df6-b202-d116cf563cf1\")) {                    Plotly.newPlot(                        \"9eea8c93-96f4-4df6-b202-d116cf563cf1\",                        [{\"name\":\"Chapinero\",\"x\":[\"ATMs\",\"SITP\",\"Puntos Salud\",\"Bancos\",\"Farmacias\",\"TM\"],\"y\":[430.0,325.0,167.0,138.0,21.0,10.0],\"type\":\"bar\",\"visible\":false},{\"name\":\"Usaqu\\u00e9n\",\"x\":[\"SITP\",\"ATMs\",\"Puntos Salud\",\"Bancos\",\"Farmacias\",\"TM\"],\"y\":[698.0,428.0,291.0,103.0,40.0,13.0],\"type\":\"bar\",\"visible\":false},{\"name\":\"Santa Fe\",\"x\":[\"ATMs\",\"SITP\",\"Bancos\",\"Puntos Salud\",\"TM\",\"Farmacias\"],\"y\":[234.0,189.0,90.0,31.0,13.0,10.0],\"type\":\"bar\",\"visible\":false},{\"name\":\"Suba\",\"x\":[\"SITP\",\"ATMs\",\"Puntos Salud\",\"Bancos\",\"Farmacias\",\"TM\"],\"y\":[826.0,373.0,202.0,73.0,12.0,11.0],\"type\":\"bar\",\"visible\":false},{\"name\":\"Kennedy\",\"x\":[\"SITP\",\"ATMs\",\"Puntos Salud\",\"Bancos\",\"TM\",\"Farmacias\"],\"y\":[932.0,220.0,73.0,63.0,10.0,4.0],\"type\":\"bar\",\"visible\":false},{\"name\":\"Teusaquillo\",\"x\":[\"SITP\",\"ATMs\",\"Puntos Salud\",\"Bancos\",\"Farmacias\",\"TM\"],\"y\":[272.0,218.0,123.0,57.0,13.0,13.0],\"type\":\"bar\",\"visible\":false},{\"name\":\"Engativ\\u00e1\",\"x\":[\"SITP\",\"ATMs\",\"Puntos Salud\",\"Bancos\",\"Farmacias\",\"TM\"],\"y\":[775.0,309.0,107.0,54.0,15.0,13.0],\"type\":\"bar\",\"visible\":false},{\"name\":\"Fontib\\u00f3n\",\"x\":[\"SITP\",\"ATMs\",\"Puntos Salud\",\"Bancos\",\"Farmacias\",\"TM\"],\"y\":[393.0,228.0,76.0,54.0,14.0,1.0],\"type\":\"bar\",\"visible\":false},{\"name\":\"Puente Aranda\",\"x\":[\"SITP\",\"ATMs\",\"Bancos\",\"Puntos Salud\",\"TM\",\"Farmacias\"],\"y\":[377.0,185.0,51.0,38.0,14.0,6.0],\"type\":\"bar\",\"visible\":false},{\"name\":\"Barrios Unidos\",\"x\":[\"SITP\",\"ATMs\",\"Puntos Salud\",\"Bancos\",\"TM\",\"Farmacias\"],\"y\":[219.0,147.0,88.0,38.0,12.0,5.0],\"type\":\"bar\",\"visible\":false},{\"name\":\"Los M\\u00e1rtires\",\"x\":[\"SITP\",\"ATMs\",\"Bancos\",\"Puntos Salud\",\"TM\",\"Farmacias\"],\"y\":[166.0,119.0,37.0,24.0,10.0,5.0],\"type\":\"bar\",\"visible\":false},{\"name\":\"Antonio Nari\\u00f1o\",\"x\":[\"SITP\",\"ATMs\",\"Puntos Salud\",\"Bancos\",\"TM\",\"Farmacias\"],\"y\":[99.0,87.0,61.0,25.0,5.0,3.0],\"type\":\"bar\",\"visible\":false},{\"name\":\"La Candelaria\",\"x\":[\"ATMs\",\"SITP\",\"Bancos\",\"Puntos Salud\",\"TM\",\"Farmacias\"],\"y\":[65.0,36.0,24.0,4.0,1.0,null],\"type\":\"bar\",\"visible\":false},{\"name\":\"Bosa\",\"x\":[\"SITP\",\"ATMs\",\"Puntos Salud\",\"Bancos\",\"Farmacias\",\"TM\"],\"y\":[499.0,64.0,20.0,17.0,9.0,2.0],\"type\":\"bar\",\"visible\":false},{\"name\":\"Tunjuelito\",\"x\":[\"SITP\",\"ATMs\",\"Puntos Salud\",\"Bancos\",\"Farmacias\",\"TM\"],\"y\":[185.0,74.0,30.0,15.0,9.0,3.0],\"type\":\"bar\",\"visible\":false},{\"name\":\"San Cristobal\",\"x\":[\"SITP\",\"ATMs\",\"Puntos Salud\",\"Bancos\",\"Farmacias\",\"TM\"],\"y\":[406.0,51.0,19.0,13.0,9.0,3.0],\"type\":\"bar\",\"visible\":false},{\"name\":\"Usme\",\"x\":[\"SITP\",\"ATMs\",\"Puntos Salud\",\"Bancos\",\"TM\",\"Farmacias\"],\"y\":[328.0,36.0,28.0,13.0,1.0,null],\"type\":\"bar\",\"visible\":false},{\"name\":\"Ciudad Bolivar\",\"x\":[\"SITP\",\"Puntos Salud\",\"ATMs\",\"Bancos\",\"TM\",\"Farmacias\"],\"y\":[570.0,140.0,58.0,8.0,2.0,1.0],\"type\":\"bar\",\"visible\":false},{\"name\":\"Rafael Uribe Uribe\",\"x\":[\"SITP\",\"Puntos Salud\",\"ATMs\",\"TM\",\"Bancos\",\"Farmacias\"],\"y\":[308.0,75.0,42.0,8.0,6.0,null],\"type\":\"bar\",\"visible\":false}],                        {\"template\":{\"data\":{\"histogram2dcontour\":[{\"type\":\"histogram2dcontour\",\"colorbar\":{\"outlinewidth\":0,\"ticks\":\"\"},\"colorscale\":[[0.0,\"#0d0887\"],[0.1111111111111111,\"#46039f\"],[0.2222222222222222,\"#7201a8\"],[0.3333333333333333,\"#9c179e\"],[0.4444444444444444,\"#bd3786\"],[0.5555555555555556,\"#d8576b\"],[0.6666666666666666,\"#ed7953\"],[0.7777777777777778,\"#fb9f3a\"],[0.8888888888888888,\"#fdca26\"],[1.0,\"#f0f921\"]]}],\"choropleth\":[{\"type\":\"choropleth\",\"colorbar\":{\"outlinewidth\":0,\"ticks\":\"\"}}],\"histogram2d\":[{\"type\":\"histogram2d\",\"colorbar\":{\"outlinewidth\":0,\"ticks\":\"\"},\"colorscale\":[[0.0,\"#0d0887\"],[0.1111111111111111,\"#46039f\"],[0.2222222222222222,\"#7201a8\"],[0.3333333333333333,\"#9c179e\"],[0.4444444444444444,\"#bd3786\"],[0.5555555555555556,\"#d8576b\"],[0.6666666666666666,\"#ed7953\"],[0.7777777777777778,\"#fb9f3a\"],[0.8888888888888888,\"#fdca26\"],[1.0,\"#f0f921\"]]}],\"heatmap\":[{\"type\":\"heatmap\",\"colorbar\":{\"outlinewidth\":0,\"ticks\":\"\"},\"colorscale\":[[0.0,\"#0d0887\"],[0.1111111111111111,\"#46039f\"],[0.2222222222222222,\"#7201a8\"],[0.3333333333333333,\"#9c179e\"],[0.4444444444444444,\"#bd3786\"],[0.5555555555555556,\"#d8576b\"],[0.6666666666666666,\"#ed7953\"],[0.7777777777777778,\"#fb9f3a\"],[0.8888888888888888,\"#fdca26\"],[1.0,\"#f0f921\"]]}],\"heatmapgl\":[{\"type\":\"heatmapgl\",\"colorbar\":{\"outlinewidth\":0,\"ticks\":\"\"},\"colorscale\":[[0.0,\"#0d0887\"],[0.1111111111111111,\"#46039f\"],[0.2222222222222222,\"#7201a8\"],[0.3333333333333333,\"#9c179e\"],[0.4444444444444444,\"#bd3786\"],[0.5555555555555556,\"#d8576b\"],[0.6666666666666666,\"#ed7953\"],[0.7777777777777778,\"#fb9f3a\"],[0.8888888888888888,\"#fdca26\"],[1.0,\"#f0f921\"]]}],\"contourcarpet\":[{\"type\":\"contourcarpet\",\"colorbar\":{\"outlinewidth\":0,\"ticks\":\"\"}}],\"contour\":[{\"type\":\"contour\",\"colorbar\":{\"outlinewidth\":0,\"ticks\":\"\"},\"colorscale\":[[0.0,\"#0d0887\"],[0.1111111111111111,\"#46039f\"],[0.2222222222222222,\"#7201a8\"],[0.3333333333333333,\"#9c179e\"],[0.4444444444444444,\"#bd3786\"],[0.5555555555555556,\"#d8576b\"],[0.6666666666666666,\"#ed7953\"],[0.7777777777777778,\"#fb9f3a\"],[0.8888888888888888,\"#fdca26\"],[1.0,\"#f0f921\"]]}],\"surface\":[{\"type\":\"surface\",\"colorbar\":{\"outlinewidth\":0,\"ticks\":\"\"},\"colorscale\":[[0.0,\"#0d0887\"],[0.1111111111111111,\"#46039f\"],[0.2222222222222222,\"#7201a8\"],[0.3333333333333333,\"#9c179e\"],[0.4444444444444444,\"#bd3786\"],[0.5555555555555556,\"#d8576b\"],[0.6666666666666666,\"#ed7953\"],[0.7777777777777778,\"#fb9f3a\"],[0.8888888888888888,\"#fdca26\"],[1.0,\"#f0f921\"]]}],\"mesh3d\":[{\"type\":\"mesh3d\",\"colorbar\":{\"outlinewidth\":0,\"ticks\":\"\"}}],\"scatter\":[{\"fillpattern\":{\"fillmode\":\"overlay\",\"size\":10,\"solidity\":0.2},\"type\":\"scatter\"}],\"parcoords\":[{\"type\":\"parcoords\",\"line\":{\"colorbar\":{\"outlinewidth\":0,\"ticks\":\"\"}}}],\"scatterpolargl\":[{\"type\":\"scatterpolargl\",\"marker\":{\"colorbar\":{\"outlinewidth\":0,\"ticks\":\"\"}}}],\"bar\":[{\"error_x\":{\"color\":\"#2a3f5f\"},\"error_y\":{\"color\":\"#2a3f5f\"},\"marker\":{\"line\":{\"color\":\"#E5ECF6\",\"width\":0.5},\"pattern\":{\"fillmode\":\"overlay\",\"size\":10,\"solidity\":0.2}},\"type\":\"bar\"}],\"scattergeo\":[{\"type\":\"scattergeo\",\"marker\":{\"colorbar\":{\"outlinewidth\":0,\"ticks\":\"\"}}}],\"scatterpolar\":[{\"type\":\"scatterpolar\",\"marker\":{\"colorbar\":{\"outlinewidth\":0,\"ticks\":\"\"}}}],\"histogram\":[{\"marker\":{\"pattern\":{\"fillmode\":\"overlay\",\"size\":10,\"solidity\":0.2}},\"type\":\"histogram\"}],\"scattergl\":[{\"type\":\"scattergl\",\"marker\":{\"colorbar\":{\"outlinewidth\":0,\"ticks\":\"\"}}}],\"scatter3d\":[{\"type\":\"scatter3d\",\"line\":{\"colorbar\":{\"outlinewidth\":0,\"ticks\":\"\"}},\"marker\":{\"colorbar\":{\"outlinewidth\":0,\"ticks\":\"\"}}}],\"scattermapbox\":[{\"type\":\"scattermapbox\",\"marker\":{\"colorbar\":{\"outlinewidth\":0,\"ticks\":\"\"}}}],\"scatterternary\":[{\"type\":\"scatterternary\",\"marker\":{\"colorbar\":{\"outlinewidth\":0,\"ticks\":\"\"}}}],\"scattercarpet\":[{\"type\":\"scattercarpet\",\"marker\":{\"colorbar\":{\"outlinewidth\":0,\"ticks\":\"\"}}}],\"carpet\":[{\"aaxis\":{\"endlinecolor\":\"#2a3f5f\",\"gridcolor\":\"white\",\"linecolor\":\"white\",\"minorgridcolor\":\"white\",\"startlinecolor\":\"#2a3f5f\"},\"baxis\":{\"endlinecolor\":\"#2a3f5f\",\"gridcolor\":\"white\",\"linecolor\":\"white\",\"minorgridcolor\":\"white\",\"startlinecolor\":\"#2a3f5f\"},\"type\":\"carpet\"}],\"table\":[{\"cells\":{\"fill\":{\"color\":\"#EBF0F8\"},\"line\":{\"color\":\"white\"}},\"header\":{\"fill\":{\"color\":\"#C8D4E3\"},\"line\":{\"color\":\"white\"}},\"type\":\"table\"}],\"barpolar\":[{\"marker\":{\"line\":{\"color\":\"#E5ECF6\",\"width\":0.5},\"pattern\":{\"fillmode\":\"overlay\",\"size\":10,\"solidity\":0.2}},\"type\":\"barpolar\"}],\"pie\":[{\"automargin\":true,\"type\":\"pie\"}]},\"layout\":{\"autotypenumbers\":\"strict\",\"colorway\":[\"#636efa\",\"#EF553B\",\"#00cc96\",\"#ab63fa\",\"#FFA15A\",\"#19d3f3\",\"#FF6692\",\"#B6E880\",\"#FF97FF\",\"#FECB52\"],\"font\":{\"color\":\"#2a3f5f\"},\"hovermode\":\"closest\",\"hoverlabel\":{\"align\":\"left\"},\"paper_bgcolor\":\"white\",\"plot_bgcolor\":\"#E5ECF6\",\"polar\":{\"bgcolor\":\"#E5ECF6\",\"angularaxis\":{\"gridcolor\":\"white\",\"linecolor\":\"white\",\"ticks\":\"\"},\"radialaxis\":{\"gridcolor\":\"white\",\"linecolor\":\"white\",\"ticks\":\"\"}},\"ternary\":{\"bgcolor\":\"#E5ECF6\",\"aaxis\":{\"gridcolor\":\"white\",\"linecolor\":\"white\",\"ticks\":\"\"},\"baxis\":{\"gridcolor\":\"white\",\"linecolor\":\"white\",\"ticks\":\"\"},\"caxis\":{\"gridcolor\":\"white\",\"linecolor\":\"white\",\"ticks\":\"\"}},\"coloraxis\":{\"colorbar\":{\"outlinewidth\":0,\"ticks\":\"\"}},\"colorscale\":{\"sequential\":[[0.0,\"#0d0887\"],[0.1111111111111111,\"#46039f\"],[0.2222222222222222,\"#7201a8\"],[0.3333333333333333,\"#9c179e\"],[0.4444444444444444,\"#bd3786\"],[0.5555555555555556,\"#d8576b\"],[0.6666666666666666,\"#ed7953\"],[0.7777777777777778,\"#fb9f3a\"],[0.8888888888888888,\"#fdca26\"],[1.0,\"#f0f921\"]],\"sequentialminus\":[[0.0,\"#0d0887\"],[0.1111111111111111,\"#46039f\"],[0.2222222222222222,\"#7201a8\"],[0.3333333333333333,\"#9c179e\"],[0.4444444444444444,\"#bd3786\"],[0.5555555555555556,\"#d8576b\"],[0.6666666666666666,\"#ed7953\"],[0.7777777777777778,\"#fb9f3a\"],[0.8888888888888888,\"#fdca26\"],[1.0,\"#f0f921\"]],\"diverging\":[[0,\"#8e0152\"],[0.1,\"#c51b7d\"],[0.2,\"#de77ae\"],[0.3,\"#f1b6da\"],[0.4,\"#fde0ef\"],[0.5,\"#f7f7f7\"],[0.6,\"#e6f5d0\"],[0.7,\"#b8e186\"],[0.8,\"#7fbc41\"],[0.9,\"#4d9221\"],[1,\"#276419\"]]},\"xaxis\":{\"gridcolor\":\"white\",\"linecolor\":\"white\",\"ticks\":\"\",\"title\":{\"standoff\":15},\"zerolinecolor\":\"white\",\"automargin\":true,\"zerolinewidth\":2},\"yaxis\":{\"gridcolor\":\"white\",\"linecolor\":\"white\",\"ticks\":\"\",\"title\":{\"standoff\":15},\"zerolinecolor\":\"white\",\"automargin\":true,\"zerolinewidth\":2},\"scene\":{\"xaxis\":{\"backgroundcolor\":\"#E5ECF6\",\"gridcolor\":\"white\",\"linecolor\":\"white\",\"showbackground\":true,\"ticks\":\"\",\"zerolinecolor\":\"white\",\"gridwidth\":2},\"yaxis\":{\"backgroundcolor\":\"#E5ECF6\",\"gridcolor\":\"white\",\"linecolor\":\"white\",\"showbackground\":true,\"ticks\":\"\",\"zerolinecolor\":\"white\",\"gridwidth\":2},\"zaxis\":{\"backgroundcolor\":\"#E5ECF6\",\"gridcolor\":\"white\",\"linecolor\":\"white\",\"showbackground\":true,\"ticks\":\"\",\"zerolinecolor\":\"white\",\"gridwidth\":2}},\"shapedefaults\":{\"line\":{\"color\":\"#2a3f5f\"}},\"annotationdefaults\":{\"arrowcolor\":\"#2a3f5f\",\"arrowhead\":0,\"arrowwidth\":1},\"geo\":{\"bgcolor\":\"white\",\"landcolor\":\"#E5ECF6\",\"subunitcolor\":\"white\",\"showland\":true,\"showlakes\":true,\"lakecolor\":\"white\"},\"title\":{\"x\":0.05},\"mapbox\":{\"style\":\"light\"}}},\"updatemenus\":[{\"active\":0,\"buttons\":[{\"args\":[{\"visible\":[false,false,false,false,false,false,false,false,false,false,false,false,false,false,false,false,false,false,false]},{\"title\":\"None\"},{\"showlegend\":true}],\"label\":\"None\",\"method\":\"update\"},{\"args\":[{\"visible\":[true,true,true,true,true,true,true,true,true,true,true,true,true,true,true,true,true,true,true]},{\"title\":\"All\"},{\"showlegend\":true}],\"label\":\"All\",\"method\":\"update\"},{\"args\":[{\"visible\":[true,false,false,false,false,false,false,false,false,false,false,false,false,false,false,false,false,false,false]},{\"title\":\"Chapinero\"},{\"showlegend\":true}],\"label\":\"Chapinero\",\"method\":\"update\"},{\"args\":[{\"visible\":[false,true,false,false,false,false,false,false,false,false,false,false,false,false,false,false,false,false,false]},{\"title\":\"Usaqu\\u00e9n\"},{\"showlegend\":true}],\"label\":\"Usaqu\\u00e9n\",\"method\":\"update\"},{\"args\":[{\"visible\":[false,false,true,false,false,false,false,false,false,false,false,false,false,false,false,false,false,false,false]},{\"title\":\"Santa Fe\"},{\"showlegend\":true}],\"label\":\"Santa Fe\",\"method\":\"update\"},{\"args\":[{\"visible\":[false,false,false,true,false,false,false,false,false,false,false,false,false,false,false,false,false,false,false]},{\"title\":\"Suba\"},{\"showlegend\":true}],\"label\":\"Suba\",\"method\":\"update\"},{\"args\":[{\"visible\":[false,false,false,false,true,false,false,false,false,false,false,false,false,false,false,false,false,false,false]},{\"title\":\"Kennedy\"},{\"showlegend\":true}],\"label\":\"Kennedy\",\"method\":\"update\"},{\"args\":[{\"visible\":[false,false,false,false,false,true,false,false,false,false,false,false,false,false,false,false,false,false,false]},{\"title\":\"Teusaquillo\"},{\"showlegend\":true}],\"label\":\"Teusaquillo\",\"method\":\"update\"},{\"args\":[{\"visible\":[false,false,false,false,false,false,true,false,false,false,false,false,false,false,false,false,false,false,false]},{\"title\":\"Engativ\\u00e1\"},{\"showlegend\":true}],\"label\":\"Engativ\\u00e1\",\"method\":\"update\"},{\"args\":[{\"visible\":[false,false,false,false,false,false,false,true,false,false,false,false,false,false,false,false,false,false,false]},{\"title\":\"Fontib\\u00f3n\"},{\"showlegend\":true}],\"label\":\"Fontib\\u00f3n\",\"method\":\"update\"},{\"args\":[{\"visible\":[false,false,false,false,false,false,false,false,true,false,false,false,false,false,false,false,false,false,false]},{\"title\":\"Puente Aranda\"},{\"showlegend\":true}],\"label\":\"Puente Aranda\",\"method\":\"update\"},{\"args\":[{\"visible\":[false,false,false,false,false,false,false,false,false,true,false,false,false,false,false,false,false,false,false]},{\"title\":\"Barrios Unidos\"},{\"showlegend\":true}],\"label\":\"Barrios Unidos\",\"method\":\"update\"},{\"args\":[{\"visible\":[false,false,false,false,false,false,false,false,false,false,true,false,false,false,false,false,false,false,false]},{\"title\":\"Los M\\u00e1rtires\"},{\"showlegend\":true}],\"label\":\"Los M\\u00e1rtires\",\"method\":\"update\"},{\"args\":[{\"visible\":[false,false,false,false,false,false,false,false,false,false,false,true,false,false,false,false,false,false,false]},{\"title\":\"Antonio Nari\\u00f1o\"},{\"showlegend\":true}],\"label\":\"Antonio Nari\\u00f1o\",\"method\":\"update\"},{\"args\":[{\"visible\":[false,false,false,false,false,false,false,false,false,false,false,false,true,false,false,false,false,false,false]},{\"title\":\"La Candelaria\"},{\"showlegend\":true}],\"label\":\"La Candelaria\",\"method\":\"update\"},{\"args\":[{\"visible\":[false,false,false,false,false,false,false,false,false,false,false,false,false,true,false,false,false,false,false]},{\"title\":\"Bosa\"},{\"showlegend\":true}],\"label\":\"Bosa\",\"method\":\"update\"},{\"args\":[{\"visible\":[false,false,false,false,false,false,false,false,false,false,false,false,false,false,true,false,false,false,false]},{\"title\":\"Tunjuelito\"},{\"showlegend\":true}],\"label\":\"Tunjuelito\",\"method\":\"update\"},{\"args\":[{\"visible\":[false,false,false,false,false,false,false,false,false,false,false,false,false,false,false,true,false,false,false]},{\"title\":\"San Cristobal\"},{\"showlegend\":true}],\"label\":\"San Cristobal\",\"method\":\"update\"},{\"args\":[{\"visible\":[false,false,false,false,false,false,false,false,false,false,false,false,false,false,false,false,true,false,false]},{\"title\":\"Usme\"},{\"showlegend\":true}],\"label\":\"Usme\",\"method\":\"update\"},{\"args\":[{\"visible\":[false,false,false,false,false,false,false,false,false,false,false,false,false,false,false,false,false,true,false]},{\"title\":\"Ciudad Bolivar\"},{\"showlegend\":true}],\"label\":\"Ciudad Bolivar\",\"method\":\"update\"},{\"args\":[{\"visible\":[false,false,false,false,false,false,false,false,false,false,false,false,false,false,false,false,false,false,true]},{\"title\":\"Rafael Uribe Uribe\"},{\"showlegend\":true}],\"label\":\"Rafael Uribe Uribe\",\"method\":\"update\"}]}],\"xaxis\":{\"title\":{\"text\":\"Servicio\"}}},                        {\"responsive\": true}                    ).then(function(){\n",
       "                            \n",
       "var gd = document.getElementById('9eea8c93-96f4-4df6-b202-d116cf563cf1');\n",
       "var x = new MutationObserver(function (mutations, observer) {{\n",
       "        var display = window.getComputedStyle(gd).display;\n",
       "        if (!display || display === 'none') {{\n",
       "            console.log([gd, 'removed!']);\n",
       "            Plotly.purge(gd);\n",
       "            observer.disconnect();\n",
       "        }}\n",
       "}});\n",
       "\n",
       "// Listen for the removal of the full notebook cells\n",
       "var notebookContainer = gd.closest('#notebook-container');\n",
       "if (notebookContainer) {{\n",
       "    x.observe(notebookContainer, {childList: true});\n",
       "}}\n",
       "\n",
       "// Listen for the clearing of the current output cell\n",
       "var outputEl = gd.closest('.output');\n",
       "if (outputEl) {{\n",
       "    x.observe(outputEl, {childList: true});\n",
       "}}\n",
       "\n",
       "                        })                };                });            </script>        </div>"
      ]
     },
     "metadata": {},
     "output_type": "display_data"
    }
   ],
   "source": [
    "import plotly.graph_objects as go\n",
    "import plotly.io as pio\n",
    "\n",
    "fig = go.Figure()\n",
    "\n",
    "Localidades = DF.index.tolist()\n",
    "\n",
    "for Localidad in DF.index:\n",
    "    \n",
    "    DF2 = DF.loc[Localidad].to_frame().sort_values(by=Localidad,ascending=False).reset_index()\n",
    "    fig.add_trace(go.Bar(x=DF2['index'],y=DF2[Localidad],name=Localidad))\n",
    "    #fig.Layout(xaxis_title='Servicio')\n",
    "\n",
    "VisibleAll = [True]*len(DF)\n",
    "VisibleNone = [False]*len(DF)\n",
    "\n",
    "ConfigButtons = [dict(label = 'None',\n",
    "                     method = 'update',\n",
    "                     args = [{'visible':VisibleNone},\n",
    "                             {'title':'None'},\n",
    "                             {'showlegend':True}])]\n",
    "\n",
    "ConfigButtonsAll = dict(label = 'All',\n",
    "                         method = 'update',\n",
    "                         args = [{'visible':VisibleAll},\n",
    "                                 {'title':'All'},\n",
    "                                 {'showlegend':True}])\n",
    "\n",
    "ConfigButtons.append(ConfigButtonsAll)\n",
    "\n",
    "for i, Localidad in enumerate(Localidades):\n",
    "\n",
    "    VisibleLoc = [False]*len(Localidades)\n",
    "    VisibleLoc[i] = True\n",
    "    ConfigButton = dict(label = Localidad,\n",
    "                     method = 'update',\n",
    "                     args = [{'visible':VisibleLoc},\n",
    "                             {'title':Localidad},\n",
    "                             {'showlegend':True}])\n",
    "    ConfigButtons.append(ConfigButton)\n",
    "    \n",
    "fig.update_layout(\n",
    "    updatemenus=[go.layout.Updatemenu(\n",
    "        active=0,\n",
    "        buttons= list(ConfigButtons),\n",
    "        )],\n",
    "xaxis_title='Servicio'\n",
    ")\n",
    "\n",
    "fig.update_traces(visible=False)"
   ]
  },
  {
   "cell_type": "code",
   "execution_count": null,
   "id": "6089b9e3-e258-45fd-bdfa-6aad2f648c14",
   "metadata": {},
   "outputs": [],
   "source": []
  }
 ],
 "metadata": {
  "kernelspec": {
   "display_name": "Python 3 (ipykernel)",
   "language": "python",
   "name": "python3"
  },
  "language_info": {
   "codemirror_mode": {
    "name": "ipython",
    "version": 3
   },
   "file_extension": ".py",
   "mimetype": "text/x-python",
   "name": "python",
   "nbconvert_exporter": "python",
   "pygments_lexer": "ipython3",
   "version": "3.9.7"
  }
 },
 "nbformat": 4,
 "nbformat_minor": 5
}
