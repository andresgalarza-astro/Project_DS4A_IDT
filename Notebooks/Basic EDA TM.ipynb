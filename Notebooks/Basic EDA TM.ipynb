{
 "cells": [
  {
   "cell_type": "code",
   "execution_count": 1,
   "id": "25819b35",
   "metadata": {},
   "outputs": [],
   "source": [
    "import pandas as pd\n",
    "import matplotlib.pyplot as plt\n",
    "import numpy                 as np\n",
    "import seaborn               as sns\n",
    "import folium  #needed for interactive map\n",
    "from folium.plugins import HeatMap\n",
    "%matplotlib inline\n",
    "sns.set()"
   ]
  },
  {
   "cell_type": "code",
   "execution_count": 2,
   "id": "ec717ac9",
   "metadata": {},
   "outputs": [],
   "source": [
    "df_Transmilenios=pd.read_csv('9. Base de las rutas de transporte e Bogotá (2021)- Estación Troncal.csv',encoding='latin1')"
   ]
  },
  {
   "cell_type": "code",
   "execution_count": 3,
   "id": "355e7931",
   "metadata": {},
   "outputs": [
    {
     "data": {
      "text/html": [
       "<div>\n",
       "<style scoped>\n",
       "    .dataframe tbody tr th:only-of-type {\n",
       "        vertical-align: middle;\n",
       "    }\n",
       "\n",
       "    .dataframe tbody tr th {\n",
       "        vertical-align: top;\n",
       "    }\n",
       "\n",
       "    .dataframe thead th {\n",
       "        text-align: right;\n",
       "    }\n",
       "</style>\n",
       "<table border=\"1\" class=\"dataframe\">\n",
       "  <thead>\n",
       "    <tr style=\"text-align: right;\">\n",
       "      <th></th>\n",
       "      <th>Shape</th>\n",
       "      <th>objectid</th>\n",
       "      <th>numero_estación</th>\n",
       "      <th>nombre_estación</th>\n",
       "      <th>ubicación</th>\n",
       "      <th>troncal_estación</th>\n",
       "      <th>numero_vagones</th>\n",
       "      <th>numero_accesos</th>\n",
       "      <th>biciestación</th>\n",
       "      <th>capacidad</th>\n",
       "      <th>tipo estación</th>\n",
       "      <th>biciparqueadero</th>\n",
       "      <th>latitud</th>\n",
       "      <th>longitud</th>\n",
       "      <th>last_edi_1</th>\n",
       "    </tr>\n",
       "  </thead>\n",
       "  <tbody>\n",
       "    <tr>\n",
       "      <th>0</th>\n",
       "      <td>Point</td>\n",
       "      <td>1</td>\n",
       "      <td>2205</td>\n",
       "      <td>Calle 106</td>\n",
       "      <td>Calle 106</td>\n",
       "      <td>Autonorte</td>\n",
       "      <td>4</td>\n",
       "      <td>1</td>\n",
       "      <td>0</td>\n",
       "      <td>0</td>\n",
       "      <td>4</td>\n",
       "      <td>0</td>\n",
       "      <td>4.692982</td>\n",
       "      <td>-74.056178</td>\n",
       "      <td>27/09/2021</td>\n",
       "    </tr>\n",
       "    <tr>\n",
       "      <th>1</th>\n",
       "      <td>Point</td>\n",
       "      <td>2</td>\n",
       "      <td>2000</td>\n",
       "      <td>Portal del Norte</td>\n",
       "      <td>Calle 173</td>\n",
       "      <td>Autonorte</td>\n",
       "      <td>0</td>\n",
       "      <td>0</td>\n",
       "      <td>0</td>\n",
       "      <td>0</td>\n",
       "      <td>1</td>\n",
       "      <td>0</td>\n",
       "      <td>4.754621</td>\n",
       "      <td>-74.046035</td>\n",
       "      <td>27/09/2021</td>\n",
       "    </tr>\n",
       "    <tr>\n",
       "      <th>2</th>\n",
       "      <td>Point</td>\n",
       "      <td>3</td>\n",
       "      <td>7108</td>\n",
       "      <td>AV. El Dorado</td>\n",
       "      <td>Kr 30 Av 28</td>\n",
       "      <td>NQS</td>\n",
       "      <td>1</td>\n",
       "      <td>1</td>\n",
       "      <td>0</td>\n",
       "      <td>0</td>\n",
       "      <td>4</td>\n",
       "      <td>0</td>\n",
       "      <td>4.630663</td>\n",
       "      <td>-74.079866</td>\n",
       "      <td>27/09/2021</td>\n",
       "    </tr>\n",
       "    <tr>\n",
       "      <th>3</th>\n",
       "      <td>Point</td>\n",
       "      <td>4</td>\n",
       "      <td>2204</td>\n",
       "      <td>Pepe Sierra</td>\n",
       "      <td>Calle 116</td>\n",
       "      <td>Autonorte</td>\n",
       "      <td>2</td>\n",
       "      <td>1</td>\n",
       "      <td>0</td>\n",
       "      <td>0</td>\n",
       "      <td>4</td>\n",
       "      <td>0</td>\n",
       "      <td>4.698125</td>\n",
       "      <td>-74.055298</td>\n",
       "      <td>27/09/2021</td>\n",
       "    </tr>\n",
       "    <tr>\n",
       "      <th>4</th>\n",
       "      <td>Point</td>\n",
       "      <td>5</td>\n",
       "      <td>2103</td>\n",
       "      <td>Mazurén</td>\n",
       "      <td>Calle 152</td>\n",
       "      <td>Autonorte</td>\n",
       "      <td>5</td>\n",
       "      <td>1</td>\n",
       "      <td>0</td>\n",
       "      <td>0</td>\n",
       "      <td>4</td>\n",
       "      <td>0</td>\n",
       "      <td>4.734585</td>\n",
       "      <td>-74.049218</td>\n",
       "      <td>27/09/2021</td>\n",
       "    </tr>\n",
       "    <tr>\n",
       "      <th>...</th>\n",
       "      <td>...</td>\n",
       "      <td>...</td>\n",
       "      <td>...</td>\n",
       "      <td>...</td>\n",
       "      <td>...</td>\n",
       "      <td>...</td>\n",
       "      <td>...</td>\n",
       "      <td>...</td>\n",
       "      <td>...</td>\n",
       "      <td>...</td>\n",
       "      <td>...</td>\n",
       "      <td>...</td>\n",
       "      <td>...</td>\n",
       "      <td>...</td>\n",
       "      <td>...</td>\n",
       "    </tr>\n",
       "    <tr>\n",
       "      <th>144</th>\n",
       "      <td>Point</td>\n",
       "      <td>145</td>\n",
       "      <td>12000</td>\n",
       "      <td>Puente Aranda</td>\n",
       "      <td>calle 13 carrera 47</td>\n",
       "      <td>Americas</td>\n",
       "      <td>2</td>\n",
       "      <td>1</td>\n",
       "      <td>0</td>\n",
       "      <td>0</td>\n",
       "      <td>4</td>\n",
       "      <td>0</td>\n",
       "      <td>4.625669</td>\n",
       "      <td>-74.104640</td>\n",
       "      <td>27/09/2021</td>\n",
       "    </tr>\n",
       "    <tr>\n",
       "      <th>145</th>\n",
       "      <td>Point</td>\n",
       "      <td>146</td>\n",
       "      <td>10006</td>\n",
       "      <td>San Victorino</td>\n",
       "      <td>Kra 10- Cl12</td>\n",
       "      <td>Cr 7-10</td>\n",
       "      <td>3</td>\n",
       "      <td>2</td>\n",
       "      <td>0</td>\n",
       "      <td>0</td>\n",
       "      <td>4</td>\n",
       "      <td>0</td>\n",
       "      <td>4.601018</td>\n",
       "      <td>-74.077406</td>\n",
       "      <td>27/09/2021</td>\n",
       "    </tr>\n",
       "    <tr>\n",
       "      <th>146</th>\n",
       "      <td>Point</td>\n",
       "      <td>147</td>\n",
       "      <td>10003</td>\n",
       "      <td>Ciudad Jardín</td>\n",
       "      <td>Kra 10- Cl12 sur</td>\n",
       "      <td>Cr 7-10</td>\n",
       "      <td>2</td>\n",
       "      <td>1</td>\n",
       "      <td>0</td>\n",
       "      <td>0</td>\n",
       "      <td>4</td>\n",
       "      <td>0</td>\n",
       "      <td>4.581532</td>\n",
       "      <td>-74.090338</td>\n",
       "      <td>27/09/2021</td>\n",
       "    </tr>\n",
       "    <tr>\n",
       "      <th>147</th>\n",
       "      <td>Point</td>\n",
       "      <td>148</td>\n",
       "      <td>10004</td>\n",
       "      <td>Policarpa</td>\n",
       "      <td>Kra 10- Cl3 sur</td>\n",
       "      <td>Cr 7-10</td>\n",
       "      <td>2</td>\n",
       "      <td>2</td>\n",
       "      <td>0</td>\n",
       "      <td>0</td>\n",
       "      <td>4</td>\n",
       "      <td>0</td>\n",
       "      <td>4.586257</td>\n",
       "      <td>-74.086921</td>\n",
       "      <td>27/09/2021</td>\n",
       "    </tr>\n",
       "    <tr>\n",
       "      <th>148</th>\n",
       "      <td>Point</td>\n",
       "      <td>149</td>\n",
       "      <td>7010</td>\n",
       "      <td>Bosa</td>\n",
       "      <td>soacha</td>\n",
       "      <td>Soacha</td>\n",
       "      <td>2</td>\n",
       "      <td>1</td>\n",
       "      <td>0</td>\n",
       "      <td>0</td>\n",
       "      <td>4</td>\n",
       "      <td>0</td>\n",
       "      <td>4.596879</td>\n",
       "      <td>-74.181225</td>\n",
       "      <td>27/09/2021</td>\n",
       "    </tr>\n",
       "  </tbody>\n",
       "</table>\n",
       "<p>149 rows × 15 columns</p>\n",
       "</div>"
      ],
      "text/plain": [
       "     Shape  objectid  numero_estación   nombre_estación            ubicación  \\\n",
       "0    Point         1             2205         Calle 106            Calle 106   \n",
       "1    Point         2             2000  Portal del Norte            Calle 173   \n",
       "2    Point         3             7108     AV. El Dorado          Kr 30 Av 28   \n",
       "3    Point         4             2204       Pepe Sierra            Calle 116   \n",
       "4    Point         5             2103           Mazurén            Calle 152   \n",
       "..     ...       ...              ...               ...                  ...   \n",
       "144  Point       145            12000     Puente Aranda  calle 13 carrera 47   \n",
       "145  Point       146            10006     San Victorino         Kra 10- Cl12   \n",
       "146  Point       147            10003     Ciudad Jardín     Kra 10- Cl12 sur   \n",
       "147  Point       148            10004         Policarpa      Kra 10- Cl3 sur   \n",
       "148  Point       149             7010              Bosa               soacha   \n",
       "\n",
       "    troncal_estación  numero_vagones  numero_accesos  biciestación  capacidad  \\\n",
       "0          Autonorte               4               1             0          0   \n",
       "1          Autonorte               0               0             0          0   \n",
       "2                NQS               1               1             0          0   \n",
       "3          Autonorte               2               1             0          0   \n",
       "4          Autonorte               5               1             0          0   \n",
       "..               ...             ...             ...           ...        ...   \n",
       "144         Americas               2               1             0          0   \n",
       "145          Cr 7-10               3               2             0          0   \n",
       "146          Cr 7-10               2               1             0          0   \n",
       "147          Cr 7-10               2               2             0          0   \n",
       "148           Soacha               2               1             0          0   \n",
       "\n",
       "     tipo estación  biciparqueadero   latitud   longitud  last_edi_1  \n",
       "0                4                0  4.692982 -74.056178  27/09/2021  \n",
       "1                1                0  4.754621 -74.046035  27/09/2021  \n",
       "2                4                0  4.630663 -74.079866  27/09/2021  \n",
       "3                4                0  4.698125 -74.055298  27/09/2021  \n",
       "4                4                0  4.734585 -74.049218  27/09/2021  \n",
       "..             ...              ...       ...        ...         ...  \n",
       "144              4                0  4.625669 -74.104640  27/09/2021  \n",
       "145              4                0  4.601018 -74.077406  27/09/2021  \n",
       "146              4                0  4.581532 -74.090338  27/09/2021  \n",
       "147              4                0  4.586257 -74.086921  27/09/2021  \n",
       "148              4                0  4.596879 -74.181225  27/09/2021  \n",
       "\n",
       "[149 rows x 15 columns]"
      ]
     },
     "execution_count": 3,
     "metadata": {},
     "output_type": "execute_result"
    }
   ],
   "source": [
    "df_Transmilenios"
   ]
  },
  {
   "cell_type": "code",
   "execution_count": 4,
   "id": "cb2bca1e",
   "metadata": {},
   "outputs": [
    {
     "name": "stdout",
     "output_type": "stream",
     "text": [
      "<class 'pandas.core.frame.DataFrame'>\n",
      "RangeIndex: 149 entries, 0 to 148\n",
      "Data columns (total 15 columns):\n",
      " #   Column            Non-Null Count  Dtype  \n",
      "---  ------            --------------  -----  \n",
      " 0   Shape             149 non-null    object \n",
      " 1   objectid          149 non-null    int64  \n",
      " 2   numero_estación   149 non-null    int64  \n",
      " 3   nombre_estación   149 non-null    object \n",
      " 4   ubicación         149 non-null    object \n",
      " 5   troncal_estación  149 non-null    object \n",
      " 6   numero_vagones    149 non-null    int64  \n",
      " 7   numero_accesos    149 non-null    int64  \n",
      " 8   biciestación      149 non-null    int64  \n",
      " 9   capacidad         149 non-null    int64  \n",
      " 10  tipo estación     149 non-null    int64  \n",
      " 11  biciparqueadero   149 non-null    int64  \n",
      " 12  latitud           149 non-null    float64\n",
      " 13  longitud          149 non-null    float64\n",
      " 14  last_edi_1        149 non-null    object \n",
      "dtypes: float64(2), int64(8), object(5)\n",
      "memory usage: 17.6+ KB\n"
     ]
    }
   ],
   "source": [
    "df_Transmilenios.info()"
   ]
  },
  {
   "cell_type": "code",
   "execution_count": 5,
   "id": "d3bca5c8",
   "metadata": {},
   "outputs": [
    {
     "data": {
      "text/html": [
       "<div>\n",
       "<style scoped>\n",
       "    .dataframe tbody tr th:only-of-type {\n",
       "        vertical-align: middle;\n",
       "    }\n",
       "\n",
       "    .dataframe tbody tr th {\n",
       "        vertical-align: top;\n",
       "    }\n",
       "\n",
       "    .dataframe thead th {\n",
       "        text-align: right;\n",
       "    }\n",
       "</style>\n",
       "<table border=\"1\" class=\"dataframe\">\n",
       "  <thead>\n",
       "    <tr style=\"text-align: right;\">\n",
       "      <th></th>\n",
       "      <th>objectid</th>\n",
       "      <th>numero_estación</th>\n",
       "      <th>numero_vagones</th>\n",
       "      <th>numero_accesos</th>\n",
       "      <th>biciestación</th>\n",
       "      <th>capacidad</th>\n",
       "      <th>tipo estación</th>\n",
       "      <th>biciparqueadero</th>\n",
       "      <th>latitud</th>\n",
       "      <th>longitud</th>\n",
       "    </tr>\n",
       "  </thead>\n",
       "  <tbody>\n",
       "    <tr>\n",
       "      <th>count</th>\n",
       "      <td>149.000000</td>\n",
       "      <td>149.000000</td>\n",
       "      <td>149.000000</td>\n",
       "      <td>149.000000</td>\n",
       "      <td>149.000000</td>\n",
       "      <td>149.000000</td>\n",
       "      <td>149.000000</td>\n",
       "      <td>149.000000</td>\n",
       "      <td>149.000000</td>\n",
       "      <td>149.000000</td>\n",
       "    </tr>\n",
       "    <tr>\n",
       "      <th>mean</th>\n",
       "      <td>75.000000</td>\n",
       "      <td>6608.020134</td>\n",
       "      <td>2.429530</td>\n",
       "      <td>1.315436</td>\n",
       "      <td>0.107383</td>\n",
       "      <td>25.221477</td>\n",
       "      <td>3.671141</td>\n",
       "      <td>0.107383</td>\n",
       "      <td>4.641021</td>\n",
       "      <td>-74.094631</td>\n",
       "    </tr>\n",
       "    <tr>\n",
       "      <th>std</th>\n",
       "      <td>43.156691</td>\n",
       "      <td>2938.717036</td>\n",
       "      <td>1.290585</td>\n",
       "      <td>0.582252</td>\n",
       "      <td>0.310643</td>\n",
       "      <td>104.654699</td>\n",
       "      <td>0.833772</td>\n",
       "      <td>0.310643</td>\n",
       "      <td>0.052343</td>\n",
       "      <td>0.034094</td>\n",
       "    </tr>\n",
       "    <tr>\n",
       "      <th>min</th>\n",
       "      <td>1.000000</td>\n",
       "      <td>2000.000000</td>\n",
       "      <td>0.000000</td>\n",
       "      <td>0.000000</td>\n",
       "      <td>0.000000</td>\n",
       "      <td>0.000000</td>\n",
       "      <td>1.000000</td>\n",
       "      <td>0.000000</td>\n",
       "      <td>4.531715</td>\n",
       "      <td>-74.205460</td>\n",
       "    </tr>\n",
       "    <tr>\n",
       "      <th>25%</th>\n",
       "      <td>38.000000</td>\n",
       "      <td>4102.000000</td>\n",
       "      <td>2.000000</td>\n",
       "      <td>1.000000</td>\n",
       "      <td>0.000000</td>\n",
       "      <td>0.000000</td>\n",
       "      <td>4.000000</td>\n",
       "      <td>0.000000</td>\n",
       "      <td>4.597371</td>\n",
       "      <td>-74.110643</td>\n",
       "    </tr>\n",
       "    <tr>\n",
       "      <th>50%</th>\n",
       "      <td>75.000000</td>\n",
       "      <td>7006.000000</td>\n",
       "      <td>2.000000</td>\n",
       "      <td>1.000000</td>\n",
       "      <td>0.000000</td>\n",
       "      <td>0.000000</td>\n",
       "      <td>4.000000</td>\n",
       "      <td>0.000000</td>\n",
       "      <td>4.630663</td>\n",
       "      <td>-74.086921</td>\n",
       "    </tr>\n",
       "    <tr>\n",
       "      <th>75%</th>\n",
       "      <td>112.000000</td>\n",
       "      <td>9106.000000</td>\n",
       "      <td>3.000000</td>\n",
       "      <td>2.000000</td>\n",
       "      <td>0.000000</td>\n",
       "      <td>0.000000</td>\n",
       "      <td>4.000000</td>\n",
       "      <td>0.000000</td>\n",
       "      <td>4.680501</td>\n",
       "      <td>-74.069839</td>\n",
       "    </tr>\n",
       "    <tr>\n",
       "      <th>max</th>\n",
       "      <td>149.000000</td>\n",
       "      <td>14005.000000</td>\n",
       "      <td>6.000000</td>\n",
       "      <td>2.000000</td>\n",
       "      <td>1.000000</td>\n",
       "      <td>785.000000</td>\n",
       "      <td>4.000000</td>\n",
       "      <td>1.000000</td>\n",
       "      <td>4.768818</td>\n",
       "      <td>-74.043569</td>\n",
       "    </tr>\n",
       "  </tbody>\n",
       "</table>\n",
       "</div>"
      ],
      "text/plain": [
       "         objectid  numero_estación  numero_vagones  numero_accesos  \\\n",
       "count  149.000000       149.000000      149.000000      149.000000   \n",
       "mean    75.000000      6608.020134        2.429530        1.315436   \n",
       "std     43.156691      2938.717036        1.290585        0.582252   \n",
       "min      1.000000      2000.000000        0.000000        0.000000   \n",
       "25%     38.000000      4102.000000        2.000000        1.000000   \n",
       "50%     75.000000      7006.000000        2.000000        1.000000   \n",
       "75%    112.000000      9106.000000        3.000000        2.000000   \n",
       "max    149.000000     14005.000000        6.000000        2.000000   \n",
       "\n",
       "       biciestación   capacidad  tipo estación  biciparqueadero     latitud  \\\n",
       "count    149.000000  149.000000     149.000000       149.000000  149.000000   \n",
       "mean       0.107383   25.221477       3.671141         0.107383    4.641021   \n",
       "std        0.310643  104.654699       0.833772         0.310643    0.052343   \n",
       "min        0.000000    0.000000       1.000000         0.000000    4.531715   \n",
       "25%        0.000000    0.000000       4.000000         0.000000    4.597371   \n",
       "50%        0.000000    0.000000       4.000000         0.000000    4.630663   \n",
       "75%        0.000000    0.000000       4.000000         0.000000    4.680501   \n",
       "max        1.000000  785.000000       4.000000         1.000000    4.768818   \n",
       "\n",
       "         longitud  \n",
       "count  149.000000  \n",
       "mean   -74.094631  \n",
       "std      0.034094  \n",
       "min    -74.205460  \n",
       "25%    -74.110643  \n",
       "50%    -74.086921  \n",
       "75%    -74.069839  \n",
       "max    -74.043569  "
      ]
     },
     "execution_count": 5,
     "metadata": {},
     "output_type": "execute_result"
    }
   ],
   "source": [
    "df_Transmilenios.describe() "
   ]
  },
  {
   "cell_type": "code",
   "execution_count": 6,
   "id": "4ccb7c04",
   "metadata": {},
   "outputs": [
    {
     "data": {
      "text/html": [
       "<div>\n",
       "<style scoped>\n",
       "    .dataframe tbody tr th:only-of-type {\n",
       "        vertical-align: middle;\n",
       "    }\n",
       "\n",
       "    .dataframe tbody tr th {\n",
       "        vertical-align: top;\n",
       "    }\n",
       "\n",
       "    .dataframe thead th {\n",
       "        text-align: right;\n",
       "    }\n",
       "</style>\n",
       "<table border=\"1\" class=\"dataframe\">\n",
       "  <thead>\n",
       "    <tr style=\"text-align: right;\">\n",
       "      <th></th>\n",
       "      <th>numero_vagones</th>\n",
       "      <th>numero_accesos</th>\n",
       "      <th>capacidad</th>\n",
       "    </tr>\n",
       "  </thead>\n",
       "  <tbody>\n",
       "    <tr>\n",
       "      <th>count</th>\n",
       "      <td>149.000000</td>\n",
       "      <td>149.000000</td>\n",
       "      <td>149.000000</td>\n",
       "    </tr>\n",
       "    <tr>\n",
       "      <th>mean</th>\n",
       "      <td>2.429530</td>\n",
       "      <td>1.315436</td>\n",
       "      <td>25.221477</td>\n",
       "    </tr>\n",
       "    <tr>\n",
       "      <th>std</th>\n",
       "      <td>1.290585</td>\n",
       "      <td>0.582252</td>\n",
       "      <td>104.654699</td>\n",
       "    </tr>\n",
       "    <tr>\n",
       "      <th>min</th>\n",
       "      <td>0.000000</td>\n",
       "      <td>0.000000</td>\n",
       "      <td>0.000000</td>\n",
       "    </tr>\n",
       "    <tr>\n",
       "      <th>25%</th>\n",
       "      <td>2.000000</td>\n",
       "      <td>1.000000</td>\n",
       "      <td>0.000000</td>\n",
       "    </tr>\n",
       "    <tr>\n",
       "      <th>50%</th>\n",
       "      <td>2.000000</td>\n",
       "      <td>1.000000</td>\n",
       "      <td>0.000000</td>\n",
       "    </tr>\n",
       "    <tr>\n",
       "      <th>75%</th>\n",
       "      <td>3.000000</td>\n",
       "      <td>2.000000</td>\n",
       "      <td>0.000000</td>\n",
       "    </tr>\n",
       "    <tr>\n",
       "      <th>max</th>\n",
       "      <td>6.000000</td>\n",
       "      <td>2.000000</td>\n",
       "      <td>785.000000</td>\n",
       "    </tr>\n",
       "  </tbody>\n",
       "</table>\n",
       "</div>"
      ],
      "text/plain": [
       "       numero_vagones  numero_accesos   capacidad\n",
       "count      149.000000      149.000000  149.000000\n",
       "mean         2.429530        1.315436   25.221477\n",
       "std          1.290585        0.582252  104.654699\n",
       "min          0.000000        0.000000    0.000000\n",
       "25%          2.000000        1.000000    0.000000\n",
       "50%          2.000000        1.000000    0.000000\n",
       "75%          3.000000        2.000000    0.000000\n",
       "max          6.000000        2.000000  785.000000"
      ]
     },
     "execution_count": 6,
     "metadata": {},
     "output_type": "execute_result"
    }
   ],
   "source": [
    "df_Transmilenios[['numero_vagones', 'numero_accesos','capacidad']].describe()"
   ]
  },
  {
   "cell_type": "code",
   "execution_count": 8,
   "id": "c222b6ba",
   "metadata": {},
   "outputs": [
    {
     "data": {
      "text/plain": [
       "<AxesSubplot:title={'center':'numero_vagones Frequency'}, ylabel='Frequency'>"
      ]
     },
     "execution_count": 8,
     "metadata": {},
     "output_type": "execute_result"
    },
    {
     "data": {
      "image/png": "[encoded data removed]",
      "text/plain": [
       "<Figure size 432x288 with 1 Axes>"
      ]
     },
     "metadata": {},
     "output_type": "display_data"
    }
   ],
   "source": [
    "df_Transmilenios[\"numero_vagones\"].plot.hist(title='numero_vagones Frequency')"
   ]
  },
  {
   "cell_type": "code",
   "execution_count": 9,
   "id": "975fe3b8",
   "metadata": {},
   "outputs": [
    {
     "data": {
      "text/plain": [
       "<AxesSubplot:title={'center':'numero_accesos Frequency'}, ylabel='Frequency'>"
      ]
     },
     "execution_count": 9,
     "metadata": {},
     "output_type": "execute_result"
    },
    {
     "data": {
      "image/png": "[encoded data removed]",
      "text/plain": [
       "<Figure size 432x288 with 1 Axes>"
      ]
     },
     "metadata": {},
     "output_type": "display_data"
    }
   ],
   "source": [
    "df_Transmilenios[\"numero_accesos\"].plot.hist(title='numero_accesos Frequency')"
   ]
  },
  {
   "cell_type": "code",
   "execution_count": 10,
   "id": "050d553d",
   "metadata": {},
   "outputs": [
    {
     "data": {
      "text/plain": [
       "<AxesSubplot:title={'center':'capacidad Frequency'}, ylabel='Frequency'>"
      ]
     },
     "execution_count": 10,
     "metadata": {},
     "output_type": "execute_result"
    },
    {
     "data": {
      "image/png": "[encoded data removed]",
      "text/plain": [
       "<Figure size 432x288 with 1 Axes>"
      ]
     },
     "metadata": {},
     "output_type": "display_data"
    }
   ],
   "source": [
    "df_Transmilenios[\"capacidad\"].plot.hist(title='capacidad Frequency')"
   ]
  },
  {
   "cell_type": "code",
   "execution_count": 7,
   "id": "1a6b9deb",
   "metadata": {},
   "outputs": [
    {
     "data": {
      "text/plain": [
       "Text(0.5, 1.0, 'Boxplot of numero_accesos vs. numero_vagones')"
      ]
     },
     "execution_count": 7,
     "metadata": {},
     "output_type": "execute_result"
    },
    {
     "data": {
      "image/png": "[encoded data removed]",
      "text/plain": [
       "<Figure size 432x288 with 1 Axes>"
      ]
     },
     "metadata": {},
     "output_type": "display_data"
    }
   ],
   "source": [
    "sns.boxplot(x = \"numero_accesos\", y='numero_vagones', data = df_Transmilenios)\n",
    "plt.title(\"Boxplot of numero_accesos vs. numero_vagones\")"
   ]
  },
  {
   "cell_type": "code",
   "execution_count": 9,
   "id": "322b1c2d",
   "metadata": {},
   "outputs": [
    {
     "data": {
      "text/html": [
       "<div>\n",
       "<style scoped>\n",
       "    .dataframe tbody tr th:only-of-type {\n",
       "        vertical-align: middle;\n",
       "    }\n",
       "\n",
       "    .dataframe tbody tr th {\n",
       "        vertical-align: top;\n",
       "    }\n",
       "\n",
       "    .dataframe thead th {\n",
       "        text-align: right;\n",
       "    }\n",
       "</style>\n",
       "<table border=\"1\" class=\"dataframe\">\n",
       "  <thead>\n",
       "    <tr style=\"text-align: right;\">\n",
       "      <th></th>\n",
       "      <th>numero_accesos</th>\n",
       "      <th>numero_vagones</th>\n",
       "    </tr>\n",
       "  </thead>\n",
       "  <tbody>\n",
       "    <tr>\n",
       "      <th>numero_accesos</th>\n",
       "      <td>1.000000</td>\n",
       "      <td>0.250078</td>\n",
       "    </tr>\n",
       "    <tr>\n",
       "      <th>numero_vagones</th>\n",
       "      <td>0.250078</td>\n",
       "      <td>1.000000</td>\n",
       "    </tr>\n",
       "  </tbody>\n",
       "</table>\n",
       "</div>"
      ],
      "text/plain": [
       "                numero_accesos  numero_vagones\n",
       "numero_accesos        1.000000        0.250078\n",
       "numero_vagones        0.250078        1.000000"
      ]
     },
     "execution_count": 9,
     "metadata": {},
     "output_type": "execute_result"
    }
   ],
   "source": [
    "df_Transmilenios[[\"numero_accesos\", \"numero_vagones\"]].corr()"
   ]
  },
  {
   "cell_type": "code",
   "execution_count": 10,
   "id": "6f1a37b2",
   "metadata": {},
   "outputs": [
    {
     "data": {
      "text/html": [
       "<div>\n",
       "<style scoped>\n",
       "    .dataframe tbody tr th:only-of-type {\n",
       "        vertical-align: middle;\n",
       "    }\n",
       "\n",
       "    .dataframe tbody tr th {\n",
       "        vertical-align: top;\n",
       "    }\n",
       "\n",
       "    .dataframe thead th {\n",
       "        text-align: right;\n",
       "    }\n",
       "</style>\n",
       "<table border=\"1\" class=\"dataframe\">\n",
       "  <thead>\n",
       "    <tr style=\"text-align: right;\">\n",
       "      <th></th>\n",
       "      <th>capacidad</th>\n",
       "      <th>numero_vagones</th>\n",
       "    </tr>\n",
       "  </thead>\n",
       "  <tbody>\n",
       "    <tr>\n",
       "      <th>capacidad</th>\n",
       "      <td>1.000000</td>\n",
       "      <td>-0.261593</td>\n",
       "    </tr>\n",
       "    <tr>\n",
       "      <th>numero_vagones</th>\n",
       "      <td>-0.261593</td>\n",
       "      <td>1.000000</td>\n",
       "    </tr>\n",
       "  </tbody>\n",
       "</table>\n",
       "</div>"
      ],
      "text/plain": [
       "                capacidad  numero_vagones\n",
       "capacidad        1.000000       -0.261593\n",
       "numero_vagones  -0.261593        1.000000"
      ]
     },
     "execution_count": 10,
     "metadata": {},
     "output_type": "execute_result"
    }
   ],
   "source": [
    "df_Transmilenios[[\"capacidad\", \"numero_vagones\"]].corr()"
   ]
  },
  {
   "cell_type": "code",
   "execution_count": 11,
   "id": "5eae1f11",
   "metadata": {},
   "outputs": [
    {
     "data": {
      "text/html": [
       "<div>\n",
       "<style scoped>\n",
       "    .dataframe tbody tr th:only-of-type {\n",
       "        vertical-align: middle;\n",
       "    }\n",
       "\n",
       "    .dataframe tbody tr th {\n",
       "        vertical-align: top;\n",
       "    }\n",
       "\n",
       "    .dataframe thead th {\n",
       "        text-align: right;\n",
       "    }\n",
       "</style>\n",
       "<table border=\"1\" class=\"dataframe\">\n",
       "  <thead>\n",
       "    <tr style=\"text-align: right;\">\n",
       "      <th></th>\n",
       "      <th>numero_vagones</th>\n",
       "      <th>numero_accesos</th>\n",
       "      <th>biciestación</th>\n",
       "      <th>capacidad</th>\n",
       "    </tr>\n",
       "  </thead>\n",
       "  <tbody>\n",
       "    <tr>\n",
       "      <th>0</th>\n",
       "      <td>4</td>\n",
       "      <td>1</td>\n",
       "      <td>0</td>\n",
       "      <td>0</td>\n",
       "    </tr>\n",
       "    <tr>\n",
       "      <th>1</th>\n",
       "      <td>0</td>\n",
       "      <td>0</td>\n",
       "      <td>0</td>\n",
       "      <td>0</td>\n",
       "    </tr>\n",
       "    <tr>\n",
       "      <th>2</th>\n",
       "      <td>1</td>\n",
       "      <td>1</td>\n",
       "      <td>0</td>\n",
       "      <td>0</td>\n",
       "    </tr>\n",
       "    <tr>\n",
       "      <th>3</th>\n",
       "      <td>2</td>\n",
       "      <td>1</td>\n",
       "      <td>0</td>\n",
       "      <td>0</td>\n",
       "    </tr>\n",
       "    <tr>\n",
       "      <th>4</th>\n",
       "      <td>5</td>\n",
       "      <td>1</td>\n",
       "      <td>0</td>\n",
       "      <td>0</td>\n",
       "    </tr>\n",
       "    <tr>\n",
       "      <th>...</th>\n",
       "      <td>...</td>\n",
       "      <td>...</td>\n",
       "      <td>...</td>\n",
       "      <td>...</td>\n",
       "    </tr>\n",
       "    <tr>\n",
       "      <th>144</th>\n",
       "      <td>2</td>\n",
       "      <td>1</td>\n",
       "      <td>0</td>\n",
       "      <td>0</td>\n",
       "    </tr>\n",
       "    <tr>\n",
       "      <th>145</th>\n",
       "      <td>3</td>\n",
       "      <td>2</td>\n",
       "      <td>0</td>\n",
       "      <td>0</td>\n",
       "    </tr>\n",
       "    <tr>\n",
       "      <th>146</th>\n",
       "      <td>2</td>\n",
       "      <td>1</td>\n",
       "      <td>0</td>\n",
       "      <td>0</td>\n",
       "    </tr>\n",
       "    <tr>\n",
       "      <th>147</th>\n",
       "      <td>2</td>\n",
       "      <td>2</td>\n",
       "      <td>0</td>\n",
       "      <td>0</td>\n",
       "    </tr>\n",
       "    <tr>\n",
       "      <th>148</th>\n",
       "      <td>2</td>\n",
       "      <td>1</td>\n",
       "      <td>0</td>\n",
       "      <td>0</td>\n",
       "    </tr>\n",
       "  </tbody>\n",
       "</table>\n",
       "<p>149 rows × 4 columns</p>\n",
       "</div>"
      ],
      "text/plain": [
       "     numero_vagones  numero_accesos  biciestación  capacidad\n",
       "0                 4               1             0          0\n",
       "1                 0               0             0          0\n",
       "2                 1               1             0          0\n",
       "3                 2               1             0          0\n",
       "4                 5               1             0          0\n",
       "..              ...             ...           ...        ...\n",
       "144               2               1             0          0\n",
       "145               3               2             0          0\n",
       "146               2               1             0          0\n",
       "147               2               2             0          0\n",
       "148               2               1             0          0\n",
       "\n",
       "[149 rows x 4 columns]"
      ]
     },
     "execution_count": 11,
     "metadata": {},
     "output_type": "execute_result"
    }
   ],
   "source": [
    "df_Transmilenios_Filtered=df_Transmilenios[[\"numero_vagones\",\"numero_accesos\",\"biciestación\", \"capacidad\",]]\n",
    "df_Transmilenios_Filtered"
   ]
  },
  {
   "cell_type": "code",
   "execution_count": 12,
   "id": "fe3668ef",
   "metadata": {},
   "outputs": [
    {
     "data": {
      "text/html": [
       "<div>\n",
       "<style scoped>\n",
       "    .dataframe tbody tr th:only-of-type {\n",
       "        vertical-align: middle;\n",
       "    }\n",
       "\n",
       "    .dataframe tbody tr th {\n",
       "        vertical-align: top;\n",
       "    }\n",
       "\n",
       "    .dataframe thead th {\n",
       "        text-align: right;\n",
       "    }\n",
       "</style>\n",
       "<table border=\"1\" class=\"dataframe\">\n",
       "  <thead>\n",
       "    <tr style=\"text-align: right;\">\n",
       "      <th></th>\n",
       "      <th>numero_vagones</th>\n",
       "      <th>numero_accesos</th>\n",
       "      <th>biciestación</th>\n",
       "      <th>capacidad</th>\n",
       "    </tr>\n",
       "  </thead>\n",
       "  <tbody>\n",
       "    <tr>\n",
       "      <th>numero_vagones</th>\n",
       "      <td>1.000000</td>\n",
       "      <td>0.250078</td>\n",
       "      <td>-0.082118</td>\n",
       "      <td>-0.261593</td>\n",
       "    </tr>\n",
       "    <tr>\n",
       "      <th>numero_accesos</th>\n",
       "      <td>0.250078</td>\n",
       "      <td>1.000000</td>\n",
       "      <td>-0.300607</td>\n",
       "      <td>-0.358533</td>\n",
       "    </tr>\n",
       "    <tr>\n",
       "      <th>biciestación</th>\n",
       "      <td>-0.082118</td>\n",
       "      <td>-0.300607</td>\n",
       "      <td>1.000000</td>\n",
       "      <td>0.697172</td>\n",
       "    </tr>\n",
       "    <tr>\n",
       "      <th>capacidad</th>\n",
       "      <td>-0.261593</td>\n",
       "      <td>-0.358533</td>\n",
       "      <td>0.697172</td>\n",
       "      <td>1.000000</td>\n",
       "    </tr>\n",
       "  </tbody>\n",
       "</table>\n",
       "</div>"
      ],
      "text/plain": [
       "                numero_vagones  numero_accesos  biciestación  capacidad\n",
       "numero_vagones        1.000000        0.250078     -0.082118  -0.261593\n",
       "numero_accesos        0.250078        1.000000     -0.300607  -0.358533\n",
       "biciestación         -0.082118       -0.300607      1.000000   0.697172\n",
       "capacidad            -0.261593       -0.358533      0.697172   1.000000"
      ]
     },
     "execution_count": 12,
     "metadata": {},
     "output_type": "execute_result"
    }
   ],
   "source": [
    "corr= df_Transmilenios_Filtered.corr()\n",
    "corr"
   ]
  },
  {
   "cell_type": "code",
   "execution_count": 13,
   "id": "29559943",
   "metadata": {},
   "outputs": [
    {
     "data": {
      "text/plain": [
       "<AxesSubplot:>"
      ]
     },
     "execution_count": 13,
     "metadata": {},
     "output_type": "execute_result"
    },
    {
     "data": {
      "image/png": "[encoded data removed]",
      "text/plain": [
       "<Figure size 432x288 with 2 Axes>"
      ]
     },
     "metadata": {},
     "output_type": "display_data"
    }
   ],
   "source": [
    "upp_mat = np.triu(df_Transmilenios.corr())\n",
    "#,mask = upp_mat\n",
    "sns.heatmap(df_Transmilenios_Filtered.corr(),cmap = 'coolwarm')"
   ]
  },
  {
   "cell_type": "code",
   "execution_count": 14,
   "id": "5be0b37c",
   "metadata": {},
   "outputs": [
    {
     "data": {
      "text/plain": [
       "troncal_estación\n",
       "Caracas          27\n",
       "NQS              23\n",
       "Americas         18\n",
       "Autonorte        17\n",
       "Calle 26         14\n",
       "Suba             14\n",
       "Calle 80         13\n",
       "Cr 7-10          11\n",
       "Soacha            5\n",
       "Tunal             3\n",
       "Calle 6           2\n",
       "Eje Ambiental     2\n",
       "Name: troncal_estación, dtype: int64"
      ]
     },
     "execution_count": 14,
     "metadata": {},
     "output_type": "execute_result"
    }
   ],
   "source": [
    "df_Transmilenios.groupby(['troncal_estación'])['troncal_estación'].count().sort_values(ascending=False)"
   ]
  },
  {
   "cell_type": "code",
   "execution_count": 15,
   "id": "e11a410c",
   "metadata": {},
   "outputs": [
    {
     "data": {
      "text/plain": [
       "<AxesSubplot:title={'center':'#Stations per Troncal'}, ylabel='troncal_estación'>"
      ]
     },
     "execution_count": 15,
     "metadata": {},
     "output_type": "execute_result"
    },
    {
     "data": {
      "image/png": "[encoded data removed]",
      "text/plain": [
       "<Figure size 432x288 with 1 Axes>"
      ]
     },
     "metadata": {},
     "output_type": "display_data"
    }
   ],
   "source": [
    "df_Transmilenios.groupby(['troncal_estación'])['troncal_estación'].count().sort_values(ascending=True).plot.barh(\n",
    "                                                                                    title=\"#Stations per Troncal\",\n",
    "                                                                                     ylabel=\"Troncal\", \n",
    "                                                                                     color=\"royalblue\")"
   ]
  },
  {
   "cell_type": "code",
   "execution_count": 24,
   "id": "4e047ffa",
   "metadata": {},
   "outputs": [
    {
     "data": {
      "text/plain": [
       "biciestación\n",
       "0    133\n",
       "1     16\n",
       "Name: biciestación, dtype: int64"
      ]
     },
     "execution_count": 24,
     "metadata": {},
     "output_type": "execute_result"
    }
   ],
   "source": [
    "df_Transmilenios.groupby(['biciestación'])['biciestación'].count()"
   ]
  },
  {
   "cell_type": "code",
   "execution_count": 25,
   "id": "1b8d426e",
   "metadata": {},
   "outputs": [
    {
     "data": {
      "text/plain": [
       "<AxesSubplot:title={'center':'% Biciestations'}, ylabel='biciestación'>"
      ]
     },
     "execution_count": 25,
     "metadata": {},
     "output_type": "execute_result"
    },
    {
     "data": {
      "image/png": "[encoded data removed]",
      "text/plain": [
       "<Figure size 432x288 with 1 Axes>"
      ]
     },
     "metadata": {},
     "output_type": "display_data"
    }
   ],
   "source": [
    "df_Transmilenios.groupby(['biciestación'])['biciestación'].count().sort_values(ascending=True).plot(kind='pie',\n",
    "                                                                                    title=\"% Biciestations\",\n",
    "                                                                                    autopct=\"%0.1f %%\"\n",
    "                                                                                                   )"
   ]
  },
  {
   "cell_type": "code",
   "execution_count": 37,
   "id": "7dacba88",
   "metadata": {},
   "outputs": [
    {
     "data": {
      "text/plain": [
       "tipo estación\n",
       "1    6\n",
       "2    4\n",
       "3    1\n",
       "4    5\n",
       "Name: biciestación, dtype: int64"
      ]
     },
     "execution_count": 37,
     "metadata": {},
     "output_type": "execute_result"
    }
   ],
   "source": [
    "biciestacion=df_Transmilenios[df_Transmilenios[\"biciestación\"]==1]\n",
    "biciestacion.groupby(['tipo estación'])['biciestación'].count()"
   ]
  },
  {
   "cell_type": "code",
   "execution_count": 41,
   "id": "6b0a6250",
   "metadata": {},
   "outputs": [
    {
     "data": {
      "text/plain": [
       "<AxesSubplot:title={'center':'#Biciestaciones per Tipo estacion'}, xlabel='tipo estación'>"
      ]
     },
     "execution_count": 41,
     "metadata": {},
     "output_type": "execute_result"
    },
    {
     "data": {
      "image/png": "[encoded data removed]",
      "text/plain": [
       "<Figure size 432x288 with 1 Axes>"
      ]
     },
     "metadata": {},
     "output_type": "display_data"
    }
   ],
   "source": [
    "biciestacion.groupby(['tipo estación'])['biciestación'].count().plot(kind='bar',\n",
    "                                                                        title=\"#Biciestaciones per Tipo estacion\",\n",
    "                                                                     color=\"royalblue\"\n",
    "                                                                                                   )"
   ]
  },
  {
   "cell_type": "code",
   "execution_count": 39,
   "id": "ca69c0f1",
   "metadata": {},
   "outputs": [
    {
     "data": {
      "text/plain": [
       "tipo estación\n",
       "1      9\n",
       "2      8\n",
       "3      6\n",
       "4    126\n",
       "Name: tipo estación, dtype: int64"
      ]
     },
     "execution_count": 39,
     "metadata": {},
     "output_type": "execute_result"
    }
   ],
   "source": [
    "df_Transmilenios.groupby(['tipo estación'])['tipo estación'].count()"
   ]
  },
  {
   "cell_type": "code",
   "execution_count": 42,
   "id": "5870ea89",
   "metadata": {},
   "outputs": [
    {
     "data": {
      "text/plain": [
       "<AxesSubplot:title={'center':'#Tipo Estacion'}, xlabel='tipo estación'>"
      ]
     },
     "execution_count": 42,
     "metadata": {},
     "output_type": "execute_result"
    },
    {
     "data": {
      "image/png": "[encoded data removed]",
      "text/plain": [
       "<Figure size 432x288 with 1 Axes>"
      ]
     },
     "metadata": {},
     "output_type": "display_data"
    }
   ],
   "source": [
    "df_Transmilenios.groupby(['tipo estación'])['tipo estación'].count().plot.bar(title=\"#Tipo Estacion\",\n",
    "                                                                                     color=\"royalblue\")"
   ]
  },
  {
   "cell_type": "code",
   "execution_count": 55,
   "id": "3aba2895",
   "metadata": {},
   "outputs": [
    {
     "data": {
      "text/html": [
       "<div style=\"width:100%;\"><div style=\"position:relative;width:100%;height:0;padding-bottom:60%;\"><span style=\"color:#565656\">Make this Notebook Trusted to load map: File -> Trust Notebook</span><iframe src=\"about:blank\" style=\"position:absolute;width:100%;height:100%;left:0;top:0;border:none !important;\" data-html=%3C%21DOCTYPE%20html%3E%0A%3Chead%3E%20%20%20%20%0A%20%20%20%20%3Cmeta%20http-equiv%3D%22content-type%22%20content%3D%22text/html%3B%20charset%3DUTF-8%22%20/%3E%0A%20%20%20%20%0A%20%20%20%20%20%20%20%20%3Cscript%3E%0A%20%20%20%20%20%20%20%20%20%20%20%20L_NO_TOUCH%20%3D%20false%3B%0A%20%20%20%20%20%20%20%20%20%20%20%20L_DISABLE_3D%20%3D%20false%3B%0A%20%20%20%20%20%20%20%20%3C/script%3E%0A%20%20%20%20%0A%20%20%20%20%3Cstyle%3Ehtml%2C%20body%20%7Bwidth%3A%20100%25%3Bheight%3A%20100%25%3Bmargin%3A%200%3Bpadding%3A%200%3B%7D%3C/style%3E%0A%20%20%20%20%3Cstyle%3E%23map%20%7Bposition%3Aabsolute%3Btop%3A0%3Bbottom%3A0%3Bright%3A0%3Bleft%3A0%3B%7D%3C/style%3E%0A%20%20%20%20%3Cscript%20src%3D%22https%3A//cdn.jsdelivr.net/npm/leaflet%401.6.0/dist/leaflet.js%22%3E%3C/script%3E%0A%20%20%20%20%3Cscript%20src%3D%22https%3A//code.jquery.com/jquery-1.12.4.min.js%22%3E%3C/script%3E%0A%20%20%20%20%3Cscript%20src%3D%22https%3A//maxcdn.bootstrapcdn.com/bootstrap/3.2.0/js/bootstrap.min.js%22%3E%3C/script%3E%0A%20%20%20%20%3Cscript%20src%3D%22https%3A//cdnjs.cloudflare.com/ajax/libs/Leaflet.awesome-markers/2.0.2/leaflet.awesome-markers.js%22%3E%3C/script%3E%0A%20%20%20%20%3Clink%20rel%3D%22stylesheet%22%20href%3D%22https%3A//cdn.jsdelivr.net/npm/leaflet%401.6.0/dist/leaflet.css%22/%3E%0A%20%20%20%20%3Clink%20rel%3D%22stylesheet%22%20href%3D%22https%3A//maxcdn.bootstrapcdn.com/bootstrap/3.2.0/css/bootstrap.min.css%22/%3E%0A%20%20%20%20%3Clink%20rel%3D%22stylesheet%22%20href%3D%22https%3A//maxcdn.bootstrapcdn.com/bootstrap/3.2.0/css/bootstrap-theme.min.css%22/%3E%0A%20%20%20%20%3Clink%20rel%3D%22stylesheet%22%20href%3D%22https%3A//maxcdn.bootstrapcdn.com/font-awesome/4.6.3/css/font-awesome.min.css%22/%3E%0A%20%20%20%20%3Clink%20rel%3D%22stylesheet%22%20href%3D%22https%3A//cdnjs.cloudflare.com/ajax/libs/Leaflet.awesome-markers/2.0.2/leaflet.awesome-markers.css%22/%3E%0A%20%20%20%20%3Clink%20rel%3D%22stylesheet%22%20href%3D%22https%3A//cdn.jsdelivr.net/gh/python-visualization/folium/folium/templates/leaflet.awesome.rotate.min.css%22/%3E%0A%20%20%20%20%0A%20%20%20%20%20%20%20%20%20%20%20%20%3Cmeta%20name%3D%22viewport%22%20content%3D%22width%3Ddevice-width%2C%0A%20%20%20%20%20%20%20%20%20%20%20%20%20%20%20%20initial-scale%3D1.0%2C%20maximum-scale%3D1.0%2C%20user-scalable%3Dno%22%20/%3E%0A%20%20%20%20%20%20%20%20%20%20%20%20%3Cstyle%3E%0A%20%20%20%20%20%20%20%20%20%20%20%20%20%20%20%20%23map_50000c7da2f24da2b64950da04577672%20%7B%0A%20%20%20%20%20%20%20%20%20%20%20%20%20%20%20%20%20%20%20%20position%3A%20relative%3B%0A%20%20%20%20%20%20%20%20%20%20%20%20%20%20%20%20%20%20%20%20width%3A%20100.0%25%3B%0A%20%20%20%20%20%20%20%20%20%20%20%20%20%20%20%20%20%20%20%20height%3A%20100.0%25%3B%0A%20%20%20%20%20%20%20%20%20%20%20%20%20%20%20%20%20%20%20%20left%3A%200.0%25%3B%0A%20%20%20%20%20%20%20%20%20%20%20%20%20%20%20%20%20%20%20%20top%3A%200.0%25%3B%0A%20%20%20%20%20%20%20%20%20%20%20%20%20%20%20%20%7D%0A%20%20%20%20%20%20%20%20%20%20%20%20%3C/style%3E%0A%20%20%20%20%20%20%20%20%0A%3C/head%3E%0A%3Cbody%3E%20%20%20%20%0A%20%20%20%20%0A%20%20%20%20%20%20%20%20%20%20%20%20%3Cdiv%20class%3D%22folium-map%22%20id%3D%22map_50000c7da2f24da2b64950da04577672%22%20%3E%3C/div%3E%0A%20%20%20%20%20%20%20%20%0A%3C/body%3E%0A%3Cscript%3E%20%20%20%20%0A%20%20%20%20%0A%20%20%20%20%20%20%20%20%20%20%20%20var%20map_50000c7da2f24da2b64950da04577672%20%3D%20L.map%28%0A%20%20%20%20%20%20%20%20%20%20%20%20%20%20%20%20%22map_50000c7da2f24da2b64950da04577672%22%2C%0A%20%20%20%20%20%20%20%20%20%20%20%20%20%20%20%20%7B%0A%20%20%20%20%20%20%20%20%20%20%20%20%20%20%20%20%20%20%20%20center%3A%20%5B4.60971%2C%20-74.08175%5D%2C%0A%20%20%20%20%20%20%20%20%20%20%20%20%20%20%20%20%20%20%20%20crs%3A%20L.CRS.EPSG3857%2C%0A%20%20%20%20%20%20%20%20%20%20%20%20%20%20%20%20%20%20%20%20zoom%3A%2013%2C%0A%20%20%20%20%20%20%20%20%20%20%20%20%20%20%20%20%20%20%20%20zoomControl%3A%20true%2C%0A%20%20%20%20%20%20%20%20%20%20%20%20%20%20%20%20%20%20%20%20preferCanvas%3A%20false%2C%0A%20%20%20%20%20%20%20%20%20%20%20%20%20%20%20%20%7D%0A%20%20%20%20%20%20%20%20%20%20%20%20%29%3B%0A%0A%20%20%20%20%20%20%20%20%20%20%20%20%0A%0A%20%20%20%20%20%20%20%20%0A%20%20%20%20%0A%20%20%20%20%20%20%20%20%20%20%20%20var%20tile_layer_2f21ed33d5b7413bb56a7c982106ff46%20%3D%20L.tileLayer%28%0A%20%20%20%20%20%20%20%20%20%20%20%20%20%20%20%20%22https%3A//%7Bs%7D.tile.openstreetmap.org/%7Bz%7D/%7Bx%7D/%7By%7D.png%22%2C%0A%20%20%20%20%20%20%20%20%20%20%20%20%20%20%20%20%7B%22attribution%22%3A%20%22Data%20by%20%5Cu0026copy%3B%20%5Cu003ca%20href%3D%5C%22http%3A//openstreetmap.org%5C%22%5Cu003eOpenStreetMap%5Cu003c/a%5Cu003e%2C%20under%20%5Cu003ca%20href%3D%5C%22http%3A//www.openstreetmap.org/copyright%5C%22%5Cu003eODbL%5Cu003c/a%5Cu003e.%22%2C%20%22detectRetina%22%3A%20false%2C%20%22maxNativeZoom%22%3A%2018%2C%20%22maxZoom%22%3A%2018%2C%20%22minZoom%22%3A%200%2C%20%22noWrap%22%3A%20false%2C%20%22opacity%22%3A%201%2C%20%22subdomains%22%3A%20%22abc%22%2C%20%22tms%22%3A%20false%7D%0A%20%20%20%20%20%20%20%20%20%20%20%20%29.addTo%28map_50000c7da2f24da2b64950da04577672%29%3B%0A%20%20%20%20%20%20%20%20%0A%3C/script%3E onload=\"this.contentDocument.open();this.contentDocument.write(    decodeURIComponent(this.getAttribute('data-html')));this.contentDocument.close();\" allowfullscreen webkitallowfullscreen mozallowfullscreen></iframe></div></div>"
      ],
      "text/plain": [
       "<folium.folium.Map at 0x7feb395abf40>"
      ]
     },
     "execution_count": 55,
     "metadata": {},
     "output_type": "execute_result"
    }
   ],
   "source": [
    "Bog_coords = [4.60971, -74.08175] # lat, long\n",
    "folium_map = folium.Map(location=Bog_coords,zoom_start=13)\n",
    "folium_map"
   ]
  }
 ],
 "metadata": {
  "kernelspec": {
   "display_name": "Python 3",
   "language": "python",
   "name": "python3"
  },
  "language_info": {
   "codemirror_mode": {
    "name": "ipython",
    "version": 3
   },
   "file_extension": ".py",
   "mimetype": "text/x-python",
   "name": "python",
   "nbconvert_exporter": "python",
   "pygments_lexer": "ipython3",
   "version": "3.8.12"
  }
 },
 "nbformat": 4,
 "nbformat_minor": 5
}
