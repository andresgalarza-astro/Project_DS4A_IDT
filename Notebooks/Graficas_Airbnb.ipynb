{
 "cells": [
  {
   "cell_type": "code",
   "execution_count": 1,
   "id": "48de32a3",
   "metadata": {},
   "outputs": [],
   "source": [
    "import pandas as pd\n",
    "import numpy                 as np\n",
    "import datetime\n",
    "import geopandas             as gpd\n",
    "import plotly.express as px\n",
    "from plotly.subplots import make_subplots"
   ]
  },
  {
   "cell_type": "code",
   "execution_count": 2,
   "id": "cc652574",
   "metadata": {},
   "outputs": [],
   "source": [
    "file_path='D:/JUAN CAMILO/DS4A/Proyecto FInal/Bases de Datos/Aribnblocalidades.csv'"
   ]
  },
  {
   "cell_type": "code",
   "execution_count": 3,
   "id": "811e63a8",
   "metadata": {},
   "outputs": [
    {
     "name": "stderr",
     "output_type": "stream",
     "text": [
      "C:\\Users\\JUAN CAMILO\\AppData\\Local\\Temp\\ipykernel_10248\\925104625.py:2: DtypeWarning: Columns (5,15,30,42,43,51,52) have mixed types. Specify dtype option on import or set low_memory=False.\n",
      "  base1 = pd.read_csv(file_path)\n"
     ]
    },
    {
     "data": {
      "text/html": [
       "<div>\n",
       "<style scoped>\n",
       "    .dataframe tbody tr th:only-of-type {\n",
       "        vertical-align: middle;\n",
       "    }\n",
       "\n",
       "    .dataframe tbody tr th {\n",
       "        vertical-align: top;\n",
       "    }\n",
       "\n",
       "    .dataframe thead th {\n",
       "        text-align: right;\n",
       "    }\n",
       "</style>\n",
       "<table border=\"1\" class=\"dataframe\">\n",
       "  <thead>\n",
       "    <tr style=\"text-align: right;\">\n",
       "      <th></th>\n",
       "      <th>Unnamed: 0</th>\n",
       "      <th>Property ID</th>\n",
       "      <th>Listing Title</th>\n",
       "      <th>Property Type</th>\n",
       "      <th>Listing Type</th>\n",
       "      <th>Created Date</th>\n",
       "      <th>Last Scraped Date</th>\n",
       "      <th>Country</th>\n",
       "      <th>Latitude</th>\n",
       "      <th>Longitude</th>\n",
       "      <th>State</th>\n",
       "      <th>City</th>\n",
       "      <th>Zipcode</th>\n",
       "      <th>Neighborhood</th>\n",
       "      <th>Metropolitan Statistical Area</th>\n",
       "      <th>Currency Native</th>\n",
       "      <th>Average Daily Rate (USD)</th>\n",
       "      <th>Average Daily Rate (Native)</th>\n",
       "      <th>Annual Revenue LTM (USD)</th>\n",
       "      <th>Annual Revenue LTM (Native)</th>\n",
       "      <th>Occupancy Rate LTM</th>\n",
       "      <th>Number of Bookings LTM</th>\n",
       "      <th>Count Reservation Days LTM</th>\n",
       "      <th>Count Available Days LTM</th>\n",
       "      <th>Count Blocked Days LTM</th>\n",
       "      <th>Bedrooms</th>\n",
       "      <th>Bathrooms</th>\n",
       "      <th>Max Guests</th>\n",
       "      <th>Calendar Last Updated</th>\n",
       "      <th>Response Rate</th>\n",
       "      <th>Airbnb Superhost</th>\n",
       "      <th>HomeAway Premier Partner</th>\n",
       "      <th>Cancellation Policy</th>\n",
       "      <th>Security Deposit (USD)</th>\n",
       "      <th>Security Deposit (Native)</th>\n",
       "      <th>Cleaning Fee (USD)</th>\n",
       "      <th>Cleaning Fee (Native)</th>\n",
       "      <th>Extra People Fee (USD)</th>\n",
       "      <th>Extra People Fee (Native)</th>\n",
       "      <th>Published Nightly Rate (USD)</th>\n",
       "      <th>Published Monthly Rate (USD)</th>\n",
       "      <th>Published Weekly Rate (USD)</th>\n",
       "      <th>Check-in Time</th>\n",
       "      <th>Checkout Time</th>\n",
       "      <th>Minimum Stay</th>\n",
       "      <th>Number of Reviews</th>\n",
       "      <th>Number of Photos</th>\n",
       "      <th>Instantbook Enabled</th>\n",
       "      <th>Overall Rating</th>\n",
       "      <th>Airbnb Property ID</th>\n",
       "      <th>Airbnb Host ID</th>\n",
       "      <th>Airbnb Listing URL</th>\n",
       "      <th>Airbnb Listing Main Image URL</th>\n",
       "      <th>HomeAway Property ID</th>\n",
       "      <th>HomeAway Property Manager</th>\n",
       "      <th>HomeAway Listing URL</th>\n",
       "      <th>HomeAway Listing Main Image URL</th>\n",
       "      <th>geometry</th>\n",
       "      <th>index_right</th>\n",
       "      <th>Nombre_Localidad</th>\n",
       "    </tr>\n",
       "  </thead>\n",
       "  <tbody>\n",
       "    <tr>\n",
       "      <th>0</th>\n",
       "      <td>0</td>\n",
       "      <td>ab-44018885</td>\n",
       "      <td>Hermosa casa, El nogal</td>\n",
       "      <td>Residential home</td>\n",
       "      <td>Entire home/apt</td>\n",
       "      <td>2020-10-22</td>\n",
       "      <td>2022-02-14</td>\n",
       "      <td>Colombia</td>\n",
       "      <td>4.66309</td>\n",
       "      <td>-74.05459</td>\n",
       "      <td>NaN</td>\n",
       "      <td>Bogotá</td>\n",
       "      <td>NaN</td>\n",
       "      <td>Chapinero</td>\n",
       "      <td>NaN</td>\n",
       "      <td>COP</td>\n",
       "      <td>65.14</td>\n",
       "      <td>250000.0</td>\n",
       "      <td>912.0</td>\n",
       "      <td>3500000.0</td>\n",
       "      <td>0.070</td>\n",
       "      <td>8.0</td>\n",
       "      <td>14.0</td>\n",
       "      <td>186.0</td>\n",
       "      <td>14.0</td>\n",
       "      <td>4.0</td>\n",
       "      <td>3.0</td>\n",
       "      <td>5.0</td>\n",
       "      <td>NaN</td>\n",
       "      <td>0.0</td>\n",
       "      <td>False</td>\n",
       "      <td>NaN</td>\n",
       "      <td>flexible</td>\n",
       "      <td>NaN</td>\n",
       "      <td>NaN</td>\n",
       "      <td>NaN</td>\n",
       "      <td>NaN</td>\n",
       "      <td>NaN</td>\n",
       "      <td>NaN</td>\n",
       "      <td>63.0</td>\n",
       "      <td>NaN</td>\n",
       "      <td>NaN</td>\n",
       "      <td>NaN</td>\n",
       "      <td>NaN</td>\n",
       "      <td>1.0</td>\n",
       "      <td>0.0</td>\n",
       "      <td>11.0</td>\n",
       "      <td>False</td>\n",
       "      <td>NaN</td>\n",
       "      <td>44018885.0</td>\n",
       "      <td>351991717.0</td>\n",
       "      <td>https://www.airbnb.com/rooms/44018885</td>\n",
       "      <td>https://a0.muscache.com/im/pictures/496e7391-2...</td>\n",
       "      <td>NaN</td>\n",
       "      <td>NaN</td>\n",
       "      <td>NaN</td>\n",
       "      <td>NaN</td>\n",
       "      <td>POINT (-74.05459 4.66309)</td>\n",
       "      <td>10.0</td>\n",
       "      <td>Chapinero</td>\n",
       "    </tr>\n",
       "    <tr>\n",
       "      <th>1</th>\n",
       "      <td>1</td>\n",
       "      <td>ab-44019196</td>\n",
       "      <td>CÓMODO, CENTRAL Y TRANQUILO.</td>\n",
       "      <td>Guesthouse</td>\n",
       "      <td>Entire home/apt</td>\n",
       "      <td>2020-10-09</td>\n",
       "      <td>2022-02-15</td>\n",
       "      <td>Colombia</td>\n",
       "      <td>4.63608</td>\n",
       "      <td>-74.07005</td>\n",
       "      <td>NaN</td>\n",
       "      <td>Bogotá</td>\n",
       "      <td>NaN</td>\n",
       "      <td>Teusaquillo</td>\n",
       "      <td>NaN</td>\n",
       "      <td>COP</td>\n",
       "      <td>14.00</td>\n",
       "      <td>55000.0</td>\n",
       "      <td>784.0</td>\n",
       "      <td>3080000.0</td>\n",
       "      <td>0.371</td>\n",
       "      <td>7.0</td>\n",
       "      <td>56.0</td>\n",
       "      <td>95.0</td>\n",
       "      <td>3.0</td>\n",
       "      <td>1.0</td>\n",
       "      <td>1.0</td>\n",
       "      <td>2.0</td>\n",
       "      <td>NaN</td>\n",
       "      <td>78.0</td>\n",
       "      <td>False</td>\n",
       "      <td>NaN</td>\n",
       "      <td>flexible</td>\n",
       "      <td>NaN</td>\n",
       "      <td>NaN</td>\n",
       "      <td>NaN</td>\n",
       "      <td>NaN</td>\n",
       "      <td>NaN</td>\n",
       "      <td>NaN</td>\n",
       "      <td>14.0</td>\n",
       "      <td>NaN</td>\n",
       "      <td>NaN</td>\n",
       "      <td>9:00 AM - 4:00 PM</td>\n",
       "      <td>4:00 PM</td>\n",
       "      <td>3.0</td>\n",
       "      <td>5.0</td>\n",
       "      <td>5.0</td>\n",
       "      <td>True</td>\n",
       "      <td>5.0</td>\n",
       "      <td>44019196.0</td>\n",
       "      <td>352772452.0</td>\n",
       "      <td>https://www.airbnb.com/rooms/44019196</td>\n",
       "      <td>https://a0.muscache.com/im/pictures/b3495a0b-6...</td>\n",
       "      <td>NaN</td>\n",
       "      <td>NaN</td>\n",
       "      <td>NaN</td>\n",
       "      <td>NaN</td>\n",
       "      <td>POINT (-74.07005 4.63608)</td>\n",
       "      <td>5.0</td>\n",
       "      <td>Teusaquillo</td>\n",
       "    </tr>\n",
       "    <tr>\n",
       "      <th>2</th>\n",
       "      <td>2</td>\n",
       "      <td>ab-44020565</td>\n",
       "      <td>Habitación Grande baño privado y terraza. 3piso</td>\n",
       "      <td>Guest suite</td>\n",
       "      <td>Private room</td>\n",
       "      <td>2020-10-25</td>\n",
       "      <td>2022-02-14</td>\n",
       "      <td>Colombia</td>\n",
       "      <td>4.75203</td>\n",
       "      <td>-74.05508</td>\n",
       "      <td>NaN</td>\n",
       "      <td>Bogotá</td>\n",
       "      <td>NaN</td>\n",
       "      <td>Suba</td>\n",
       "      <td>NaN</td>\n",
       "      <td>COP</td>\n",
       "      <td>NaN</td>\n",
       "      <td>NaN</td>\n",
       "      <td>0.0</td>\n",
       "      <td>0.0</td>\n",
       "      <td>NaN</td>\n",
       "      <td>0.0</td>\n",
       "      <td>NaN</td>\n",
       "      <td>NaN</td>\n",
       "      <td>NaN</td>\n",
       "      <td>1.0</td>\n",
       "      <td>1.0</td>\n",
       "      <td>1.0</td>\n",
       "      <td>NaN</td>\n",
       "      <td>0.0</td>\n",
       "      <td>False</td>\n",
       "      <td>NaN</td>\n",
       "      <td>flexible</td>\n",
       "      <td>NaN</td>\n",
       "      <td>NaN</td>\n",
       "      <td>NaN</td>\n",
       "      <td>NaN</td>\n",
       "      <td>NaN</td>\n",
       "      <td>NaN</td>\n",
       "      <td>15.0</td>\n",
       "      <td>NaN</td>\n",
       "      <td>NaN</td>\n",
       "      <td>Flexible</td>\n",
       "      <td>1:00 AM</td>\n",
       "      <td>1.0</td>\n",
       "      <td>0.0</td>\n",
       "      <td>8.0</td>\n",
       "      <td>False</td>\n",
       "      <td>NaN</td>\n",
       "      <td>44020565.0</td>\n",
       "      <td>30434345.0</td>\n",
       "      <td>https://www.airbnb.com/rooms/44020565</td>\n",
       "      <td>https://a0.muscache.com/im/pictures/25525e57-8...</td>\n",
       "      <td>NaN</td>\n",
       "      <td>NaN</td>\n",
       "      <td>NaN</td>\n",
       "      <td>NaN</td>\n",
       "      <td>POINT (-74.05508 4.75203)</td>\n",
       "      <td>19.0</td>\n",
       "      <td>Suba</td>\n",
       "    </tr>\n",
       "    <tr>\n",
       "      <th>3</th>\n",
       "      <td>3</td>\n",
       "      <td>ab-44030858</td>\n",
       "      <td>Hotel A&amp;M florida 401</td>\n",
       "      <td>Apartment</td>\n",
       "      <td>Entire home/apt</td>\n",
       "      <td>2020-07-17</td>\n",
       "      <td>2021-01-30</td>\n",
       "      <td>Colombia</td>\n",
       "      <td>4.70717</td>\n",
       "      <td>-74.12482</td>\n",
       "      <td>NaN</td>\n",
       "      <td>Bogotá</td>\n",
       "      <td>NaN</td>\n",
       "      <td>Engativa</td>\n",
       "      <td>NaN</td>\n",
       "      <td>COP</td>\n",
       "      <td>NaN</td>\n",
       "      <td>NaN</td>\n",
       "      <td>0.0</td>\n",
       "      <td>0.0</td>\n",
       "      <td>NaN</td>\n",
       "      <td>0.0</td>\n",
       "      <td>NaN</td>\n",
       "      <td>NaN</td>\n",
       "      <td>NaN</td>\n",
       "      <td>3.0</td>\n",
       "      <td>1.0</td>\n",
       "      <td>4.0</td>\n",
       "      <td>NaN</td>\n",
       "      <td>60.0</td>\n",
       "      <td>False</td>\n",
       "      <td>NaN</td>\n",
       "      <td>flexible</td>\n",
       "      <td>NaN</td>\n",
       "      <td>NaN</td>\n",
       "      <td>9.0</td>\n",
       "      <td>NaN</td>\n",
       "      <td>NaN</td>\n",
       "      <td>NaN</td>\n",
       "      <td>NaN</td>\n",
       "      <td>NaN</td>\n",
       "      <td>NaN</td>\n",
       "      <td>After 10:00 AM</td>\n",
       "      <td>6:00 PM</td>\n",
       "      <td>1.0</td>\n",
       "      <td>2.0</td>\n",
       "      <td>17.0</td>\n",
       "      <td>False</td>\n",
       "      <td>4.5</td>\n",
       "      <td>44030858.0</td>\n",
       "      <td>338182528.0</td>\n",
       "      <td>https://www.airbnb.com/rooms/44030858</td>\n",
       "      <td>https://a0.muscache.com/im/pictures/6f60d777-5...</td>\n",
       "      <td>NaN</td>\n",
       "      <td>NaN</td>\n",
       "      <td>NaN</td>\n",
       "      <td>NaN</td>\n",
       "      <td>POINT (-74.12482 4.70717)</td>\n",
       "      <td>18.0</td>\n",
       "      <td>Engativá</td>\n",
       "    </tr>\n",
       "    <tr>\n",
       "      <th>4</th>\n",
       "      <td>4</td>\n",
       "      <td>ab-44033318</td>\n",
       "      <td>Habitacion en bogota cerca a el aeropuerto 201</td>\n",
       "      <td>House</td>\n",
       "      <td>Private room</td>\n",
       "      <td>2020-10-20</td>\n",
       "      <td>2020-11-04</td>\n",
       "      <td>Colombia</td>\n",
       "      <td>4.67015</td>\n",
       "      <td>-74.10249</td>\n",
       "      <td>NaN</td>\n",
       "      <td>Bogotá</td>\n",
       "      <td>NaN</td>\n",
       "      <td>Engativa</td>\n",
       "      <td>NaN</td>\n",
       "      <td>COP</td>\n",
       "      <td>NaN</td>\n",
       "      <td>NaN</td>\n",
       "      <td>0.0</td>\n",
       "      <td>0.0</td>\n",
       "      <td>NaN</td>\n",
       "      <td>0.0</td>\n",
       "      <td>NaN</td>\n",
       "      <td>NaN</td>\n",
       "      <td>NaN</td>\n",
       "      <td>1.0</td>\n",
       "      <td>1.0</td>\n",
       "      <td>4.0</td>\n",
       "      <td>NaN</td>\n",
       "      <td>100.0</td>\n",
       "      <td>False</td>\n",
       "      <td>NaN</td>\n",
       "      <td>flexible</td>\n",
       "      <td>NaN</td>\n",
       "      <td>NaN</td>\n",
       "      <td>5.0</td>\n",
       "      <td>NaN</td>\n",
       "      <td>NaN</td>\n",
       "      <td>NaN</td>\n",
       "      <td>NaN</td>\n",
       "      <td>NaN</td>\n",
       "      <td>NaN</td>\n",
       "      <td>After 3:00 PM</td>\n",
       "      <td>NaN</td>\n",
       "      <td>1.0</td>\n",
       "      <td>0.0</td>\n",
       "      <td>17.0</td>\n",
       "      <td>True</td>\n",
       "      <td>NaN</td>\n",
       "      <td>44033318.0</td>\n",
       "      <td>264501662.0</td>\n",
       "      <td>https://www.airbnb.com/rooms/44033318</td>\n",
       "      <td>https://a0.muscache.com/im/pictures/9c8596b9-d...</td>\n",
       "      <td>NaN</td>\n",
       "      <td>NaN</td>\n",
       "      <td>NaN</td>\n",
       "      <td>NaN</td>\n",
       "      <td>POINT (-74.10249 4.67015)</td>\n",
       "      <td>18.0</td>\n",
       "      <td>Engativá</td>\n",
       "    </tr>\n",
       "  </tbody>\n",
       "</table>\n",
       "</div>"
      ],
      "text/plain": [
       "   Unnamed: 0  Property ID                                    Listing Title  \\\n",
       "0           0  ab-44018885                           Hermosa casa, El nogal   \n",
       "1           1  ab-44019196                     CÓMODO, CENTRAL Y TRANQUILO.   \n",
       "2           2  ab-44020565  Habitación Grande baño privado y terraza. 3piso   \n",
       "3           3  ab-44030858                            Hotel A&M florida 401   \n",
       "4           4  ab-44033318   Habitacion en bogota cerca a el aeropuerto 201   \n",
       "\n",
       "      Property Type     Listing Type Created Date Last Scraped Date   Country  \\\n",
       "0  Residential home  Entire home/apt   2020-10-22        2022-02-14  Colombia   \n",
       "1        Guesthouse  Entire home/apt   2020-10-09        2022-02-15  Colombia   \n",
       "2       Guest suite     Private room   2020-10-25        2022-02-14  Colombia   \n",
       "3         Apartment  Entire home/apt   2020-07-17        2021-01-30  Colombia   \n",
       "4             House     Private room   2020-10-20        2020-11-04  Colombia   \n",
       "\n",
       "   Latitude  Longitude  State    City  Zipcode    Neighborhood  \\\n",
       "0   4.66309  -74.05459    NaN  Bogotá      NaN       Chapinero   \n",
       "1   4.63608  -74.07005    NaN  Bogotá      NaN  Teusaquillo      \n",
       "2   4.75203  -74.05508    NaN  Bogotá      NaN  Suba             \n",
       "3   4.70717  -74.12482    NaN  Bogotá      NaN  Engativa         \n",
       "4   4.67015  -74.10249    NaN  Bogotá      NaN  Engativa         \n",
       "\n",
       "   Metropolitan Statistical Area Currency Native  Average Daily Rate (USD)  \\\n",
       "0                            NaN             COP                     65.14   \n",
       "1                            NaN             COP                     14.00   \n",
       "2                            NaN             COP                       NaN   \n",
       "3                            NaN             COP                       NaN   \n",
       "4                            NaN             COP                       NaN   \n",
       "\n",
       "   Average Daily Rate (Native)  Annual Revenue LTM (USD)  \\\n",
       "0                     250000.0                     912.0   \n",
       "1                      55000.0                     784.0   \n",
       "2                          NaN                       0.0   \n",
       "3                          NaN                       0.0   \n",
       "4                          NaN                       0.0   \n",
       "\n",
       "   Annual Revenue LTM (Native)  Occupancy Rate LTM  Number of Bookings LTM  \\\n",
       "0                    3500000.0               0.070                     8.0   \n",
       "1                    3080000.0               0.371                     7.0   \n",
       "2                          0.0                 NaN                     0.0   \n",
       "3                          0.0                 NaN                     0.0   \n",
       "4                          0.0                 NaN                     0.0   \n",
       "\n",
       "   Count Reservation Days LTM  Count Available Days LTM  \\\n",
       "0                        14.0                     186.0   \n",
       "1                        56.0                      95.0   \n",
       "2                         NaN                       NaN   \n",
       "3                         NaN                       NaN   \n",
       "4                         NaN                       NaN   \n",
       "\n",
       "   Count Blocked Days LTM  Bedrooms  Bathrooms  Max Guests  \\\n",
       "0                    14.0       4.0        3.0         5.0   \n",
       "1                     3.0       1.0        1.0         2.0   \n",
       "2                     NaN       1.0        1.0         1.0   \n",
       "3                     NaN       3.0        1.0         4.0   \n",
       "4                     NaN       1.0        1.0         4.0   \n",
       "\n",
       "  Calendar Last Updated  Response Rate Airbnb Superhost  \\\n",
       "0                   NaN            0.0            False   \n",
       "1                   NaN           78.0            False   \n",
       "2                   NaN            0.0            False   \n",
       "3                   NaN           60.0            False   \n",
       "4                   NaN          100.0            False   \n",
       "\n",
       "  HomeAway Premier Partner Cancellation Policy  Security Deposit (USD)  \\\n",
       "0                      NaN            flexible                     NaN   \n",
       "1                      NaN            flexible                     NaN   \n",
       "2                      NaN            flexible                     NaN   \n",
       "3                      NaN            flexible                     NaN   \n",
       "4                      NaN            flexible                     NaN   \n",
       "\n",
       "   Security Deposit (Native)  Cleaning Fee (USD)  Cleaning Fee (Native)  \\\n",
       "0                        NaN                 NaN                    NaN   \n",
       "1                        NaN                 NaN                    NaN   \n",
       "2                        NaN                 NaN                    NaN   \n",
       "3                        NaN                 9.0                    NaN   \n",
       "4                        NaN                 5.0                    NaN   \n",
       "\n",
       "   Extra People Fee (USD)  Extra People Fee (Native)  \\\n",
       "0                     NaN                        NaN   \n",
       "1                     NaN                        NaN   \n",
       "2                     NaN                        NaN   \n",
       "3                     NaN                        NaN   \n",
       "4                     NaN                        NaN   \n",
       "\n",
       "   Published Nightly Rate (USD)  Published Monthly Rate (USD)  \\\n",
       "0                          63.0                           NaN   \n",
       "1                          14.0                           NaN   \n",
       "2                          15.0                           NaN   \n",
       "3                           NaN                           NaN   \n",
       "4                           NaN                           NaN   \n",
       "\n",
       "   Published Weekly Rate (USD)      Check-in Time Checkout Time  Minimum Stay  \\\n",
       "0                          NaN                NaN           NaN           1.0   \n",
       "1                          NaN  9:00 AM - 4:00 PM       4:00 PM           3.0   \n",
       "2                          NaN           Flexible       1:00 AM           1.0   \n",
       "3                          NaN     After 10:00 AM       6:00 PM           1.0   \n",
       "4                          NaN      After 3:00 PM           NaN           1.0   \n",
       "\n",
       "   Number of Reviews  Number of Photos  Instantbook Enabled  Overall Rating  \\\n",
       "0                0.0              11.0                False             NaN   \n",
       "1                5.0               5.0                 True             5.0   \n",
       "2                0.0               8.0                False             NaN   \n",
       "3                2.0              17.0                False             4.5   \n",
       "4                0.0              17.0                 True             NaN   \n",
       "\n",
       "   Airbnb Property ID  Airbnb Host ID                     Airbnb Listing URL  \\\n",
       "0          44018885.0     351991717.0  https://www.airbnb.com/rooms/44018885   \n",
       "1          44019196.0     352772452.0  https://www.airbnb.com/rooms/44019196   \n",
       "2          44020565.0      30434345.0  https://www.airbnb.com/rooms/44020565   \n",
       "3          44030858.0     338182528.0  https://www.airbnb.com/rooms/44030858   \n",
       "4          44033318.0     264501662.0  https://www.airbnb.com/rooms/44033318   \n",
       "\n",
       "                       Airbnb Listing Main Image URL HomeAway Property ID  \\\n",
       "0  https://a0.muscache.com/im/pictures/496e7391-2...                  NaN   \n",
       "1  https://a0.muscache.com/im/pictures/b3495a0b-6...                  NaN   \n",
       "2  https://a0.muscache.com/im/pictures/25525e57-8...                  NaN   \n",
       "3  https://a0.muscache.com/im/pictures/6f60d777-5...                  NaN   \n",
       "4  https://a0.muscache.com/im/pictures/9c8596b9-d...                  NaN   \n",
       "\n",
       "  HomeAway Property Manager HomeAway Listing URL  \\\n",
       "0                       NaN                  NaN   \n",
       "1                       NaN                  NaN   \n",
       "2                       NaN                  NaN   \n",
       "3                       NaN                  NaN   \n",
       "4                       NaN                  NaN   \n",
       "\n",
       "  HomeAway Listing Main Image URL                   geometry  index_right  \\\n",
       "0                             NaN  POINT (-74.05459 4.66309)         10.0   \n",
       "1                             NaN  POINT (-74.07005 4.63608)          5.0   \n",
       "2                             NaN  POINT (-74.05508 4.75203)         19.0   \n",
       "3                             NaN  POINT (-74.12482 4.70717)         18.0   \n",
       "4                             NaN  POINT (-74.10249 4.67015)         18.0   \n",
       "\n",
       "  Nombre_Localidad  \n",
       "0        Chapinero  \n",
       "1      Teusaquillo  \n",
       "2             Suba  \n",
       "3         Engativá  \n",
       "4         Engativá  "
      ]
     },
     "execution_count": 3,
     "metadata": {},
     "output_type": "execute_result"
    }
   ],
   "source": [
    "pd.set_option('display.max_columns', None)\n",
    "base1 = pd.read_csv(file_path)\n",
    "base1.head()"
   ]
  },
  {
   "cell_type": "code",
   "execution_count": 7,
   "id": "7e78e0d0",
   "metadata": {},
   "outputs": [],
   "source": [
    "def sitiosporloca(df):\n",
    "    \n",
    "    base2 = base1.groupby(base1['Nombre_Localidad']).size().to_frame().reset_index()\n",
    "              \n",
    "    base2.columns.values[1] = 'FRECUENCIA'\n",
    "    \n",
    "    return base2"
   ]
  },
  {
   "cell_type": "code",
   "execution_count": 26,
   "id": "5fa27e59",
   "metadata": {},
   "outputs": [
    {
     "data": {
      "application/vnd.plotly.v1+json": {
       "config": {
        "plotlyServerURL": "https://plot.ly"
       },
       "data": [
        {
         "alignmentgroup": "True",
         "hovertemplate": "Nombre_Localidad=%{y}<br>FRECUENCIA=%{x}<extra></extra>",
         "legendgroup": "Chapinero",
         "marker": {
          "color": "#440154",
          "pattern": {
           "shape": ""
          }
         },
         "name": "Chapinero",
         "offsetgroup": "Chapinero",
         "orientation": "h",
         "showlegend": true,
         "textposition": "auto",
         "type": "bar",
         "x": [
          11846
         ],
         "xaxis": "x",
         "y": [
          "Chapinero"
         ],
         "yaxis": "y"
        },
        {
         "alignmentgroup": "True",
         "hovertemplate": "Nombre_Localidad=%{y}<br>FRECUENCIA=%{x}<extra></extra>",
         "legendgroup": "Usaquén",
         "marker": {
          "color": "#482878",
          "pattern": {
           "shape": ""
          }
         },
         "name": "Usaquén",
         "offsetgroup": "Usaquén",
         "orientation": "h",
         "showlegend": true,
         "textposition": "auto",
         "type": "bar",
         "x": [
          9486
         ],
         "xaxis": "x",
         "y": [
          "Usaquén"
         ],
         "yaxis": "y"
        },
        {
         "alignmentgroup": "True",
         "hovertemplate": "Nombre_Localidad=%{y}<br>FRECUENCIA=%{x}<extra></extra>",
         "legendgroup": "Teusaquillo",
         "marker": {
          "color": "#3e4989",
          "pattern": {
           "shape": ""
          }
         },
         "name": "Teusaquillo",
         "offsetgroup": "Teusaquillo",
         "orientation": "h",
         "showlegend": true,
         "textposition": "auto",
         "type": "bar",
         "x": [
          6833
         ],
         "xaxis": "x",
         "y": [
          "Teusaquillo"
         ],
         "yaxis": "y"
        },
        {
         "alignmentgroup": "True",
         "hovertemplate": "Nombre_Localidad=%{y}<br>FRECUENCIA=%{x}<extra></extra>",
         "legendgroup": "Suba",
         "marker": {
          "color": "#31688e",
          "pattern": {
           "shape": ""
          }
         },
         "name": "Suba",
         "offsetgroup": "Suba",
         "orientation": "h",
         "showlegend": true,
         "textposition": "auto",
         "type": "bar",
         "x": [
          6219
         ],
         "xaxis": "x",
         "y": [
          "Suba"
         ],
         "yaxis": "y"
        },
        {
         "alignmentgroup": "True",
         "hovertemplate": "Nombre_Localidad=%{y}<br>FRECUENCIA=%{x}<extra></extra>",
         "legendgroup": "Santa Fe",
         "marker": {
          "color": "#26828e",
          "pattern": {
           "shape": ""
          }
         },
         "name": "Santa Fe",
         "offsetgroup": "Santa Fe",
         "orientation": "h",
         "showlegend": true,
         "textposition": "auto",
         "type": "bar",
         "x": [
          2951
         ],
         "xaxis": "x",
         "y": [
          "Santa Fe"
         ],
         "yaxis": "y"
        },
        {
         "alignmentgroup": "True",
         "hovertemplate": "Nombre_Localidad=%{y}<br>FRECUENCIA=%{x}<extra></extra>",
         "legendgroup": "Engativá",
         "marker": {
          "color": "#1f9e89",
          "pattern": {
           "shape": ""
          }
         },
         "name": "Engativá",
         "offsetgroup": "Engativá",
         "orientation": "h",
         "showlegend": true,
         "textposition": "auto",
         "type": "bar",
         "x": [
          2884
         ],
         "xaxis": "x",
         "y": [
          "Engativá"
         ],
         "yaxis": "y"
        },
        {
         "alignmentgroup": "True",
         "hovertemplate": "Nombre_Localidad=%{y}<br>FRECUENCIA=%{x}<extra></extra>",
         "legendgroup": "Fontibón",
         "marker": {
          "color": "#35b779",
          "pattern": {
           "shape": ""
          }
         },
         "name": "Fontibón",
         "offsetgroup": "Fontibón",
         "orientation": "h",
         "showlegend": true,
         "textposition": "auto",
         "type": "bar",
         "x": [
          2351
         ],
         "xaxis": "x",
         "y": [
          "Fontibón"
         ],
         "yaxis": "y"
        },
        {
         "alignmentgroup": "True",
         "hovertemplate": "Nombre_Localidad=%{y}<br>FRECUENCIA=%{x}<extra></extra>",
         "legendgroup": "Barrios Unidos",
         "marker": {
          "color": "#6ece58",
          "pattern": {
           "shape": ""
          }
         },
         "name": "Barrios Unidos",
         "offsetgroup": "Barrios Unidos",
         "orientation": "h",
         "showlegend": true,
         "textposition": "auto",
         "type": "bar",
         "x": [
          2249
         ],
         "xaxis": "x",
         "y": [
          "Barrios Unidos"
         ],
         "yaxis": "y"
        },
        {
         "alignmentgroup": "True",
         "hovertemplate": "Nombre_Localidad=%{y}<br>FRECUENCIA=%{x}<extra></extra>",
         "legendgroup": "Kennedy",
         "marker": {
          "color": "#b5de2b",
          "pattern": {
           "shape": ""
          }
         },
         "name": "Kennedy",
         "offsetgroup": "Kennedy",
         "orientation": "h",
         "showlegend": true,
         "textposition": "auto",
         "type": "bar",
         "x": [
          1506
         ],
         "xaxis": "x",
         "y": [
          "Kennedy"
         ],
         "yaxis": "y"
        },
        {
         "alignmentgroup": "True",
         "hovertemplate": "Nombre_Localidad=%{y}<br>FRECUENCIA=%{x}<extra></extra>",
         "legendgroup": "La Candelaria",
         "marker": {
          "color": "#fde725",
          "pattern": {
           "shape": ""
          }
         },
         "name": "La Candelaria",
         "offsetgroup": "La Candelaria",
         "orientation": "h",
         "showlegend": true,
         "textposition": "auto",
         "type": "bar",
         "x": [
          1408
         ],
         "xaxis": "x",
         "y": [
          "La Candelaria"
         ],
         "yaxis": "y"
        },
        {
         "alignmentgroup": "True",
         "hovertemplate": "Nombre_Localidad=%{y}<br>FRECUENCIA=%{x}<extra></extra>",
         "legendgroup": "Puente Aranda",
         "marker": {
          "color": "#440154",
          "pattern": {
           "shape": ""
          }
         },
         "name": "Puente Aranda",
         "offsetgroup": "Puente Aranda",
         "orientation": "h",
         "showlegend": true,
         "textposition": "auto",
         "type": "bar",
         "x": [
          564
         ],
         "xaxis": "x",
         "y": [
          "Puente Aranda"
         ],
         "yaxis": "y"
        },
        {
         "alignmentgroup": "True",
         "hovertemplate": "Nombre_Localidad=%{y}<br>FRECUENCIA=%{x}<extra></extra>",
         "legendgroup": "Los Mártires",
         "marker": {
          "color": "#482878",
          "pattern": {
           "shape": ""
          }
         },
         "name": "Los Mártires",
         "offsetgroup": "Los Mártires",
         "orientation": "h",
         "showlegend": true,
         "textposition": "auto",
         "type": "bar",
         "x": [
          490
         ],
         "xaxis": "x",
         "y": [
          "Los Mártires"
         ],
         "yaxis": "y"
        },
        {
         "alignmentgroup": "True",
         "hovertemplate": "Nombre_Localidad=%{y}<br>FRECUENCIA=%{x}<extra></extra>",
         "legendgroup": "San Cristobal",
         "marker": {
          "color": "#3e4989",
          "pattern": {
           "shape": ""
          }
         },
         "name": "San Cristobal",
         "offsetgroup": "San Cristobal",
         "orientation": "h",
         "showlegend": true,
         "textposition": "auto",
         "type": "bar",
         "x": [
          237
         ],
         "xaxis": "x",
         "y": [
          "San Cristobal"
         ],
         "yaxis": "y"
        },
        {
         "alignmentgroup": "True",
         "hovertemplate": "Nombre_Localidad=%{y}<br>FRECUENCIA=%{x}<extra></extra>",
         "legendgroup": "Ciudad Bolivar",
         "marker": {
          "color": "#31688e",
          "pattern": {
           "shape": ""
          }
         },
         "name": "Ciudad Bolivar",
         "offsetgroup": "Ciudad Bolivar",
         "orientation": "h",
         "showlegend": true,
         "textposition": "auto",
         "type": "bar",
         "x": [
          182
         ],
         "xaxis": "x",
         "y": [
          "Ciudad Bolivar"
         ],
         "yaxis": "y"
        },
        {
         "alignmentgroup": "True",
         "hovertemplate": "Nombre_Localidad=%{y}<br>FRECUENCIA=%{x}<extra></extra>",
         "legendgroup": "Rafael Uribe Uribe",
         "marker": {
          "color": "#26828e",
          "pattern": {
           "shape": ""
          }
         },
         "name": "Rafael Uribe Uribe",
         "offsetgroup": "Rafael Uribe Uribe",
         "orientation": "h",
         "showlegend": true,
         "textposition": "auto",
         "type": "bar",
         "x": [
          169
         ],
         "xaxis": "x",
         "y": [
          "Rafael Uribe Uribe"
         ],
         "yaxis": "y"
        },
        {
         "alignmentgroup": "True",
         "hovertemplate": "Nombre_Localidad=%{y}<br>FRECUENCIA=%{x}<extra></extra>",
         "legendgroup": "Antonio Nariño",
         "marker": {
          "color": "#1f9e89",
          "pattern": {
           "shape": ""
          }
         },
         "name": "Antonio Nariño",
         "offsetgroup": "Antonio Nariño",
         "orientation": "h",
         "showlegend": true,
         "textposition": "auto",
         "type": "bar",
         "x": [
          168
         ],
         "xaxis": "x",
         "y": [
          "Antonio Nariño"
         ],
         "yaxis": "y"
        },
        {
         "alignmentgroup": "True",
         "hovertemplate": "Nombre_Localidad=%{y}<br>FRECUENCIA=%{x}<extra></extra>",
         "legendgroup": "Bosa",
         "marker": {
          "color": "#35b779",
          "pattern": {
           "shape": ""
          }
         },
         "name": "Bosa",
         "offsetgroup": "Bosa",
         "orientation": "h",
         "showlegend": true,
         "textposition": "auto",
         "type": "bar",
         "x": [
          158
         ],
         "xaxis": "x",
         "y": [
          "Bosa"
         ],
         "yaxis": "y"
        },
        {
         "alignmentgroup": "True",
         "hovertemplate": "Nombre_Localidad=%{y}<br>FRECUENCIA=%{x}<extra></extra>",
         "legendgroup": "Tunjuelito",
         "marker": {
          "color": "#6ece58",
          "pattern": {
           "shape": ""
          }
         },
         "name": "Tunjuelito",
         "offsetgroup": "Tunjuelito",
         "orientation": "h",
         "showlegend": true,
         "textposition": "auto",
         "type": "bar",
         "x": [
          103
         ],
         "xaxis": "x",
         "y": [
          "Tunjuelito"
         ],
         "yaxis": "y"
        },
        {
         "alignmentgroup": "True",
         "hovertemplate": "Nombre_Localidad=%{y}<br>FRECUENCIA=%{x}<extra></extra>",
         "legendgroup": "Usme",
         "marker": {
          "color": "#b5de2b",
          "pattern": {
           "shape": ""
          }
         },
         "name": "Usme",
         "offsetgroup": "Usme",
         "orientation": "h",
         "showlegend": true,
         "textposition": "auto",
         "type": "bar",
         "x": [
          59
         ],
         "xaxis": "x",
         "y": [
          "Usme"
         ],
         "yaxis": "y"
        }
       ],
       "layout": {
        "barmode": "relative",
        "legend": {
         "title": {
          "text": "Nombre_Localidad"
         },
         "tracegroupgap": 0
        },
        "template": {
         "data": {
          "bar": [
           {
            "error_x": {
             "color": "rgb(36,36,36)"
            },
            "error_y": {
             "color": "rgb(36,36,36)"
            },
            "marker": {
             "line": {
              "color": "white",
              "width": 0.5
             },
             "pattern": {
              "fillmode": "overlay",
              "size": 10,
              "solidity": 0.2
             }
            },
            "type": "bar"
           }
          ],
          "barpolar": [
           {
            "marker": {
             "line": {
              "color": "white",
              "width": 0.5
             },
             "pattern": {
              "fillmode": "overlay",
              "size": 10,
              "solidity": 0.2
             }
            },
            "type": "barpolar"
           }
          ],
          "carpet": [
           {
            "aaxis": {
             "endlinecolor": "rgb(36,36,36)",
             "gridcolor": "white",
             "linecolor": "white",
             "minorgridcolor": "white",
             "startlinecolor": "rgb(36,36,36)"
            },
            "baxis": {
             "endlinecolor": "rgb(36,36,36)",
             "gridcolor": "white",
             "linecolor": "white",
             "minorgridcolor": "white",
             "startlinecolor": "rgb(36,36,36)"
            },
            "type": "carpet"
           }
          ],
          "choropleth": [
           {
            "colorbar": {
             "outlinewidth": 1,
             "tickcolor": "rgb(36,36,36)",
             "ticks": "outside"
            },
            "type": "choropleth"
           }
          ],
          "contour": [
           {
            "colorbar": {
             "outlinewidth": 1,
             "tickcolor": "rgb(36,36,36)",
             "ticks": "outside"
            },
            "colorscale": [
             [
              0,
              "#440154"
             ],
             [
              0.1111111111111111,
              "#482878"
             ],
             [
              0.2222222222222222,
              "#3e4989"
             ],
             [
              0.3333333333333333,
              "#31688e"
             ],
             [
              0.4444444444444444,
              "#26828e"
             ],
             [
              0.5555555555555556,
              "#1f9e89"
             ],
             [
              0.6666666666666666,
              "#35b779"
             ],
             [
              0.7777777777777778,
              "#6ece58"
             ],
             [
              0.8888888888888888,
              "#b5de2b"
             ],
             [
              1,
              "#fde725"
             ]
            ],
            "type": "contour"
           }
          ],
          "contourcarpet": [
           {
            "colorbar": {
             "outlinewidth": 1,
             "tickcolor": "rgb(36,36,36)",
             "ticks": "outside"
            },
            "type": "contourcarpet"
           }
          ],
          "heatmap": [
           {
            "colorbar": {
             "outlinewidth": 1,
             "tickcolor": "rgb(36,36,36)",
             "ticks": "outside"
            },
            "colorscale": [
             [
              0,
              "#440154"
             ],
             [
              0.1111111111111111,
              "#482878"
             ],
             [
              0.2222222222222222,
              "#3e4989"
             ],
             [
              0.3333333333333333,
              "#31688e"
             ],
             [
              0.4444444444444444,
              "#26828e"
             ],
             [
              0.5555555555555556,
              "#1f9e89"
             ],
             [
              0.6666666666666666,
              "#35b779"
             ],
             [
              0.7777777777777778,
              "#6ece58"
             ],
             [
              0.8888888888888888,
              "#b5de2b"
             ],
             [
              1,
              "#fde725"
             ]
            ],
            "type": "heatmap"
           }
          ],
          "heatmapgl": [
           {
            "colorbar": {
             "outlinewidth": 1,
             "tickcolor": "rgb(36,36,36)",
             "ticks": "outside"
            },
            "colorscale": [
             [
              0,
              "#440154"
             ],
             [
              0.1111111111111111,
              "#482878"
             ],
             [
              0.2222222222222222,
              "#3e4989"
             ],
             [
              0.3333333333333333,
              "#31688e"
             ],
             [
              0.4444444444444444,
              "#26828e"
             ],
             [
              0.5555555555555556,
              "#1f9e89"
             ],
             [
              0.6666666666666666,
              "#35b779"
             ],
             [
              0.7777777777777778,
              "#6ece58"
             ],
             [
              0.8888888888888888,
              "#b5de2b"
             ],
             [
              1,
              "#fde725"
             ]
            ],
            "type": "heatmapgl"
           }
          ],
          "histogram": [
           {
            "marker": {
             "line": {
              "color": "white",
              "width": 0.6
             }
            },
            "type": "histogram"
           }
          ],
          "histogram2d": [
           {
            "colorbar": {
             "outlinewidth": 1,
             "tickcolor": "rgb(36,36,36)",
             "ticks": "outside"
            },
            "colorscale": [
             [
              0,
              "#440154"
             ],
             [
              0.1111111111111111,
              "#482878"
             ],
             [
              0.2222222222222222,
              "#3e4989"
             ],
             [
              0.3333333333333333,
              "#31688e"
             ],
             [
              0.4444444444444444,
              "#26828e"
             ],
             [
              0.5555555555555556,
              "#1f9e89"
             ],
             [
              0.6666666666666666,
              "#35b779"
             ],
             [
              0.7777777777777778,
              "#6ece58"
             ],
             [
              0.8888888888888888,
              "#b5de2b"
             ],
             [
              1,
              "#fde725"
             ]
            ],
            "type": "histogram2d"
           }
          ],
          "histogram2dcontour": [
           {
            "colorbar": {
             "outlinewidth": 1,
             "tickcolor": "rgb(36,36,36)",
             "ticks": "outside"
            },
            "colorscale": [
             [
              0,
              "#440154"
             ],
             [
              0.1111111111111111,
              "#482878"
             ],
             [
              0.2222222222222222,
              "#3e4989"
             ],
             [
              0.3333333333333333,
              "#31688e"
             ],
             [
              0.4444444444444444,
              "#26828e"
             ],
             [
              0.5555555555555556,
              "#1f9e89"
             ],
             [
              0.6666666666666666,
              "#35b779"
             ],
             [
              0.7777777777777778,
              "#6ece58"
             ],
             [
              0.8888888888888888,
              "#b5de2b"
             ],
             [
              1,
              "#fde725"
             ]
            ],
            "type": "histogram2dcontour"
           }
          ],
          "mesh3d": [
           {
            "colorbar": {
             "outlinewidth": 1,
             "tickcolor": "rgb(36,36,36)",
             "ticks": "outside"
            },
            "type": "mesh3d"
           }
          ],
          "parcoords": [
           {
            "line": {
             "colorbar": {
              "outlinewidth": 1,
              "tickcolor": "rgb(36,36,36)",
              "ticks": "outside"
             }
            },
            "type": "parcoords"
           }
          ],
          "pie": [
           {
            "automargin": true,
            "type": "pie"
           }
          ],
          "scatter": [
           {
            "fillpattern": {
             "fillmode": "overlay",
             "size": 10,
             "solidity": 0.2
            },
            "type": "scatter"
           }
          ],
          "scatter3d": [
           {
            "line": {
             "colorbar": {
              "outlinewidth": 1,
              "tickcolor": "rgb(36,36,36)",
              "ticks": "outside"
             }
            },
            "marker": {
             "colorbar": {
              "outlinewidth": 1,
              "tickcolor": "rgb(36,36,36)",
              "ticks": "outside"
             }
            },
            "type": "scatter3d"
           }
          ],
          "scattercarpet": [
           {
            "marker": {
             "colorbar": {
              "outlinewidth": 1,
              "tickcolor": "rgb(36,36,36)",
              "ticks": "outside"
             }
            },
            "type": "scattercarpet"
           }
          ],
          "scattergeo": [
           {
            "marker": {
             "colorbar": {
              "outlinewidth": 1,
              "tickcolor": "rgb(36,36,36)",
              "ticks": "outside"
             }
            },
            "type": "scattergeo"
           }
          ],
          "scattergl": [
           {
            "marker": {
             "colorbar": {
              "outlinewidth": 1,
              "tickcolor": "rgb(36,36,36)",
              "ticks": "outside"
             }
            },
            "type": "scattergl"
           }
          ],
          "scattermapbox": [
           {
            "marker": {
             "colorbar": {
              "outlinewidth": 1,
              "tickcolor": "rgb(36,36,36)",
              "ticks": "outside"
             }
            },
            "type": "scattermapbox"
           }
          ],
          "scatterpolar": [
           {
            "marker": {
             "colorbar": {
              "outlinewidth": 1,
              "tickcolor": "rgb(36,36,36)",
              "ticks": "outside"
             }
            },
            "type": "scatterpolar"
           }
          ],
          "scatterpolargl": [
           {
            "marker": {
             "colorbar": {
              "outlinewidth": 1,
              "tickcolor": "rgb(36,36,36)",
              "ticks": "outside"
             }
            },
            "type": "scatterpolargl"
           }
          ],
          "scatterternary": [
           {
            "marker": {
             "colorbar": {
              "outlinewidth": 1,
              "tickcolor": "rgb(36,36,36)",
              "ticks": "outside"
             }
            },
            "type": "scatterternary"
           }
          ],
          "surface": [
           {
            "colorbar": {
             "outlinewidth": 1,
             "tickcolor": "rgb(36,36,36)",
             "ticks": "outside"
            },
            "colorscale": [
             [
              0,
              "#440154"
             ],
             [
              0.1111111111111111,
              "#482878"
             ],
             [
              0.2222222222222222,
              "#3e4989"
             ],
             [
              0.3333333333333333,
              "#31688e"
             ],
             [
              0.4444444444444444,
              "#26828e"
             ],
             [
              0.5555555555555556,
              "#1f9e89"
             ],
             [
              0.6666666666666666,
              "#35b779"
             ],
             [
              0.7777777777777778,
              "#6ece58"
             ],
             [
              0.8888888888888888,
              "#b5de2b"
             ],
             [
              1,
              "#fde725"
             ]
            ],
            "type": "surface"
           }
          ],
          "table": [
           {
            "cells": {
             "fill": {
              "color": "rgb(237,237,237)"
             },
             "line": {
              "color": "white"
             }
            },
            "header": {
             "fill": {
              "color": "rgb(217,217,217)"
             },
             "line": {
              "color": "white"
             }
            },
            "type": "table"
           }
          ]
         },
         "layout": {
          "annotationdefaults": {
           "arrowhead": 0,
           "arrowwidth": 1
          },
          "autotypenumbers": "strict",
          "coloraxis": {
           "colorbar": {
            "outlinewidth": 1,
            "tickcolor": "rgb(36,36,36)",
            "ticks": "outside"
           }
          },
          "colorscale": {
           "diverging": [
            [
             0,
             "rgb(103,0,31)"
            ],
            [
             0.1,
             "rgb(178,24,43)"
            ],
            [
             0.2,
             "rgb(214,96,77)"
            ],
            [
             0.3,
             "rgb(244,165,130)"
            ],
            [
             0.4,
             "rgb(253,219,199)"
            ],
            [
             0.5,
             "rgb(247,247,247)"
            ],
            [
             0.6,
             "rgb(209,229,240)"
            ],
            [
             0.7,
             "rgb(146,197,222)"
            ],
            [
             0.8,
             "rgb(67,147,195)"
            ],
            [
             0.9,
             "rgb(33,102,172)"
            ],
            [
             1,
             "rgb(5,48,97)"
            ]
           ],
           "sequential": [
            [
             0,
             "#440154"
            ],
            [
             0.1111111111111111,
             "#482878"
            ],
            [
             0.2222222222222222,
             "#3e4989"
            ],
            [
             0.3333333333333333,
             "#31688e"
            ],
            [
             0.4444444444444444,
             "#26828e"
            ],
            [
             0.5555555555555556,
             "#1f9e89"
            ],
            [
             0.6666666666666666,
             "#35b779"
            ],
            [
             0.7777777777777778,
             "#6ece58"
            ],
            [
             0.8888888888888888,
             "#b5de2b"
            ],
            [
             1,
             "#fde725"
            ]
           ],
           "sequentialminus": [
            [
             0,
             "#440154"
            ],
            [
             0.1111111111111111,
             "#482878"
            ],
            [
             0.2222222222222222,
             "#3e4989"
            ],
            [
             0.3333333333333333,
             "#31688e"
            ],
            [
             0.4444444444444444,
             "#26828e"
            ],
            [
             0.5555555555555556,
             "#1f9e89"
            ],
            [
             0.6666666666666666,
             "#35b779"
            ],
            [
             0.7777777777777778,
             "#6ece58"
            ],
            [
             0.8888888888888888,
             "#b5de2b"
            ],
            [
             1,
             "#fde725"
            ]
           ]
          },
          "colorway": [
           "#1F77B4",
           "#FF7F0E",
           "#2CA02C",
           "#D62728",
           "#9467BD",
           "#8C564B",
           "#E377C2",
           "#7F7F7F",
           "#BCBD22",
           "#17BECF"
          ],
          "font": {
           "color": "rgb(36,36,36)"
          },
          "geo": {
           "bgcolor": "white",
           "lakecolor": "white",
           "landcolor": "white",
           "showlakes": true,
           "showland": true,
           "subunitcolor": "white"
          },
          "hoverlabel": {
           "align": "left"
          },
          "hovermode": "closest",
          "mapbox": {
           "style": "light"
          },
          "paper_bgcolor": "white",
          "plot_bgcolor": "white",
          "polar": {
           "angularaxis": {
            "gridcolor": "rgb(232,232,232)",
            "linecolor": "rgb(36,36,36)",
            "showgrid": false,
            "showline": true,
            "ticks": "outside"
           },
           "bgcolor": "white",
           "radialaxis": {
            "gridcolor": "rgb(232,232,232)",
            "linecolor": "rgb(36,36,36)",
            "showgrid": false,
            "showline": true,
            "ticks": "outside"
           }
          },
          "scene": {
           "xaxis": {
            "backgroundcolor": "white",
            "gridcolor": "rgb(232,232,232)",
            "gridwidth": 2,
            "linecolor": "rgb(36,36,36)",
            "showbackground": true,
            "showgrid": false,
            "showline": true,
            "ticks": "outside",
            "zeroline": false,
            "zerolinecolor": "rgb(36,36,36)"
           },
           "yaxis": {
            "backgroundcolor": "white",
            "gridcolor": "rgb(232,232,232)",
            "gridwidth": 2,
            "linecolor": "rgb(36,36,36)",
            "showbackground": true,
            "showgrid": false,
            "showline": true,
            "ticks": "outside",
            "zeroline": false,
            "zerolinecolor": "rgb(36,36,36)"
           },
           "zaxis": {
            "backgroundcolor": "white",
            "gridcolor": "rgb(232,232,232)",
            "gridwidth": 2,
            "linecolor": "rgb(36,36,36)",
            "showbackground": true,
            "showgrid": false,
            "showline": true,
            "ticks": "outside",
            "zeroline": false,
            "zerolinecolor": "rgb(36,36,36)"
           }
          },
          "shapedefaults": {
           "fillcolor": "black",
           "line": {
            "width": 0
           },
           "opacity": 0.3
          },
          "ternary": {
           "aaxis": {
            "gridcolor": "rgb(232,232,232)",
            "linecolor": "rgb(36,36,36)",
            "showgrid": false,
            "showline": true,
            "ticks": "outside"
           },
           "baxis": {
            "gridcolor": "rgb(232,232,232)",
            "linecolor": "rgb(36,36,36)",
            "showgrid": false,
            "showline": true,
            "ticks": "outside"
           },
           "bgcolor": "white",
           "caxis": {
            "gridcolor": "rgb(232,232,232)",
            "linecolor": "rgb(36,36,36)",
            "showgrid": false,
            "showline": true,
            "ticks": "outside"
           }
          },
          "title": {
           "x": 0.05
          },
          "xaxis": {
           "automargin": true,
           "gridcolor": "rgb(232,232,232)",
           "linecolor": "rgb(36,36,36)",
           "showgrid": false,
           "showline": true,
           "ticks": "outside",
           "title": {
            "standoff": 15
           },
           "zeroline": false,
           "zerolinecolor": "rgb(36,36,36)"
          },
          "yaxis": {
           "automargin": true,
           "gridcolor": "rgb(232,232,232)",
           "linecolor": "rgb(36,36,36)",
           "showgrid": false,
           "showline": true,
           "ticks": "outside",
           "title": {
            "standoff": 15
           },
           "zeroline": false,
           "zerolinecolor": "rgb(36,36,36)"
          }
         }
        },
        "title": {
         "text": "<b>Número de Establecimientos por Localidad <b>",
         "x": 0.5
        },
        "xaxis": {
         "anchor": "y",
         "domain": [
          0,
          1
         ],
         "title": {
          "text": "# Establecimientos"
         }
        },
        "yaxis": {
         "anchor": "x",
         "categoryarray": [
          "Usme",
          "Tunjuelito",
          "Bosa",
          "Antonio Nariño",
          "Rafael Uribe Uribe",
          "Ciudad Bolivar",
          "San Cristobal",
          "Los Mártires",
          "Puente Aranda",
          "La Candelaria",
          "Kennedy",
          "Barrios Unidos",
          "Fontibón",
          "Engativá",
          "Santa Fe",
          "Suba",
          "Teusaquillo",
          "Usaquén",
          "Chapinero"
         ],
         "categoryorder": "array",
         "domain": [
          0,
          1
         ],
         "title": {
          "text": "Localidad"
         }
        }
       }
      },
      "text/html": [
       "<div>                            <div id=\"482547ef-3517-41b6-98e6-88e4386fb1fe\" class=\"plotly-graph-div\" style=\"height:525px; width:100%;\"></div>            <script type=\"text/javascript\">                require([\"plotly\"], function(Plotly) {                    window.PLOTLYENV=window.PLOTLYENV || {};                                    if (document.getElementById(\"482547ef-3517-41b6-98e6-88e4386fb1fe\")) {                    Plotly.newPlot(                        \"482547ef-3517-41b6-98e6-88e4386fb1fe\",                        [{\"alignmentgroup\":\"True\",\"hovertemplate\":\"Nombre_Localidad=%{y}<br>FRECUENCIA=%{x}<extra></extra>\",\"legendgroup\":\"Chapinero\",\"marker\":{\"color\":\"#440154\",\"pattern\":{\"shape\":\"\"}},\"name\":\"Chapinero\",\"offsetgroup\":\"Chapinero\",\"orientation\":\"h\",\"showlegend\":true,\"textposition\":\"auto\",\"x\":[11846],\"xaxis\":\"x\",\"y\":[\"Chapinero\"],\"yaxis\":\"y\",\"type\":\"bar\"},{\"alignmentgroup\":\"True\",\"hovertemplate\":\"Nombre_Localidad=%{y}<br>FRECUENCIA=%{x}<extra></extra>\",\"legendgroup\":\"Usaqu\\u00e9n\",\"marker\":{\"color\":\"#482878\",\"pattern\":{\"shape\":\"\"}},\"name\":\"Usaqu\\u00e9n\",\"offsetgroup\":\"Usaqu\\u00e9n\",\"orientation\":\"h\",\"showlegend\":true,\"textposition\":\"auto\",\"x\":[9486],\"xaxis\":\"x\",\"y\":[\"Usaqu\\u00e9n\"],\"yaxis\":\"y\",\"type\":\"bar\"},{\"alignmentgroup\":\"True\",\"hovertemplate\":\"Nombre_Localidad=%{y}<br>FRECUENCIA=%{x}<extra></extra>\",\"legendgroup\":\"Teusaquillo\",\"marker\":{\"color\":\"#3e4989\",\"pattern\":{\"shape\":\"\"}},\"name\":\"Teusaquillo\",\"offsetgroup\":\"Teusaquillo\",\"orientation\":\"h\",\"showlegend\":true,\"textposition\":\"auto\",\"x\":[6833],\"xaxis\":\"x\",\"y\":[\"Teusaquillo\"],\"yaxis\":\"y\",\"type\":\"bar\"},{\"alignmentgroup\":\"True\",\"hovertemplate\":\"Nombre_Localidad=%{y}<br>FRECUENCIA=%{x}<extra></extra>\",\"legendgroup\":\"Suba\",\"marker\":{\"color\":\"#31688e\",\"pattern\":{\"shape\":\"\"}},\"name\":\"Suba\",\"offsetgroup\":\"Suba\",\"orientation\":\"h\",\"showlegend\":true,\"textposition\":\"auto\",\"x\":[6219],\"xaxis\":\"x\",\"y\":[\"Suba\"],\"yaxis\":\"y\",\"type\":\"bar\"},{\"alignmentgroup\":\"True\",\"hovertemplate\":\"Nombre_Localidad=%{y}<br>FRECUENCIA=%{x}<extra></extra>\",\"legendgroup\":\"Santa Fe\",\"marker\":{\"color\":\"#26828e\",\"pattern\":{\"shape\":\"\"}},\"name\":\"Santa Fe\",\"offsetgroup\":\"Santa Fe\",\"orientation\":\"h\",\"showlegend\":true,\"textposition\":\"auto\",\"x\":[2951],\"xaxis\":\"x\",\"y\":[\"Santa Fe\"],\"yaxis\":\"y\",\"type\":\"bar\"},{\"alignmentgroup\":\"True\",\"hovertemplate\":\"Nombre_Localidad=%{y}<br>FRECUENCIA=%{x}<extra></extra>\",\"legendgroup\":\"Engativ\\u00e1\",\"marker\":{\"color\":\"#1f9e89\",\"pattern\":{\"shape\":\"\"}},\"name\":\"Engativ\\u00e1\",\"offsetgroup\":\"Engativ\\u00e1\",\"orientation\":\"h\",\"showlegend\":true,\"textposition\":\"auto\",\"x\":[2884],\"xaxis\":\"x\",\"y\":[\"Engativ\\u00e1\"],\"yaxis\":\"y\",\"type\":\"bar\"},{\"alignmentgroup\":\"True\",\"hovertemplate\":\"Nombre_Localidad=%{y}<br>FRECUENCIA=%{x}<extra></extra>\",\"legendgroup\":\"Fontib\\u00f3n\",\"marker\":{\"color\":\"#35b779\",\"pattern\":{\"shape\":\"\"}},\"name\":\"Fontib\\u00f3n\",\"offsetgroup\":\"Fontib\\u00f3n\",\"orientation\":\"h\",\"showlegend\":true,\"textposition\":\"auto\",\"x\":[2351],\"xaxis\":\"x\",\"y\":[\"Fontib\\u00f3n\"],\"yaxis\":\"y\",\"type\":\"bar\"},{\"alignmentgroup\":\"True\",\"hovertemplate\":\"Nombre_Localidad=%{y}<br>FRECUENCIA=%{x}<extra></extra>\",\"legendgroup\":\"Barrios Unidos\",\"marker\":{\"color\":\"#6ece58\",\"pattern\":{\"shape\":\"\"}},\"name\":\"Barrios Unidos\",\"offsetgroup\":\"Barrios Unidos\",\"orientation\":\"h\",\"showlegend\":true,\"textposition\":\"auto\",\"x\":[2249],\"xaxis\":\"x\",\"y\":[\"Barrios Unidos\"],\"yaxis\":\"y\",\"type\":\"bar\"},{\"alignmentgroup\":\"True\",\"hovertemplate\":\"Nombre_Localidad=%{y}<br>FRECUENCIA=%{x}<extra></extra>\",\"legendgroup\":\"Kennedy\",\"marker\":{\"color\":\"#b5de2b\",\"pattern\":{\"shape\":\"\"}},\"name\":\"Kennedy\",\"offsetgroup\":\"Kennedy\",\"orientation\":\"h\",\"showlegend\":true,\"textposition\":\"auto\",\"x\":[1506],\"xaxis\":\"x\",\"y\":[\"Kennedy\"],\"yaxis\":\"y\",\"type\":\"bar\"},{\"alignmentgroup\":\"True\",\"hovertemplate\":\"Nombre_Localidad=%{y}<br>FRECUENCIA=%{x}<extra></extra>\",\"legendgroup\":\"La Candelaria\",\"marker\":{\"color\":\"#fde725\",\"pattern\":{\"shape\":\"\"}},\"name\":\"La Candelaria\",\"offsetgroup\":\"La Candelaria\",\"orientation\":\"h\",\"showlegend\":true,\"textposition\":\"auto\",\"x\":[1408],\"xaxis\":\"x\",\"y\":[\"La Candelaria\"],\"yaxis\":\"y\",\"type\":\"bar\"},{\"alignmentgroup\":\"True\",\"hovertemplate\":\"Nombre_Localidad=%{y}<br>FRECUENCIA=%{x}<extra></extra>\",\"legendgroup\":\"Puente Aranda\",\"marker\":{\"color\":\"#440154\",\"pattern\":{\"shape\":\"\"}},\"name\":\"Puente Aranda\",\"offsetgroup\":\"Puente Aranda\",\"orientation\":\"h\",\"showlegend\":true,\"textposition\":\"auto\",\"x\":[564],\"xaxis\":\"x\",\"y\":[\"Puente Aranda\"],\"yaxis\":\"y\",\"type\":\"bar\"},{\"alignmentgroup\":\"True\",\"hovertemplate\":\"Nombre_Localidad=%{y}<br>FRECUENCIA=%{x}<extra></extra>\",\"legendgroup\":\"Los M\\u00e1rtires\",\"marker\":{\"color\":\"#482878\",\"pattern\":{\"shape\":\"\"}},\"name\":\"Los M\\u00e1rtires\",\"offsetgroup\":\"Los M\\u00e1rtires\",\"orientation\":\"h\",\"showlegend\":true,\"textposition\":\"auto\",\"x\":[490],\"xaxis\":\"x\",\"y\":[\"Los M\\u00e1rtires\"],\"yaxis\":\"y\",\"type\":\"bar\"},{\"alignmentgroup\":\"True\",\"hovertemplate\":\"Nombre_Localidad=%{y}<br>FRECUENCIA=%{x}<extra></extra>\",\"legendgroup\":\"San Cristobal\",\"marker\":{\"color\":\"#3e4989\",\"pattern\":{\"shape\":\"\"}},\"name\":\"San Cristobal\",\"offsetgroup\":\"San Cristobal\",\"orientation\":\"h\",\"showlegend\":true,\"textposition\":\"auto\",\"x\":[237],\"xaxis\":\"x\",\"y\":[\"San Cristobal\"],\"yaxis\":\"y\",\"type\":\"bar\"},{\"alignmentgroup\":\"True\",\"hovertemplate\":\"Nombre_Localidad=%{y}<br>FRECUENCIA=%{x}<extra></extra>\",\"legendgroup\":\"Ciudad Bolivar\",\"marker\":{\"color\":\"#31688e\",\"pattern\":{\"shape\":\"\"}},\"name\":\"Ciudad Bolivar\",\"offsetgroup\":\"Ciudad Bolivar\",\"orientation\":\"h\",\"showlegend\":true,\"textposition\":\"auto\",\"x\":[182],\"xaxis\":\"x\",\"y\":[\"Ciudad Bolivar\"],\"yaxis\":\"y\",\"type\":\"bar\"},{\"alignmentgroup\":\"True\",\"hovertemplate\":\"Nombre_Localidad=%{y}<br>FRECUENCIA=%{x}<extra></extra>\",\"legendgroup\":\"Rafael Uribe Uribe\",\"marker\":{\"color\":\"#26828e\",\"pattern\":{\"shape\":\"\"}},\"name\":\"Rafael Uribe Uribe\",\"offsetgroup\":\"Rafael Uribe Uribe\",\"orientation\":\"h\",\"showlegend\":true,\"textposition\":\"auto\",\"x\":[169],\"xaxis\":\"x\",\"y\":[\"Rafael Uribe Uribe\"],\"yaxis\":\"y\",\"type\":\"bar\"},{\"alignmentgroup\":\"True\",\"hovertemplate\":\"Nombre_Localidad=%{y}<br>FRECUENCIA=%{x}<extra></extra>\",\"legendgroup\":\"Antonio Nari\\u00f1o\",\"marker\":{\"color\":\"#1f9e89\",\"pattern\":{\"shape\":\"\"}},\"name\":\"Antonio Nari\\u00f1o\",\"offsetgroup\":\"Antonio Nari\\u00f1o\",\"orientation\":\"h\",\"showlegend\":true,\"textposition\":\"auto\",\"x\":[168],\"xaxis\":\"x\",\"y\":[\"Antonio Nari\\u00f1o\"],\"yaxis\":\"y\",\"type\":\"bar\"},{\"alignmentgroup\":\"True\",\"hovertemplate\":\"Nombre_Localidad=%{y}<br>FRECUENCIA=%{x}<extra></extra>\",\"legendgroup\":\"Bosa\",\"marker\":{\"color\":\"#35b779\",\"pattern\":{\"shape\":\"\"}},\"name\":\"Bosa\",\"offsetgroup\":\"Bosa\",\"orientation\":\"h\",\"showlegend\":true,\"textposition\":\"auto\",\"x\":[158],\"xaxis\":\"x\",\"y\":[\"Bosa\"],\"yaxis\":\"y\",\"type\":\"bar\"},{\"alignmentgroup\":\"True\",\"hovertemplate\":\"Nombre_Localidad=%{y}<br>FRECUENCIA=%{x}<extra></extra>\",\"legendgroup\":\"Tunjuelito\",\"marker\":{\"color\":\"#6ece58\",\"pattern\":{\"shape\":\"\"}},\"name\":\"Tunjuelito\",\"offsetgroup\":\"Tunjuelito\",\"orientation\":\"h\",\"showlegend\":true,\"textposition\":\"auto\",\"x\":[103],\"xaxis\":\"x\",\"y\":[\"Tunjuelito\"],\"yaxis\":\"y\",\"type\":\"bar\"},{\"alignmentgroup\":\"True\",\"hovertemplate\":\"Nombre_Localidad=%{y}<br>FRECUENCIA=%{x}<extra></extra>\",\"legendgroup\":\"Usme\",\"marker\":{\"color\":\"#b5de2b\",\"pattern\":{\"shape\":\"\"}},\"name\":\"Usme\",\"offsetgroup\":\"Usme\",\"orientation\":\"h\",\"showlegend\":true,\"textposition\":\"auto\",\"x\":[59],\"xaxis\":\"x\",\"y\":[\"Usme\"],\"yaxis\":\"y\",\"type\":\"bar\"}],                        {\"template\":{\"data\":{\"barpolar\":[{\"marker\":{\"line\":{\"color\":\"white\",\"width\":0.5},\"pattern\":{\"fillmode\":\"overlay\",\"size\":10,\"solidity\":0.2}},\"type\":\"barpolar\"}],\"bar\":[{\"error_x\":{\"color\":\"rgb(36,36,36)\"},\"error_y\":{\"color\":\"rgb(36,36,36)\"},\"marker\":{\"line\":{\"color\":\"white\",\"width\":0.5},\"pattern\":{\"fillmode\":\"overlay\",\"size\":10,\"solidity\":0.2}},\"type\":\"bar\"}],\"carpet\":[{\"aaxis\":{\"endlinecolor\":\"rgb(36,36,36)\",\"gridcolor\":\"white\",\"linecolor\":\"white\",\"minorgridcolor\":\"white\",\"startlinecolor\":\"rgb(36,36,36)\"},\"baxis\":{\"endlinecolor\":\"rgb(36,36,36)\",\"gridcolor\":\"white\",\"linecolor\":\"white\",\"minorgridcolor\":\"white\",\"startlinecolor\":\"rgb(36,36,36)\"},\"type\":\"carpet\"}],\"choropleth\":[{\"colorbar\":{\"outlinewidth\":1,\"tickcolor\":\"rgb(36,36,36)\",\"ticks\":\"outside\"},\"type\":\"choropleth\"}],\"contourcarpet\":[{\"colorbar\":{\"outlinewidth\":1,\"tickcolor\":\"rgb(36,36,36)\",\"ticks\":\"outside\"},\"type\":\"contourcarpet\"}],\"contour\":[{\"colorbar\":{\"outlinewidth\":1,\"tickcolor\":\"rgb(36,36,36)\",\"ticks\":\"outside\"},\"colorscale\":[[0.0,\"#440154\"],[0.1111111111111111,\"#482878\"],[0.2222222222222222,\"#3e4989\"],[0.3333333333333333,\"#31688e\"],[0.4444444444444444,\"#26828e\"],[0.5555555555555556,\"#1f9e89\"],[0.6666666666666666,\"#35b779\"],[0.7777777777777778,\"#6ece58\"],[0.8888888888888888,\"#b5de2b\"],[1.0,\"#fde725\"]],\"type\":\"contour\"}],\"heatmapgl\":[{\"colorbar\":{\"outlinewidth\":1,\"tickcolor\":\"rgb(36,36,36)\",\"ticks\":\"outside\"},\"colorscale\":[[0.0,\"#440154\"],[0.1111111111111111,\"#482878\"],[0.2222222222222222,\"#3e4989\"],[0.3333333333333333,\"#31688e\"],[0.4444444444444444,\"#26828e\"],[0.5555555555555556,\"#1f9e89\"],[0.6666666666666666,\"#35b779\"],[0.7777777777777778,\"#6ece58\"],[0.8888888888888888,\"#b5de2b\"],[1.0,\"#fde725\"]],\"type\":\"heatmapgl\"}],\"heatmap\":[{\"colorbar\":{\"outlinewidth\":1,\"tickcolor\":\"rgb(36,36,36)\",\"ticks\":\"outside\"},\"colorscale\":[[0.0,\"#440154\"],[0.1111111111111111,\"#482878\"],[0.2222222222222222,\"#3e4989\"],[0.3333333333333333,\"#31688e\"],[0.4444444444444444,\"#26828e\"],[0.5555555555555556,\"#1f9e89\"],[0.6666666666666666,\"#35b779\"],[0.7777777777777778,\"#6ece58\"],[0.8888888888888888,\"#b5de2b\"],[1.0,\"#fde725\"]],\"type\":\"heatmap\"}],\"histogram2dcontour\":[{\"colorbar\":{\"outlinewidth\":1,\"tickcolor\":\"rgb(36,36,36)\",\"ticks\":\"outside\"},\"colorscale\":[[0.0,\"#440154\"],[0.1111111111111111,\"#482878\"],[0.2222222222222222,\"#3e4989\"],[0.3333333333333333,\"#31688e\"],[0.4444444444444444,\"#26828e\"],[0.5555555555555556,\"#1f9e89\"],[0.6666666666666666,\"#35b779\"],[0.7777777777777778,\"#6ece58\"],[0.8888888888888888,\"#b5de2b\"],[1.0,\"#fde725\"]],\"type\":\"histogram2dcontour\"}],\"histogram2d\":[{\"colorbar\":{\"outlinewidth\":1,\"tickcolor\":\"rgb(36,36,36)\",\"ticks\":\"outside\"},\"colorscale\":[[0.0,\"#440154\"],[0.1111111111111111,\"#482878\"],[0.2222222222222222,\"#3e4989\"],[0.3333333333333333,\"#31688e\"],[0.4444444444444444,\"#26828e\"],[0.5555555555555556,\"#1f9e89\"],[0.6666666666666666,\"#35b779\"],[0.7777777777777778,\"#6ece58\"],[0.8888888888888888,\"#b5de2b\"],[1.0,\"#fde725\"]],\"type\":\"histogram2d\"}],\"histogram\":[{\"marker\":{\"line\":{\"color\":\"white\",\"width\":0.6}},\"type\":\"histogram\"}],\"mesh3d\":[{\"colorbar\":{\"outlinewidth\":1,\"tickcolor\":\"rgb(36,36,36)\",\"ticks\":\"outside\"},\"type\":\"mesh3d\"}],\"parcoords\":[{\"line\":{\"colorbar\":{\"outlinewidth\":1,\"tickcolor\":\"rgb(36,36,36)\",\"ticks\":\"outside\"}},\"type\":\"parcoords\"}],\"pie\":[{\"automargin\":true,\"type\":\"pie\"}],\"scatter3d\":[{\"line\":{\"colorbar\":{\"outlinewidth\":1,\"tickcolor\":\"rgb(36,36,36)\",\"ticks\":\"outside\"}},\"marker\":{\"colorbar\":{\"outlinewidth\":1,\"tickcolor\":\"rgb(36,36,36)\",\"ticks\":\"outside\"}},\"type\":\"scatter3d\"}],\"scattercarpet\":[{\"marker\":{\"colorbar\":{\"outlinewidth\":1,\"tickcolor\":\"rgb(36,36,36)\",\"ticks\":\"outside\"}},\"type\":\"scattercarpet\"}],\"scattergeo\":[{\"marker\":{\"colorbar\":{\"outlinewidth\":1,\"tickcolor\":\"rgb(36,36,36)\",\"ticks\":\"outside\"}},\"type\":\"scattergeo\"}],\"scattergl\":[{\"marker\":{\"colorbar\":{\"outlinewidth\":1,\"tickcolor\":\"rgb(36,36,36)\",\"ticks\":\"outside\"}},\"type\":\"scattergl\"}],\"scattermapbox\":[{\"marker\":{\"colorbar\":{\"outlinewidth\":1,\"tickcolor\":\"rgb(36,36,36)\",\"ticks\":\"outside\"}},\"type\":\"scattermapbox\"}],\"scatterpolargl\":[{\"marker\":{\"colorbar\":{\"outlinewidth\":1,\"tickcolor\":\"rgb(36,36,36)\",\"ticks\":\"outside\"}},\"type\":\"scatterpolargl\"}],\"scatterpolar\":[{\"marker\":{\"colorbar\":{\"outlinewidth\":1,\"tickcolor\":\"rgb(36,36,36)\",\"ticks\":\"outside\"}},\"type\":\"scatterpolar\"}],\"scatter\":[{\"fillpattern\":{\"fillmode\":\"overlay\",\"size\":10,\"solidity\":0.2},\"type\":\"scatter\"}],\"scatterternary\":[{\"marker\":{\"colorbar\":{\"outlinewidth\":1,\"tickcolor\":\"rgb(36,36,36)\",\"ticks\":\"outside\"}},\"type\":\"scatterternary\"}],\"surface\":[{\"colorbar\":{\"outlinewidth\":1,\"tickcolor\":\"rgb(36,36,36)\",\"ticks\":\"outside\"},\"colorscale\":[[0.0,\"#440154\"],[0.1111111111111111,\"#482878\"],[0.2222222222222222,\"#3e4989\"],[0.3333333333333333,\"#31688e\"],[0.4444444444444444,\"#26828e\"],[0.5555555555555556,\"#1f9e89\"],[0.6666666666666666,\"#35b779\"],[0.7777777777777778,\"#6ece58\"],[0.8888888888888888,\"#b5de2b\"],[1.0,\"#fde725\"]],\"type\":\"surface\"}],\"table\":[{\"cells\":{\"fill\":{\"color\":\"rgb(237,237,237)\"},\"line\":{\"color\":\"white\"}},\"header\":{\"fill\":{\"color\":\"rgb(217,217,217)\"},\"line\":{\"color\":\"white\"}},\"type\":\"table\"}]},\"layout\":{\"annotationdefaults\":{\"arrowhead\":0,\"arrowwidth\":1},\"autotypenumbers\":\"strict\",\"coloraxis\":{\"colorbar\":{\"outlinewidth\":1,\"tickcolor\":\"rgb(36,36,36)\",\"ticks\":\"outside\"}},\"colorscale\":{\"diverging\":[[0.0,\"rgb(103,0,31)\"],[0.1,\"rgb(178,24,43)\"],[0.2,\"rgb(214,96,77)\"],[0.3,\"rgb(244,165,130)\"],[0.4,\"rgb(253,219,199)\"],[0.5,\"rgb(247,247,247)\"],[0.6,\"rgb(209,229,240)\"],[0.7,\"rgb(146,197,222)\"],[0.8,\"rgb(67,147,195)\"],[0.9,\"rgb(33,102,172)\"],[1.0,\"rgb(5,48,97)\"]],\"sequential\":[[0.0,\"#440154\"],[0.1111111111111111,\"#482878\"],[0.2222222222222222,\"#3e4989\"],[0.3333333333333333,\"#31688e\"],[0.4444444444444444,\"#26828e\"],[0.5555555555555556,\"#1f9e89\"],[0.6666666666666666,\"#35b779\"],[0.7777777777777778,\"#6ece58\"],[0.8888888888888888,\"#b5de2b\"],[1.0,\"#fde725\"]],\"sequentialminus\":[[0.0,\"#440154\"],[0.1111111111111111,\"#482878\"],[0.2222222222222222,\"#3e4989\"],[0.3333333333333333,\"#31688e\"],[0.4444444444444444,\"#26828e\"],[0.5555555555555556,\"#1f9e89\"],[0.6666666666666666,\"#35b779\"],[0.7777777777777778,\"#6ece58\"],[0.8888888888888888,\"#b5de2b\"],[1.0,\"#fde725\"]]},\"colorway\":[\"#1F77B4\",\"#FF7F0E\",\"#2CA02C\",\"#D62728\",\"#9467BD\",\"#8C564B\",\"#E377C2\",\"#7F7F7F\",\"#BCBD22\",\"#17BECF\"],\"font\":{\"color\":\"rgb(36,36,36)\"},\"geo\":{\"bgcolor\":\"white\",\"lakecolor\":\"white\",\"landcolor\":\"white\",\"showlakes\":true,\"showland\":true,\"subunitcolor\":\"white\"},\"hoverlabel\":{\"align\":\"left\"},\"hovermode\":\"closest\",\"mapbox\":{\"style\":\"light\"},\"paper_bgcolor\":\"white\",\"plot_bgcolor\":\"white\",\"polar\":{\"angularaxis\":{\"gridcolor\":\"rgb(232,232,232)\",\"linecolor\":\"rgb(36,36,36)\",\"showgrid\":false,\"showline\":true,\"ticks\":\"outside\"},\"bgcolor\":\"white\",\"radialaxis\":{\"gridcolor\":\"rgb(232,232,232)\",\"linecolor\":\"rgb(36,36,36)\",\"showgrid\":false,\"showline\":true,\"ticks\":\"outside\"}},\"scene\":{\"xaxis\":{\"backgroundcolor\":\"white\",\"gridcolor\":\"rgb(232,232,232)\",\"gridwidth\":2,\"linecolor\":\"rgb(36,36,36)\",\"showbackground\":true,\"showgrid\":false,\"showline\":true,\"ticks\":\"outside\",\"zeroline\":false,\"zerolinecolor\":\"rgb(36,36,36)\"},\"yaxis\":{\"backgroundcolor\":\"white\",\"gridcolor\":\"rgb(232,232,232)\",\"gridwidth\":2,\"linecolor\":\"rgb(36,36,36)\",\"showbackground\":true,\"showgrid\":false,\"showline\":true,\"ticks\":\"outside\",\"zeroline\":false,\"zerolinecolor\":\"rgb(36,36,36)\"},\"zaxis\":{\"backgroundcolor\":\"white\",\"gridcolor\":\"rgb(232,232,232)\",\"gridwidth\":2,\"linecolor\":\"rgb(36,36,36)\",\"showbackground\":true,\"showgrid\":false,\"showline\":true,\"ticks\":\"outside\",\"zeroline\":false,\"zerolinecolor\":\"rgb(36,36,36)\"}},\"shapedefaults\":{\"fillcolor\":\"black\",\"line\":{\"width\":0},\"opacity\":0.3},\"ternary\":{\"aaxis\":{\"gridcolor\":\"rgb(232,232,232)\",\"linecolor\":\"rgb(36,36,36)\",\"showgrid\":false,\"showline\":true,\"ticks\":\"outside\"},\"baxis\":{\"gridcolor\":\"rgb(232,232,232)\",\"linecolor\":\"rgb(36,36,36)\",\"showgrid\":false,\"showline\":true,\"ticks\":\"outside\"},\"bgcolor\":\"white\",\"caxis\":{\"gridcolor\":\"rgb(232,232,232)\",\"linecolor\":\"rgb(36,36,36)\",\"showgrid\":false,\"showline\":true,\"ticks\":\"outside\"}},\"title\":{\"x\":0.05},\"xaxis\":{\"automargin\":true,\"gridcolor\":\"rgb(232,232,232)\",\"linecolor\":\"rgb(36,36,36)\",\"showgrid\":false,\"showline\":true,\"ticks\":\"outside\",\"title\":{\"standoff\":15},\"zeroline\":false,\"zerolinecolor\":\"rgb(36,36,36)\"},\"yaxis\":{\"automargin\":true,\"gridcolor\":\"rgb(232,232,232)\",\"linecolor\":\"rgb(36,36,36)\",\"showgrid\":false,\"showline\":true,\"ticks\":\"outside\",\"title\":{\"standoff\":15},\"zeroline\":false,\"zerolinecolor\":\"rgb(36,36,36)\"}}},\"xaxis\":{\"anchor\":\"y\",\"domain\":[0.0,1.0],\"title\":{\"text\":\"# Establecimientos\"}},\"yaxis\":{\"anchor\":\"x\",\"domain\":[0.0,1.0],\"title\":{\"text\":\"Localidad\"},\"categoryorder\":\"array\",\"categoryarray\":[\"Usme\",\"Tunjuelito\",\"Bosa\",\"Antonio Nari\\u00f1o\",\"Rafael Uribe Uribe\",\"Ciudad Bolivar\",\"San Cristobal\",\"Los M\\u00e1rtires\",\"Puente Aranda\",\"La Candelaria\",\"Kennedy\",\"Barrios Unidos\",\"Fontib\\u00f3n\",\"Engativ\\u00e1\",\"Santa Fe\",\"Suba\",\"Teusaquillo\",\"Usaqu\\u00e9n\",\"Chapinero\"]},\"legend\":{\"title\":{\"text\":\"Nombre_Localidad\"},\"tracegroupgap\":0},\"title\":{\"text\":\"<b>N\\u00famero de Establecimientos por Localidad <b>\",\"x\":0.5},\"barmode\":\"relative\"},                        {\"responsive\": true}                    ).then(function(){\n",
       "                            \n",
       "var gd = document.getElementById('482547ef-3517-41b6-98e6-88e4386fb1fe');\n",
       "var x = new MutationObserver(function (mutations, observer) {{\n",
       "        var display = window.getComputedStyle(gd).display;\n",
       "        if (!display || display === 'none') {{\n",
       "            console.log([gd, 'removed!']);\n",
       "            Plotly.purge(gd);\n",
       "            observer.disconnect();\n",
       "        }}\n",
       "}});\n",
       "\n",
       "// Listen for the removal of the full notebook cells\n",
       "var notebookContainer = gd.closest('#notebook-container');\n",
       "if (notebookContainer) {{\n",
       "    x.observe(notebookContainer, {childList: true});\n",
       "}}\n",
       "\n",
       "// Listen for the clearing of the current output cell\n",
       "var outputEl = gd.closest('.output');\n",
       "if (outputEl) {{\n",
       "    x.observe(outputEl, {childList: true});\n",
       "}}\n",
       "\n",
       "                        })                };                });            </script>        </div>"
      ]
     },
     "metadata": {},
     "output_type": "display_data"
    }
   ],
   "source": [
    "# crear dataset\n",
    "sitiosporloca_df = sitiosporloca(base2).sort_values(by='FRECUENCIA', ascending=False)\n",
    "\n",
    "# crear gráfica\n",
    "fig = px.bar(sitiosporloca_df, x = 'FRECUENCIA', y='Nombre_Localidad', color='Nombre_Localidad',\n",
    "             title= '<b>Número de Establecimientos por Localidad <b>',\n",
    "            color_discrete_sequence=px.colors.sequential.Viridis)\n",
    "\n",
    "# agregar detalles a la gráfica\n",
    "fig.update_layout(\n",
    "    xaxis_title = '# Establecimientos',\n",
    "    yaxis_title = 'Localidad',\n",
    "    template = 'simple_white',\n",
    "    title_x = 0.5)\n",
    "\n",
    "fig.show()"
   ]
  },
  {
   "cell_type": "code",
   "execution_count": 22,
   "id": "e477518d",
   "metadata": {},
   "outputs": [
    {
     "data": {
      "application/vnd.plotly.v1+json": {
       "config": {
        "plotlyServerURL": "https://plot.ly"
       },
       "data": [
        {
         "alignmentgroup": "True",
         "hovertemplate": "Nombre_Localidad=%{x}<br>Average Daily Rate (Native)=%{y}<extra></extra>",
         "legendgroup": "Usaquén",
         "marker": {
          "color": "#440154",
          "pattern": {
           "shape": ""
          }
         },
         "name": "Usaquén",
         "offsetgroup": "Usaquén",
         "orientation": "v",
         "showlegend": true,
         "textposition": "auto",
         "type": "bar",
         "x": [
          "Usaquén"
         ],
         "xaxis": "x",
         "y": [
          104097.50403907316
         ],
         "yaxis": "y"
        },
        {
         "alignmentgroup": "True",
         "hovertemplate": "Nombre_Localidad=%{x}<br>Average Daily Rate (Native)=%{y}<extra></extra>",
         "legendgroup": "Rafael Uribe Uribe",
         "marker": {
          "color": "#482878",
          "pattern": {
           "shape": ""
          }
         },
         "name": "Rafael Uribe Uribe",
         "offsetgroup": "Rafael Uribe Uribe",
         "orientation": "v",
         "showlegend": true,
         "textposition": "auto",
         "type": "bar",
         "x": [
          "Rafael Uribe Uribe"
         ],
         "xaxis": "x",
         "y": [
          98043.51
         ],
         "yaxis": "y"
        },
        {
         "alignmentgroup": "True",
         "hovertemplate": "Nombre_Localidad=%{x}<br>Average Daily Rate (Native)=%{y}<extra></extra>",
         "legendgroup": "Chapinero",
         "marker": {
          "color": "#3e4989",
          "pattern": {
           "shape": ""
          }
         },
         "name": "Chapinero",
         "offsetgroup": "Chapinero",
         "orientation": "v",
         "showlegend": true,
         "textposition": "auto",
         "type": "bar",
         "x": [
          "Chapinero"
         ],
         "xaxis": "x",
         "y": [
          97563.6501810219
         ],
         "yaxis": "y"
        },
        {
         "alignmentgroup": "True",
         "hovertemplate": "Nombre_Localidad=%{x}<br>Average Daily Rate (Native)=%{y}<extra></extra>",
         "legendgroup": "Suba",
         "marker": {
          "color": "#31688e",
          "pattern": {
           "shape": ""
          }
         },
         "name": "Suba",
         "offsetgroup": "Suba",
         "orientation": "v",
         "showlegend": true,
         "textposition": "auto",
         "type": "bar",
         "x": [
          "Suba"
         ],
         "xaxis": "x",
         "y": [
          81663.73420765027
         ],
         "yaxis": "y"
        },
        {
         "alignmentgroup": "True",
         "hovertemplate": "Nombre_Localidad=%{x}<br>Average Daily Rate (Native)=%{y}<extra></extra>",
         "legendgroup": "Santa Fe",
         "marker": {
          "color": "#26828e",
          "pattern": {
           "shape": ""
          }
         },
         "name": "Santa Fe",
         "offsetgroup": "Santa Fe",
         "orientation": "v",
         "showlegend": true,
         "textposition": "auto",
         "type": "bar",
         "x": [
          "Santa Fe"
         ],
         "xaxis": "x",
         "y": [
          75554.94908857509
         ],
         "yaxis": "y"
        },
        {
         "alignmentgroup": "True",
         "hovertemplate": "Nombre_Localidad=%{x}<br>Average Daily Rate (Native)=%{y}<extra></extra>",
         "legendgroup": "La Candelaria",
         "marker": {
          "color": "#1f9e89",
          "pattern": {
           "shape": ""
          }
         },
         "name": "La Candelaria",
         "offsetgroup": "La Candelaria",
         "orientation": "v",
         "showlegend": true,
         "textposition": "auto",
         "type": "bar",
         "x": [
          "La Candelaria"
         ],
         "xaxis": "x",
         "y": [
          75248.04798365122
         ],
         "yaxis": "y"
        },
        {
         "alignmentgroup": "True",
         "hovertemplate": "Nombre_Localidad=%{x}<br>Average Daily Rate (Native)=%{y}<extra></extra>",
         "legendgroup": "Engativá",
         "marker": {
          "color": "#35b779",
          "pattern": {
           "shape": ""
          }
         },
         "name": "Engativá",
         "offsetgroup": "Engativá",
         "orientation": "v",
         "showlegend": true,
         "textposition": "auto",
         "type": "bar",
         "x": [
          "Engativá"
         ],
         "xaxis": "x",
         "y": [
          74499.99445528454
         ],
         "yaxis": "y"
        },
        {
         "alignmentgroup": "True",
         "hovertemplate": "Nombre_Localidad=%{x}<br>Average Daily Rate (Native)=%{y}<extra></extra>",
         "legendgroup": "Fontibón",
         "marker": {
          "color": "#6ece58",
          "pattern": {
           "shape": ""
          }
         },
         "name": "Fontibón",
         "offsetgroup": "Fontibón",
         "orientation": "v",
         "showlegend": true,
         "textposition": "auto",
         "type": "bar",
         "x": [
          "Fontibón"
         ],
         "xaxis": "x",
         "y": [
          73374.28683809524
         ],
         "yaxis": "y"
        },
        {
         "alignmentgroup": "True",
         "hovertemplate": "Nombre_Localidad=%{x}<br>Average Daily Rate (Native)=%{y}<extra></extra>",
         "legendgroup": "Tunjuelito",
         "marker": {
          "color": "#b5de2b",
          "pattern": {
           "shape": ""
          }
         },
         "name": "Tunjuelito",
         "offsetgroup": "Tunjuelito",
         "orientation": "v",
         "showlegend": true,
         "textposition": "auto",
         "type": "bar",
         "x": [
          "Tunjuelito"
         ],
         "xaxis": "x",
         "y": [
          72434.09476190477
         ],
         "yaxis": "y"
        },
        {
         "alignmentgroup": "True",
         "hovertemplate": "Nombre_Localidad=%{x}<br>Average Daily Rate (Native)=%{y}<extra></extra>",
         "legendgroup": "Ciudad Bolivar",
         "marker": {
          "color": "#fde725",
          "pattern": {
           "shape": ""
          }
         },
         "name": "Ciudad Bolivar",
         "offsetgroup": "Ciudad Bolivar",
         "orientation": "v",
         "showlegend": true,
         "textposition": "auto",
         "type": "bar",
         "x": [
          "Ciudad Bolivar"
         ],
         "xaxis": "x",
         "y": [
          71321.77833333334
         ],
         "yaxis": "y"
        },
        {
         "alignmentgroup": "True",
         "hovertemplate": "Nombre_Localidad=%{x}<br>Average Daily Rate (Native)=%{y}<extra></extra>",
         "legendgroup": "Teusaquillo",
         "marker": {
          "color": "#440154",
          "pattern": {
           "shape": ""
          }
         },
         "name": "Teusaquillo",
         "offsetgroup": "Teusaquillo",
         "orientation": "v",
         "showlegend": true,
         "textposition": "auto",
         "type": "bar",
         "x": [
          "Teusaquillo"
         ],
         "xaxis": "x",
         "y": [
          70962.10266230938
         ],
         "yaxis": "y"
        },
        {
         "alignmentgroup": "True",
         "hovertemplate": "Nombre_Localidad=%{x}<br>Average Daily Rate (Native)=%{y}<extra></extra>",
         "legendgroup": "Barrios Unidos",
         "marker": {
          "color": "#482878",
          "pattern": {
           "shape": ""
          }
         },
         "name": "Barrios Unidos",
         "offsetgroup": "Barrios Unidos",
         "orientation": "v",
         "showlegend": true,
         "textposition": "auto",
         "type": "bar",
         "x": [
          "Barrios Unidos"
         ],
         "xaxis": "x",
         "y": [
          70591.73545319465
         ],
         "yaxis": "y"
        },
        {
         "alignmentgroup": "True",
         "hovertemplate": "Nombre_Localidad=%{x}<br>Average Daily Rate (Native)=%{y}<extra></extra>",
         "legendgroup": "Antonio Nariño",
         "marker": {
          "color": "#3e4989",
          "pattern": {
           "shape": ""
          }
         },
         "name": "Antonio Nariño",
         "offsetgroup": "Antonio Nariño",
         "orientation": "v",
         "showlegend": true,
         "textposition": "auto",
         "type": "bar",
         "x": [
          "Antonio Nariño"
         ],
         "xaxis": "x",
         "y": [
          69613.06736842105
         ],
         "yaxis": "y"
        },
        {
         "alignmentgroup": "True",
         "hovertemplate": "Nombre_Localidad=%{x}<br>Average Daily Rate (Native)=%{y}<extra></extra>",
         "legendgroup": "Los Mártires",
         "marker": {
          "color": "#31688e",
          "pattern": {
           "shape": ""
          }
         },
         "name": "Los Mártires",
         "offsetgroup": "Los Mártires",
         "orientation": "v",
         "showlegend": true,
         "textposition": "auto",
         "type": "bar",
         "x": [
          "Los Mártires"
         ],
         "xaxis": "x",
         "y": [
          68152.14495412844
         ],
         "yaxis": "y"
        },
        {
         "alignmentgroup": "True",
         "hovertemplate": "Nombre_Localidad=%{x}<br>Average Daily Rate (Native)=%{y}<extra></extra>",
         "legendgroup": "Kennedy",
         "marker": {
          "color": "#26828e",
          "pattern": {
           "shape": ""
          }
         },
         "name": "Kennedy",
         "offsetgroup": "Kennedy",
         "orientation": "v",
         "showlegend": true,
         "textposition": "auto",
         "type": "bar",
         "x": [
          "Kennedy"
         ],
         "xaxis": "x",
         "y": [
          67953.83350467289
         ],
         "yaxis": "y"
        },
        {
         "alignmentgroup": "True",
         "hovertemplate": "Nombre_Localidad=%{x}<br>Average Daily Rate (Native)=%{y}<extra></extra>",
         "legendgroup": "Puente Aranda",
         "marker": {
          "color": "#1f9e89",
          "pattern": {
           "shape": ""
          }
         },
         "name": "Puente Aranda",
         "offsetgroup": "Puente Aranda",
         "orientation": "v",
         "showlegend": true,
         "textposition": "auto",
         "type": "bar",
         "x": [
          "Puente Aranda"
         ],
         "xaxis": "x",
         "y": [
          66043.88516853933
         ],
         "yaxis": "y"
        },
        {
         "alignmentgroup": "True",
         "hovertemplate": "Nombre_Localidad=%{x}<br>Average Daily Rate (Native)=%{y}<extra></extra>",
         "legendgroup": "San Cristobal",
         "marker": {
          "color": "#35b779",
          "pattern": {
           "shape": ""
          }
         },
         "name": "San Cristobal",
         "offsetgroup": "San Cristobal",
         "orientation": "v",
         "showlegend": true,
         "textposition": "auto",
         "type": "bar",
         "x": [
          "San Cristobal"
         ],
         "xaxis": "x",
         "y": [
          62383.7655
         ],
         "yaxis": "y"
        },
        {
         "alignmentgroup": "True",
         "hovertemplate": "Nombre_Localidad=%{x}<br>Average Daily Rate (Native)=%{y}<extra></extra>",
         "legendgroup": "Bosa",
         "marker": {
          "color": "#6ece58",
          "pattern": {
           "shape": ""
          }
         },
         "name": "Bosa",
         "offsetgroup": "Bosa",
         "orientation": "v",
         "showlegend": true,
         "textposition": "auto",
         "type": "bar",
         "x": [
          "Bosa"
         ],
         "xaxis": "x",
         "y": [
          56699.67166666666
         ],
         "yaxis": "y"
        },
        {
         "alignmentgroup": "True",
         "hovertemplate": "Nombre_Localidad=%{x}<br>Average Daily Rate (Native)=%{y}<extra></extra>",
         "legendgroup": "Usme",
         "marker": {
          "color": "#b5de2b",
          "pattern": {
           "shape": ""
          }
         },
         "name": "Usme",
         "offsetgroup": "Usme",
         "orientation": "v",
         "showlegend": true,
         "textposition": "auto",
         "type": "bar",
         "x": [
          "Usme"
         ],
         "xaxis": "x",
         "y": [
          44
         ],
         "yaxis": "y"
        }
       ],
       "layout": {
        "barmode": "relative",
        "legend": {
         "title": {
          "text": "Nombre_Localidad"
         },
         "tracegroupgap": 0
        },
        "template": {
         "data": {
          "bar": [
           {
            "error_x": {
             "color": "rgb(36,36,36)"
            },
            "error_y": {
             "color": "rgb(36,36,36)"
            },
            "marker": {
             "line": {
              "color": "white",
              "width": 0.5
             },
             "pattern": {
              "fillmode": "overlay",
              "size": 10,
              "solidity": 0.2
             }
            },
            "type": "bar"
           }
          ],
          "barpolar": [
           {
            "marker": {
             "line": {
              "color": "white",
              "width": 0.5
             },
             "pattern": {
              "fillmode": "overlay",
              "size": 10,
              "solidity": 0.2
             }
            },
            "type": "barpolar"
           }
          ],
          "carpet": [
           {
            "aaxis": {
             "endlinecolor": "rgb(36,36,36)",
             "gridcolor": "white",
             "linecolor": "white",
             "minorgridcolor": "white",
             "startlinecolor": "rgb(36,36,36)"
            },
            "baxis": {
             "endlinecolor": "rgb(36,36,36)",
             "gridcolor": "white",
             "linecolor": "white",
             "minorgridcolor": "white",
             "startlinecolor": "rgb(36,36,36)"
            },
            "type": "carpet"
           }
          ],
          "choropleth": [
           {
            "colorbar": {
             "outlinewidth": 1,
             "tickcolor": "rgb(36,36,36)",
             "ticks": "outside"
            },
            "type": "choropleth"
           }
          ],
          "contour": [
           {
            "colorbar": {
             "outlinewidth": 1,
             "tickcolor": "rgb(36,36,36)",
             "ticks": "outside"
            },
            "colorscale": [
             [
              0,
              "#440154"
             ],
             [
              0.1111111111111111,
              "#482878"
             ],
             [
              0.2222222222222222,
              "#3e4989"
             ],
             [
              0.3333333333333333,
              "#31688e"
             ],
             [
              0.4444444444444444,
              "#26828e"
             ],
             [
              0.5555555555555556,
              "#1f9e89"
             ],
             [
              0.6666666666666666,
              "#35b779"
             ],
             [
              0.7777777777777778,
              "#6ece58"
             ],
             [
              0.8888888888888888,
              "#b5de2b"
             ],
             [
              1,
              "#fde725"
             ]
            ],
            "type": "contour"
           }
          ],
          "contourcarpet": [
           {
            "colorbar": {
             "outlinewidth": 1,
             "tickcolor": "rgb(36,36,36)",
             "ticks": "outside"
            },
            "type": "contourcarpet"
           }
          ],
          "heatmap": [
           {
            "colorbar": {
             "outlinewidth": 1,
             "tickcolor": "rgb(36,36,36)",
             "ticks": "outside"
            },
            "colorscale": [
             [
              0,
              "#440154"
             ],
             [
              0.1111111111111111,
              "#482878"
             ],
             [
              0.2222222222222222,
              "#3e4989"
             ],
             [
              0.3333333333333333,
              "#31688e"
             ],
             [
              0.4444444444444444,
              "#26828e"
             ],
             [
              0.5555555555555556,
              "#1f9e89"
             ],
             [
              0.6666666666666666,
              "#35b779"
             ],
             [
              0.7777777777777778,
              "#6ece58"
             ],
             [
              0.8888888888888888,
              "#b5de2b"
             ],
             [
              1,
              "#fde725"
             ]
            ],
            "type": "heatmap"
           }
          ],
          "heatmapgl": [
           {
            "colorbar": {
             "outlinewidth": 1,
             "tickcolor": "rgb(36,36,36)",
             "ticks": "outside"
            },
            "colorscale": [
             [
              0,
              "#440154"
             ],
             [
              0.1111111111111111,
              "#482878"
             ],
             [
              0.2222222222222222,
              "#3e4989"
             ],
             [
              0.3333333333333333,
              "#31688e"
             ],
             [
              0.4444444444444444,
              "#26828e"
             ],
             [
              0.5555555555555556,
              "#1f9e89"
             ],
             [
              0.6666666666666666,
              "#35b779"
             ],
             [
              0.7777777777777778,
              "#6ece58"
             ],
             [
              0.8888888888888888,
              "#b5de2b"
             ],
             [
              1,
              "#fde725"
             ]
            ],
            "type": "heatmapgl"
           }
          ],
          "histogram": [
           {
            "marker": {
             "line": {
              "color": "white",
              "width": 0.6
             }
            },
            "type": "histogram"
           }
          ],
          "histogram2d": [
           {
            "colorbar": {
             "outlinewidth": 1,
             "tickcolor": "rgb(36,36,36)",
             "ticks": "outside"
            },
            "colorscale": [
             [
              0,
              "#440154"
             ],
             [
              0.1111111111111111,
              "#482878"
             ],
             [
              0.2222222222222222,
              "#3e4989"
             ],
             [
              0.3333333333333333,
              "#31688e"
             ],
             [
              0.4444444444444444,
              "#26828e"
             ],
             [
              0.5555555555555556,
              "#1f9e89"
             ],
             [
              0.6666666666666666,
              "#35b779"
             ],
             [
              0.7777777777777778,
              "#6ece58"
             ],
             [
              0.8888888888888888,
              "#b5de2b"
             ],
             [
              1,
              "#fde725"
             ]
            ],
            "type": "histogram2d"
           }
          ],
          "histogram2dcontour": [
           {
            "colorbar": {
             "outlinewidth": 1,
             "tickcolor": "rgb(36,36,36)",
             "ticks": "outside"
            },
            "colorscale": [
             [
              0,
              "#440154"
             ],
             [
              0.1111111111111111,
              "#482878"
             ],
             [
              0.2222222222222222,
              "#3e4989"
             ],
             [
              0.3333333333333333,
              "#31688e"
             ],
             [
              0.4444444444444444,
              "#26828e"
             ],
             [
              0.5555555555555556,
              "#1f9e89"
             ],
             [
              0.6666666666666666,
              "#35b779"
             ],
             [
              0.7777777777777778,
              "#6ece58"
             ],
             [
              0.8888888888888888,
              "#b5de2b"
             ],
             [
              1,
              "#fde725"
             ]
            ],
            "type": "histogram2dcontour"
           }
          ],
          "mesh3d": [
           {
            "colorbar": {
             "outlinewidth": 1,
             "tickcolor": "rgb(36,36,36)",
             "ticks": "outside"
            },
            "type": "mesh3d"
           }
          ],
          "parcoords": [
           {
            "line": {
             "colorbar": {
              "outlinewidth": 1,
              "tickcolor": "rgb(36,36,36)",
              "ticks": "outside"
             }
            },
            "type": "parcoords"
           }
          ],
          "pie": [
           {
            "automargin": true,
            "type": "pie"
           }
          ],
          "scatter": [
           {
            "fillpattern": {
             "fillmode": "overlay",
             "size": 10,
             "solidity": 0.2
            },
            "type": "scatter"
           }
          ],
          "scatter3d": [
           {
            "line": {
             "colorbar": {
              "outlinewidth": 1,
              "tickcolor": "rgb(36,36,36)",
              "ticks": "outside"
             }
            },
            "marker": {
             "colorbar": {
              "outlinewidth": 1,
              "tickcolor": "rgb(36,36,36)",
              "ticks": "outside"
             }
            },
            "type": "scatter3d"
           }
          ],
          "scattercarpet": [
           {
            "marker": {
             "colorbar": {
              "outlinewidth": 1,
              "tickcolor": "rgb(36,36,36)",
              "ticks": "outside"
             }
            },
            "type": "scattercarpet"
           }
          ],
          "scattergeo": [
           {
            "marker": {
             "colorbar": {
              "outlinewidth": 1,
              "tickcolor": "rgb(36,36,36)",
              "ticks": "outside"
             }
            },
            "type": "scattergeo"
           }
          ],
          "scattergl": [
           {
            "marker": {
             "colorbar": {
              "outlinewidth": 1,
              "tickcolor": "rgb(36,36,36)",
              "ticks": "outside"
             }
            },
            "type": "scattergl"
           }
          ],
          "scattermapbox": [
           {
            "marker": {
             "colorbar": {
              "outlinewidth": 1,
              "tickcolor": "rgb(36,36,36)",
              "ticks": "outside"
             }
            },
            "type": "scattermapbox"
           }
          ],
          "scatterpolar": [
           {
            "marker": {
             "colorbar": {
              "outlinewidth": 1,
              "tickcolor": "rgb(36,36,36)",
              "ticks": "outside"
             }
            },
            "type": "scatterpolar"
           }
          ],
          "scatterpolargl": [
           {
            "marker": {
             "colorbar": {
              "outlinewidth": 1,
              "tickcolor": "rgb(36,36,36)",
              "ticks": "outside"
             }
            },
            "type": "scatterpolargl"
           }
          ],
          "scatterternary": [
           {
            "marker": {
             "colorbar": {
              "outlinewidth": 1,
              "tickcolor": "rgb(36,36,36)",
              "ticks": "outside"
             }
            },
            "type": "scatterternary"
           }
          ],
          "surface": [
           {
            "colorbar": {
             "outlinewidth": 1,
             "tickcolor": "rgb(36,36,36)",
             "ticks": "outside"
            },
            "colorscale": [
             [
              0,
              "#440154"
             ],
             [
              0.1111111111111111,
              "#482878"
             ],
             [
              0.2222222222222222,
              "#3e4989"
             ],
             [
              0.3333333333333333,
              "#31688e"
             ],
             [
              0.4444444444444444,
              "#26828e"
             ],
             [
              0.5555555555555556,
              "#1f9e89"
             ],
             [
              0.6666666666666666,
              "#35b779"
             ],
             [
              0.7777777777777778,
              "#6ece58"
             ],
             [
              0.8888888888888888,
              "#b5de2b"
             ],
             [
              1,
              "#fde725"
             ]
            ],
            "type": "surface"
           }
          ],
          "table": [
           {
            "cells": {
             "fill": {
              "color": "rgb(237,237,237)"
             },
             "line": {
              "color": "white"
             }
            },
            "header": {
             "fill": {
              "color": "rgb(217,217,217)"
             },
             "line": {
              "color": "white"
             }
            },
            "type": "table"
           }
          ]
         },
         "layout": {
          "annotationdefaults": {
           "arrowhead": 0,
           "arrowwidth": 1
          },
          "autotypenumbers": "strict",
          "coloraxis": {
           "colorbar": {
            "outlinewidth": 1,
            "tickcolor": "rgb(36,36,36)",
            "ticks": "outside"
           }
          },
          "colorscale": {
           "diverging": [
            [
             0,
             "rgb(103,0,31)"
            ],
            [
             0.1,
             "rgb(178,24,43)"
            ],
            [
             0.2,
             "rgb(214,96,77)"
            ],
            [
             0.3,
             "rgb(244,165,130)"
            ],
            [
             0.4,
             "rgb(253,219,199)"
            ],
            [
             0.5,
             "rgb(247,247,247)"
            ],
            [
             0.6,
             "rgb(209,229,240)"
            ],
            [
             0.7,
             "rgb(146,197,222)"
            ],
            [
             0.8,
             "rgb(67,147,195)"
            ],
            [
             0.9,
             "rgb(33,102,172)"
            ],
            [
             1,
             "rgb(5,48,97)"
            ]
           ],
           "sequential": [
            [
             0,
             "#440154"
            ],
            [
             0.1111111111111111,
             "#482878"
            ],
            [
             0.2222222222222222,
             "#3e4989"
            ],
            [
             0.3333333333333333,
             "#31688e"
            ],
            [
             0.4444444444444444,
             "#26828e"
            ],
            [
             0.5555555555555556,
             "#1f9e89"
            ],
            [
             0.6666666666666666,
             "#35b779"
            ],
            [
             0.7777777777777778,
             "#6ece58"
            ],
            [
             0.8888888888888888,
             "#b5de2b"
            ],
            [
             1,
             "#fde725"
            ]
           ],
           "sequentialminus": [
            [
             0,
             "#440154"
            ],
            [
             0.1111111111111111,
             "#482878"
            ],
            [
             0.2222222222222222,
             "#3e4989"
            ],
            [
             0.3333333333333333,
             "#31688e"
            ],
            [
             0.4444444444444444,
             "#26828e"
            ],
            [
             0.5555555555555556,
             "#1f9e89"
            ],
            [
             0.6666666666666666,
             "#35b779"
            ],
            [
             0.7777777777777778,
             "#6ece58"
            ],
            [
             0.8888888888888888,
             "#b5de2b"
            ],
            [
             1,
             "#fde725"
            ]
           ]
          },
          "colorway": [
           "#1F77B4",
           "#FF7F0E",
           "#2CA02C",
           "#D62728",
           "#9467BD",
           "#8C564B",
           "#E377C2",
           "#7F7F7F",
           "#BCBD22",
           "#17BECF"
          ],
          "font": {
           "color": "rgb(36,36,36)"
          },
          "geo": {
           "bgcolor": "white",
           "lakecolor": "white",
           "landcolor": "white",
           "showlakes": true,
           "showland": true,
           "subunitcolor": "white"
          },
          "hoverlabel": {
           "align": "left"
          },
          "hovermode": "closest",
          "mapbox": {
           "style": "light"
          },
          "paper_bgcolor": "white",
          "plot_bgcolor": "white",
          "polar": {
           "angularaxis": {
            "gridcolor": "rgb(232,232,232)",
            "linecolor": "rgb(36,36,36)",
            "showgrid": false,
            "showline": true,
            "ticks": "outside"
           },
           "bgcolor": "white",
           "radialaxis": {
            "gridcolor": "rgb(232,232,232)",
            "linecolor": "rgb(36,36,36)",
            "showgrid": false,
            "showline": true,
            "ticks": "outside"
           }
          },
          "scene": {
           "xaxis": {
            "backgroundcolor": "white",
            "gridcolor": "rgb(232,232,232)",
            "gridwidth": 2,
            "linecolor": "rgb(36,36,36)",
            "showbackground": true,
            "showgrid": false,
            "showline": true,
            "ticks": "outside",
            "zeroline": false,
            "zerolinecolor": "rgb(36,36,36)"
           },
           "yaxis": {
            "backgroundcolor": "white",
            "gridcolor": "rgb(232,232,232)",
            "gridwidth": 2,
            "linecolor": "rgb(36,36,36)",
            "showbackground": true,
            "showgrid": false,
            "showline": true,
            "ticks": "outside",
            "zeroline": false,
            "zerolinecolor": "rgb(36,36,36)"
           },
           "zaxis": {
            "backgroundcolor": "white",
            "gridcolor": "rgb(232,232,232)",
            "gridwidth": 2,
            "linecolor": "rgb(36,36,36)",
            "showbackground": true,
            "showgrid": false,
            "showline": true,
            "ticks": "outside",
            "zeroline": false,
            "zerolinecolor": "rgb(36,36,36)"
           }
          },
          "shapedefaults": {
           "fillcolor": "black",
           "line": {
            "width": 0
           },
           "opacity": 0.3
          },
          "ternary": {
           "aaxis": {
            "gridcolor": "rgb(232,232,232)",
            "linecolor": "rgb(36,36,36)",
            "showgrid": false,
            "showline": true,
            "ticks": "outside"
           },
           "baxis": {
            "gridcolor": "rgb(232,232,232)",
            "linecolor": "rgb(36,36,36)",
            "showgrid": false,
            "showline": true,
            "ticks": "outside"
           },
           "bgcolor": "white",
           "caxis": {
            "gridcolor": "rgb(232,232,232)",
            "linecolor": "rgb(36,36,36)",
            "showgrid": false,
            "showline": true,
            "ticks": "outside"
           }
          },
          "title": {
           "x": 0.05
          },
          "xaxis": {
           "automargin": true,
           "gridcolor": "rgb(232,232,232)",
           "linecolor": "rgb(36,36,36)",
           "showgrid": false,
           "showline": true,
           "ticks": "outside",
           "title": {
            "standoff": 15
           },
           "zeroline": false,
           "zerolinecolor": "rgb(36,36,36)"
          },
          "yaxis": {
           "automargin": true,
           "gridcolor": "rgb(232,232,232)",
           "linecolor": "rgb(36,36,36)",
           "showgrid": false,
           "showline": true,
           "ticks": "outside",
           "title": {
            "standoff": 15
           },
           "zeroline": false,
           "zerolinecolor": "rgb(36,36,36)"
          }
         }
        },
        "title": {
         "text": "<b>Precio promedio noche por Localidad (COP)<b>",
         "x": 0.5
        },
        "xaxis": {
         "anchor": "y",
         "categoryarray": [
          "Usaquén",
          "Rafael Uribe Uribe",
          "Chapinero",
          "Suba",
          "Santa Fe",
          "La Candelaria",
          "Engativá",
          "Fontibón",
          "Tunjuelito",
          "Ciudad Bolivar",
          "Teusaquillo",
          "Barrios Unidos",
          "Antonio Nariño",
          "Los Mártires",
          "Kennedy",
          "Puente Aranda",
          "San Cristobal",
          "Bosa",
          "Usme"
         ],
         "categoryorder": "array",
         "domain": [
          0,
          1
         ],
         "title": {
          "text": "Localidad"
         }
        },
        "yaxis": {
         "anchor": "x",
         "domain": [
          0,
          1
         ],
         "title": {
          "text": "Precio promedio"
         }
        }
       }
      },
      "text/html": [
       "<div>                            <div id=\"64de2938-fbc3-4475-9205-fe5fd78957e3\" class=\"plotly-graph-div\" style=\"height:525px; width:100%;\"></div>            <script type=\"text/javascript\">                require([\"plotly\"], function(Plotly) {                    window.PLOTLYENV=window.PLOTLYENV || {};                                    if (document.getElementById(\"64de2938-fbc3-4475-9205-fe5fd78957e3\")) {                    Plotly.newPlot(                        \"64de2938-fbc3-4475-9205-fe5fd78957e3\",                        [{\"alignmentgroup\":\"True\",\"hovertemplate\":\"Nombre_Localidad=%{x}<br>Average Daily Rate (Native)=%{y}<extra></extra>\",\"legendgroup\":\"Usaqu\\u00e9n\",\"marker\":{\"color\":\"#440154\",\"pattern\":{\"shape\":\"\"}},\"name\":\"Usaqu\\u00e9n\",\"offsetgroup\":\"Usaqu\\u00e9n\",\"orientation\":\"v\",\"showlegend\":true,\"textposition\":\"auto\",\"x\":[\"Usaqu\\u00e9n\"],\"xaxis\":\"x\",\"y\":[104097.50403907316],\"yaxis\":\"y\",\"type\":\"bar\"},{\"alignmentgroup\":\"True\",\"hovertemplate\":\"Nombre_Localidad=%{x}<br>Average Daily Rate (Native)=%{y}<extra></extra>\",\"legendgroup\":\"Rafael Uribe Uribe\",\"marker\":{\"color\":\"#482878\",\"pattern\":{\"shape\":\"\"}},\"name\":\"Rafael Uribe Uribe\",\"offsetgroup\":\"Rafael Uribe Uribe\",\"orientation\":\"v\",\"showlegend\":true,\"textposition\":\"auto\",\"x\":[\"Rafael Uribe Uribe\"],\"xaxis\":\"x\",\"y\":[98043.51],\"yaxis\":\"y\",\"type\":\"bar\"},{\"alignmentgroup\":\"True\",\"hovertemplate\":\"Nombre_Localidad=%{x}<br>Average Daily Rate (Native)=%{y}<extra></extra>\",\"legendgroup\":\"Chapinero\",\"marker\":{\"color\":\"#3e4989\",\"pattern\":{\"shape\":\"\"}},\"name\":\"Chapinero\",\"offsetgroup\":\"Chapinero\",\"orientation\":\"v\",\"showlegend\":true,\"textposition\":\"auto\",\"x\":[\"Chapinero\"],\"xaxis\":\"x\",\"y\":[97563.6501810219],\"yaxis\":\"y\",\"type\":\"bar\"},{\"alignmentgroup\":\"True\",\"hovertemplate\":\"Nombre_Localidad=%{x}<br>Average Daily Rate (Native)=%{y}<extra></extra>\",\"legendgroup\":\"Suba\",\"marker\":{\"color\":\"#31688e\",\"pattern\":{\"shape\":\"\"}},\"name\":\"Suba\",\"offsetgroup\":\"Suba\",\"orientation\":\"v\",\"showlegend\":true,\"textposition\":\"auto\",\"x\":[\"Suba\"],\"xaxis\":\"x\",\"y\":[81663.73420765027],\"yaxis\":\"y\",\"type\":\"bar\"},{\"alignmentgroup\":\"True\",\"hovertemplate\":\"Nombre_Localidad=%{x}<br>Average Daily Rate (Native)=%{y}<extra></extra>\",\"legendgroup\":\"Santa Fe\",\"marker\":{\"color\":\"#26828e\",\"pattern\":{\"shape\":\"\"}},\"name\":\"Santa Fe\",\"offsetgroup\":\"Santa Fe\",\"orientation\":\"v\",\"showlegend\":true,\"textposition\":\"auto\",\"x\":[\"Santa Fe\"],\"xaxis\":\"x\",\"y\":[75554.94908857509],\"yaxis\":\"y\",\"type\":\"bar\"},{\"alignmentgroup\":\"True\",\"hovertemplate\":\"Nombre_Localidad=%{x}<br>Average Daily Rate (Native)=%{y}<extra></extra>\",\"legendgroup\":\"La Candelaria\",\"marker\":{\"color\":\"#1f9e89\",\"pattern\":{\"shape\":\"\"}},\"name\":\"La Candelaria\",\"offsetgroup\":\"La Candelaria\",\"orientation\":\"v\",\"showlegend\":true,\"textposition\":\"auto\",\"x\":[\"La Candelaria\"],\"xaxis\":\"x\",\"y\":[75248.04798365122],\"yaxis\":\"y\",\"type\":\"bar\"},{\"alignmentgroup\":\"True\",\"hovertemplate\":\"Nombre_Localidad=%{x}<br>Average Daily Rate (Native)=%{y}<extra></extra>\",\"legendgroup\":\"Engativ\\u00e1\",\"marker\":{\"color\":\"#35b779\",\"pattern\":{\"shape\":\"\"}},\"name\":\"Engativ\\u00e1\",\"offsetgroup\":\"Engativ\\u00e1\",\"orientation\":\"v\",\"showlegend\":true,\"textposition\":\"auto\",\"x\":[\"Engativ\\u00e1\"],\"xaxis\":\"x\",\"y\":[74499.99445528454],\"yaxis\":\"y\",\"type\":\"bar\"},{\"alignmentgroup\":\"True\",\"hovertemplate\":\"Nombre_Localidad=%{x}<br>Average Daily Rate (Native)=%{y}<extra></extra>\",\"legendgroup\":\"Fontib\\u00f3n\",\"marker\":{\"color\":\"#6ece58\",\"pattern\":{\"shape\":\"\"}},\"name\":\"Fontib\\u00f3n\",\"offsetgroup\":\"Fontib\\u00f3n\",\"orientation\":\"v\",\"showlegend\":true,\"textposition\":\"auto\",\"x\":[\"Fontib\\u00f3n\"],\"xaxis\":\"x\",\"y\":[73374.28683809524],\"yaxis\":\"y\",\"type\":\"bar\"},{\"alignmentgroup\":\"True\",\"hovertemplate\":\"Nombre_Localidad=%{x}<br>Average Daily Rate (Native)=%{y}<extra></extra>\",\"legendgroup\":\"Tunjuelito\",\"marker\":{\"color\":\"#b5de2b\",\"pattern\":{\"shape\":\"\"}},\"name\":\"Tunjuelito\",\"offsetgroup\":\"Tunjuelito\",\"orientation\":\"v\",\"showlegend\":true,\"textposition\":\"auto\",\"x\":[\"Tunjuelito\"],\"xaxis\":\"x\",\"y\":[72434.09476190477],\"yaxis\":\"y\",\"type\":\"bar\"},{\"alignmentgroup\":\"True\",\"hovertemplate\":\"Nombre_Localidad=%{x}<br>Average Daily Rate (Native)=%{y}<extra></extra>\",\"legendgroup\":\"Ciudad Bolivar\",\"marker\":{\"color\":\"#fde725\",\"pattern\":{\"shape\":\"\"}},\"name\":\"Ciudad Bolivar\",\"offsetgroup\":\"Ciudad Bolivar\",\"orientation\":\"v\",\"showlegend\":true,\"textposition\":\"auto\",\"x\":[\"Ciudad Bolivar\"],\"xaxis\":\"x\",\"y\":[71321.77833333334],\"yaxis\":\"y\",\"type\":\"bar\"},{\"alignmentgroup\":\"True\",\"hovertemplate\":\"Nombre_Localidad=%{x}<br>Average Daily Rate (Native)=%{y}<extra></extra>\",\"legendgroup\":\"Teusaquillo\",\"marker\":{\"color\":\"#440154\",\"pattern\":{\"shape\":\"\"}},\"name\":\"Teusaquillo\",\"offsetgroup\":\"Teusaquillo\",\"orientation\":\"v\",\"showlegend\":true,\"textposition\":\"auto\",\"x\":[\"Teusaquillo\"],\"xaxis\":\"x\",\"y\":[70962.10266230938],\"yaxis\":\"y\",\"type\":\"bar\"},{\"alignmentgroup\":\"True\",\"hovertemplate\":\"Nombre_Localidad=%{x}<br>Average Daily Rate (Native)=%{y}<extra></extra>\",\"legendgroup\":\"Barrios Unidos\",\"marker\":{\"color\":\"#482878\",\"pattern\":{\"shape\":\"\"}},\"name\":\"Barrios Unidos\",\"offsetgroup\":\"Barrios Unidos\",\"orientation\":\"v\",\"showlegend\":true,\"textposition\":\"auto\",\"x\":[\"Barrios Unidos\"],\"xaxis\":\"x\",\"y\":[70591.73545319465],\"yaxis\":\"y\",\"type\":\"bar\"},{\"alignmentgroup\":\"True\",\"hovertemplate\":\"Nombre_Localidad=%{x}<br>Average Daily Rate (Native)=%{y}<extra></extra>\",\"legendgroup\":\"Antonio Nari\\u00f1o\",\"marker\":{\"color\":\"#3e4989\",\"pattern\":{\"shape\":\"\"}},\"name\":\"Antonio Nari\\u00f1o\",\"offsetgroup\":\"Antonio Nari\\u00f1o\",\"orientation\":\"v\",\"showlegend\":true,\"textposition\":\"auto\",\"x\":[\"Antonio Nari\\u00f1o\"],\"xaxis\":\"x\",\"y\":[69613.06736842105],\"yaxis\":\"y\",\"type\":\"bar\"},{\"alignmentgroup\":\"True\",\"hovertemplate\":\"Nombre_Localidad=%{x}<br>Average Daily Rate (Native)=%{y}<extra></extra>\",\"legendgroup\":\"Los M\\u00e1rtires\",\"marker\":{\"color\":\"#31688e\",\"pattern\":{\"shape\":\"\"}},\"name\":\"Los M\\u00e1rtires\",\"offsetgroup\":\"Los M\\u00e1rtires\",\"orientation\":\"v\",\"showlegend\":true,\"textposition\":\"auto\",\"x\":[\"Los M\\u00e1rtires\"],\"xaxis\":\"x\",\"y\":[68152.14495412844],\"yaxis\":\"y\",\"type\":\"bar\"},{\"alignmentgroup\":\"True\",\"hovertemplate\":\"Nombre_Localidad=%{x}<br>Average Daily Rate (Native)=%{y}<extra></extra>\",\"legendgroup\":\"Kennedy\",\"marker\":{\"color\":\"#26828e\",\"pattern\":{\"shape\":\"\"}},\"name\":\"Kennedy\",\"offsetgroup\":\"Kennedy\",\"orientation\":\"v\",\"showlegend\":true,\"textposition\":\"auto\",\"x\":[\"Kennedy\"],\"xaxis\":\"x\",\"y\":[67953.83350467289],\"yaxis\":\"y\",\"type\":\"bar\"},{\"alignmentgroup\":\"True\",\"hovertemplate\":\"Nombre_Localidad=%{x}<br>Average Daily Rate (Native)=%{y}<extra></extra>\",\"legendgroup\":\"Puente Aranda\",\"marker\":{\"color\":\"#1f9e89\",\"pattern\":{\"shape\":\"\"}},\"name\":\"Puente Aranda\",\"offsetgroup\":\"Puente Aranda\",\"orientation\":\"v\",\"showlegend\":true,\"textposition\":\"auto\",\"x\":[\"Puente Aranda\"],\"xaxis\":\"x\",\"y\":[66043.88516853933],\"yaxis\":\"y\",\"type\":\"bar\"},{\"alignmentgroup\":\"True\",\"hovertemplate\":\"Nombre_Localidad=%{x}<br>Average Daily Rate (Native)=%{y}<extra></extra>\",\"legendgroup\":\"San Cristobal\",\"marker\":{\"color\":\"#35b779\",\"pattern\":{\"shape\":\"\"}},\"name\":\"San Cristobal\",\"offsetgroup\":\"San Cristobal\",\"orientation\":\"v\",\"showlegend\":true,\"textposition\":\"auto\",\"x\":[\"San Cristobal\"],\"xaxis\":\"x\",\"y\":[62383.7655],\"yaxis\":\"y\",\"type\":\"bar\"},{\"alignmentgroup\":\"True\",\"hovertemplate\":\"Nombre_Localidad=%{x}<br>Average Daily Rate (Native)=%{y}<extra></extra>\",\"legendgroup\":\"Bosa\",\"marker\":{\"color\":\"#6ece58\",\"pattern\":{\"shape\":\"\"}},\"name\":\"Bosa\",\"offsetgroup\":\"Bosa\",\"orientation\":\"v\",\"showlegend\":true,\"textposition\":\"auto\",\"x\":[\"Bosa\"],\"xaxis\":\"x\",\"y\":[56699.67166666666],\"yaxis\":\"y\",\"type\":\"bar\"},{\"alignmentgroup\":\"True\",\"hovertemplate\":\"Nombre_Localidad=%{x}<br>Average Daily Rate (Native)=%{y}<extra></extra>\",\"legendgroup\":\"Usme\",\"marker\":{\"color\":\"#b5de2b\",\"pattern\":{\"shape\":\"\"}},\"name\":\"Usme\",\"offsetgroup\":\"Usme\",\"orientation\":\"v\",\"showlegend\":true,\"textposition\":\"auto\",\"x\":[\"Usme\"],\"xaxis\":\"x\",\"y\":[44.0],\"yaxis\":\"y\",\"type\":\"bar\"}],                        {\"template\":{\"data\":{\"barpolar\":[{\"marker\":{\"line\":{\"color\":\"white\",\"width\":0.5},\"pattern\":{\"fillmode\":\"overlay\",\"size\":10,\"solidity\":0.2}},\"type\":\"barpolar\"}],\"bar\":[{\"error_x\":{\"color\":\"rgb(36,36,36)\"},\"error_y\":{\"color\":\"rgb(36,36,36)\"},\"marker\":{\"line\":{\"color\":\"white\",\"width\":0.5},\"pattern\":{\"fillmode\":\"overlay\",\"size\":10,\"solidity\":0.2}},\"type\":\"bar\"}],\"carpet\":[{\"aaxis\":{\"endlinecolor\":\"rgb(36,36,36)\",\"gridcolor\":\"white\",\"linecolor\":\"white\",\"minorgridcolor\":\"white\",\"startlinecolor\":\"rgb(36,36,36)\"},\"baxis\":{\"endlinecolor\":\"rgb(36,36,36)\",\"gridcolor\":\"white\",\"linecolor\":\"white\",\"minorgridcolor\":\"white\",\"startlinecolor\":\"rgb(36,36,36)\"},\"type\":\"carpet\"}],\"choropleth\":[{\"colorbar\":{\"outlinewidth\":1,\"tickcolor\":\"rgb(36,36,36)\",\"ticks\":\"outside\"},\"type\":\"choropleth\"}],\"contourcarpet\":[{\"colorbar\":{\"outlinewidth\":1,\"tickcolor\":\"rgb(36,36,36)\",\"ticks\":\"outside\"},\"type\":\"contourcarpet\"}],\"contour\":[{\"colorbar\":{\"outlinewidth\":1,\"tickcolor\":\"rgb(36,36,36)\",\"ticks\":\"outside\"},\"colorscale\":[[0.0,\"#440154\"],[0.1111111111111111,\"#482878\"],[0.2222222222222222,\"#3e4989\"],[0.3333333333333333,\"#31688e\"],[0.4444444444444444,\"#26828e\"],[0.5555555555555556,\"#1f9e89\"],[0.6666666666666666,\"#35b779\"],[0.7777777777777778,\"#6ece58\"],[0.8888888888888888,\"#b5de2b\"],[1.0,\"#fde725\"]],\"type\":\"contour\"}],\"heatmapgl\":[{\"colorbar\":{\"outlinewidth\":1,\"tickcolor\":\"rgb(36,36,36)\",\"ticks\":\"outside\"},\"colorscale\":[[0.0,\"#440154\"],[0.1111111111111111,\"#482878\"],[0.2222222222222222,\"#3e4989\"],[0.3333333333333333,\"#31688e\"],[0.4444444444444444,\"#26828e\"],[0.5555555555555556,\"#1f9e89\"],[0.6666666666666666,\"#35b779\"],[0.7777777777777778,\"#6ece58\"],[0.8888888888888888,\"#b5de2b\"],[1.0,\"#fde725\"]],\"type\":\"heatmapgl\"}],\"heatmap\":[{\"colorbar\":{\"outlinewidth\":1,\"tickcolor\":\"rgb(36,36,36)\",\"ticks\":\"outside\"},\"colorscale\":[[0.0,\"#440154\"],[0.1111111111111111,\"#482878\"],[0.2222222222222222,\"#3e4989\"],[0.3333333333333333,\"#31688e\"],[0.4444444444444444,\"#26828e\"],[0.5555555555555556,\"#1f9e89\"],[0.6666666666666666,\"#35b779\"],[0.7777777777777778,\"#6ece58\"],[0.8888888888888888,\"#b5de2b\"],[1.0,\"#fde725\"]],\"type\":\"heatmap\"}],\"histogram2dcontour\":[{\"colorbar\":{\"outlinewidth\":1,\"tickcolor\":\"rgb(36,36,36)\",\"ticks\":\"outside\"},\"colorscale\":[[0.0,\"#440154\"],[0.1111111111111111,\"#482878\"],[0.2222222222222222,\"#3e4989\"],[0.3333333333333333,\"#31688e\"],[0.4444444444444444,\"#26828e\"],[0.5555555555555556,\"#1f9e89\"],[0.6666666666666666,\"#35b779\"],[0.7777777777777778,\"#6ece58\"],[0.8888888888888888,\"#b5de2b\"],[1.0,\"#fde725\"]],\"type\":\"histogram2dcontour\"}],\"histogram2d\":[{\"colorbar\":{\"outlinewidth\":1,\"tickcolor\":\"rgb(36,36,36)\",\"ticks\":\"outside\"},\"colorscale\":[[0.0,\"#440154\"],[0.1111111111111111,\"#482878\"],[0.2222222222222222,\"#3e4989\"],[0.3333333333333333,\"#31688e\"],[0.4444444444444444,\"#26828e\"],[0.5555555555555556,\"#1f9e89\"],[0.6666666666666666,\"#35b779\"],[0.7777777777777778,\"#6ece58\"],[0.8888888888888888,\"#b5de2b\"],[1.0,\"#fde725\"]],\"type\":\"histogram2d\"}],\"histogram\":[{\"marker\":{\"line\":{\"color\":\"white\",\"width\":0.6}},\"type\":\"histogram\"}],\"mesh3d\":[{\"colorbar\":{\"outlinewidth\":1,\"tickcolor\":\"rgb(36,36,36)\",\"ticks\":\"outside\"},\"type\":\"mesh3d\"}],\"parcoords\":[{\"line\":{\"colorbar\":{\"outlinewidth\":1,\"tickcolor\":\"rgb(36,36,36)\",\"ticks\":\"outside\"}},\"type\":\"parcoords\"}],\"pie\":[{\"automargin\":true,\"type\":\"pie\"}],\"scatter3d\":[{\"line\":{\"colorbar\":{\"outlinewidth\":1,\"tickcolor\":\"rgb(36,36,36)\",\"ticks\":\"outside\"}},\"marker\":{\"colorbar\":{\"outlinewidth\":1,\"tickcolor\":\"rgb(36,36,36)\",\"ticks\":\"outside\"}},\"type\":\"scatter3d\"}],\"scattercarpet\":[{\"marker\":{\"colorbar\":{\"outlinewidth\":1,\"tickcolor\":\"rgb(36,36,36)\",\"ticks\":\"outside\"}},\"type\":\"scattercarpet\"}],\"scattergeo\":[{\"marker\":{\"colorbar\":{\"outlinewidth\":1,\"tickcolor\":\"rgb(36,36,36)\",\"ticks\":\"outside\"}},\"type\":\"scattergeo\"}],\"scattergl\":[{\"marker\":{\"colorbar\":{\"outlinewidth\":1,\"tickcolor\":\"rgb(36,36,36)\",\"ticks\":\"outside\"}},\"type\":\"scattergl\"}],\"scattermapbox\":[{\"marker\":{\"colorbar\":{\"outlinewidth\":1,\"tickcolor\":\"rgb(36,36,36)\",\"ticks\":\"outside\"}},\"type\":\"scattermapbox\"}],\"scatterpolargl\":[{\"marker\":{\"colorbar\":{\"outlinewidth\":1,\"tickcolor\":\"rgb(36,36,36)\",\"ticks\":\"outside\"}},\"type\":\"scatterpolargl\"}],\"scatterpolar\":[{\"marker\":{\"colorbar\":{\"outlinewidth\":1,\"tickcolor\":\"rgb(36,36,36)\",\"ticks\":\"outside\"}},\"type\":\"scatterpolar\"}],\"scatter\":[{\"fillpattern\":{\"fillmode\":\"overlay\",\"size\":10,\"solidity\":0.2},\"type\":\"scatter\"}],\"scatterternary\":[{\"marker\":{\"colorbar\":{\"outlinewidth\":1,\"tickcolor\":\"rgb(36,36,36)\",\"ticks\":\"outside\"}},\"type\":\"scatterternary\"}],\"surface\":[{\"colorbar\":{\"outlinewidth\":1,\"tickcolor\":\"rgb(36,36,36)\",\"ticks\":\"outside\"},\"colorscale\":[[0.0,\"#440154\"],[0.1111111111111111,\"#482878\"],[0.2222222222222222,\"#3e4989\"],[0.3333333333333333,\"#31688e\"],[0.4444444444444444,\"#26828e\"],[0.5555555555555556,\"#1f9e89\"],[0.6666666666666666,\"#35b779\"],[0.7777777777777778,\"#6ece58\"],[0.8888888888888888,\"#b5de2b\"],[1.0,\"#fde725\"]],\"type\":\"surface\"}],\"table\":[{\"cells\":{\"fill\":{\"color\":\"rgb(237,237,237)\"},\"line\":{\"color\":\"white\"}},\"header\":{\"fill\":{\"color\":\"rgb(217,217,217)\"},\"line\":{\"color\":\"white\"}},\"type\":\"table\"}]},\"layout\":{\"annotationdefaults\":{\"arrowhead\":0,\"arrowwidth\":1},\"autotypenumbers\":\"strict\",\"coloraxis\":{\"colorbar\":{\"outlinewidth\":1,\"tickcolor\":\"rgb(36,36,36)\",\"ticks\":\"outside\"}},\"colorscale\":{\"diverging\":[[0.0,\"rgb(103,0,31)\"],[0.1,\"rgb(178,24,43)\"],[0.2,\"rgb(214,96,77)\"],[0.3,\"rgb(244,165,130)\"],[0.4,\"rgb(253,219,199)\"],[0.5,\"rgb(247,247,247)\"],[0.6,\"rgb(209,229,240)\"],[0.7,\"rgb(146,197,222)\"],[0.8,\"rgb(67,147,195)\"],[0.9,\"rgb(33,102,172)\"],[1.0,\"rgb(5,48,97)\"]],\"sequential\":[[0.0,\"#440154\"],[0.1111111111111111,\"#482878\"],[0.2222222222222222,\"#3e4989\"],[0.3333333333333333,\"#31688e\"],[0.4444444444444444,\"#26828e\"],[0.5555555555555556,\"#1f9e89\"],[0.6666666666666666,\"#35b779\"],[0.7777777777777778,\"#6ece58\"],[0.8888888888888888,\"#b5de2b\"],[1.0,\"#fde725\"]],\"sequentialminus\":[[0.0,\"#440154\"],[0.1111111111111111,\"#482878\"],[0.2222222222222222,\"#3e4989\"],[0.3333333333333333,\"#31688e\"],[0.4444444444444444,\"#26828e\"],[0.5555555555555556,\"#1f9e89\"],[0.6666666666666666,\"#35b779\"],[0.7777777777777778,\"#6ece58\"],[0.8888888888888888,\"#b5de2b\"],[1.0,\"#fde725\"]]},\"colorway\":[\"#1F77B4\",\"#FF7F0E\",\"#2CA02C\",\"#D62728\",\"#9467BD\",\"#8C564B\",\"#E377C2\",\"#7F7F7F\",\"#BCBD22\",\"#17BECF\"],\"font\":{\"color\":\"rgb(36,36,36)\"},\"geo\":{\"bgcolor\":\"white\",\"lakecolor\":\"white\",\"landcolor\":\"white\",\"showlakes\":true,\"showland\":true,\"subunitcolor\":\"white\"},\"hoverlabel\":{\"align\":\"left\"},\"hovermode\":\"closest\",\"mapbox\":{\"style\":\"light\"},\"paper_bgcolor\":\"white\",\"plot_bgcolor\":\"white\",\"polar\":{\"angularaxis\":{\"gridcolor\":\"rgb(232,232,232)\",\"linecolor\":\"rgb(36,36,36)\",\"showgrid\":false,\"showline\":true,\"ticks\":\"outside\"},\"bgcolor\":\"white\",\"radialaxis\":{\"gridcolor\":\"rgb(232,232,232)\",\"linecolor\":\"rgb(36,36,36)\",\"showgrid\":false,\"showline\":true,\"ticks\":\"outside\"}},\"scene\":{\"xaxis\":{\"backgroundcolor\":\"white\",\"gridcolor\":\"rgb(232,232,232)\",\"gridwidth\":2,\"linecolor\":\"rgb(36,36,36)\",\"showbackground\":true,\"showgrid\":false,\"showline\":true,\"ticks\":\"outside\",\"zeroline\":false,\"zerolinecolor\":\"rgb(36,36,36)\"},\"yaxis\":{\"backgroundcolor\":\"white\",\"gridcolor\":\"rgb(232,232,232)\",\"gridwidth\":2,\"linecolor\":\"rgb(36,36,36)\",\"showbackground\":true,\"showgrid\":false,\"showline\":true,\"ticks\":\"outside\",\"zeroline\":false,\"zerolinecolor\":\"rgb(36,36,36)\"},\"zaxis\":{\"backgroundcolor\":\"white\",\"gridcolor\":\"rgb(232,232,232)\",\"gridwidth\":2,\"linecolor\":\"rgb(36,36,36)\",\"showbackground\":true,\"showgrid\":false,\"showline\":true,\"ticks\":\"outside\",\"zeroline\":false,\"zerolinecolor\":\"rgb(36,36,36)\"}},\"shapedefaults\":{\"fillcolor\":\"black\",\"line\":{\"width\":0},\"opacity\":0.3},\"ternary\":{\"aaxis\":{\"gridcolor\":\"rgb(232,232,232)\",\"linecolor\":\"rgb(36,36,36)\",\"showgrid\":false,\"showline\":true,\"ticks\":\"outside\"},\"baxis\":{\"gridcolor\":\"rgb(232,232,232)\",\"linecolor\":\"rgb(36,36,36)\",\"showgrid\":false,\"showline\":true,\"ticks\":\"outside\"},\"bgcolor\":\"white\",\"caxis\":{\"gridcolor\":\"rgb(232,232,232)\",\"linecolor\":\"rgb(36,36,36)\",\"showgrid\":false,\"showline\":true,\"ticks\":\"outside\"}},\"title\":{\"x\":0.05},\"xaxis\":{\"automargin\":true,\"gridcolor\":\"rgb(232,232,232)\",\"linecolor\":\"rgb(36,36,36)\",\"showgrid\":false,\"showline\":true,\"ticks\":\"outside\",\"title\":{\"standoff\":15},\"zeroline\":false,\"zerolinecolor\":\"rgb(36,36,36)\"},\"yaxis\":{\"automargin\":true,\"gridcolor\":\"rgb(232,232,232)\",\"linecolor\":\"rgb(36,36,36)\",\"showgrid\":false,\"showline\":true,\"ticks\":\"outside\",\"title\":{\"standoff\":15},\"zeroline\":false,\"zerolinecolor\":\"rgb(36,36,36)\"}}},\"xaxis\":{\"anchor\":\"y\",\"domain\":[0.0,1.0],\"title\":{\"text\":\"Localidad\"},\"categoryorder\":\"array\",\"categoryarray\":[\"Usaqu\\u00e9n\",\"Rafael Uribe Uribe\",\"Chapinero\",\"Suba\",\"Santa Fe\",\"La Candelaria\",\"Engativ\\u00e1\",\"Fontib\\u00f3n\",\"Tunjuelito\",\"Ciudad Bolivar\",\"Teusaquillo\",\"Barrios Unidos\",\"Antonio Nari\\u00f1o\",\"Los M\\u00e1rtires\",\"Kennedy\",\"Puente Aranda\",\"San Cristobal\",\"Bosa\",\"Usme\"]},\"yaxis\":{\"anchor\":\"x\",\"domain\":[0.0,1.0],\"title\":{\"text\":\"Precio promedio\"}},\"legend\":{\"title\":{\"text\":\"Nombre_Localidad\"},\"tracegroupgap\":0},\"title\":{\"text\":\"<b>Precio promedio noche por Localidad (COP)<b>\",\"x\":0.5},\"barmode\":\"relative\"},                        {\"responsive\": true}                    ).then(function(){\n",
       "                            \n",
       "var gd = document.getElementById('64de2938-fbc3-4475-9205-fe5fd78957e3');\n",
       "var x = new MutationObserver(function (mutations, observer) {{\n",
       "        var display = window.getComputedStyle(gd).display;\n",
       "        if (!display || display === 'none') {{\n",
       "            console.log([gd, 'removed!']);\n",
       "            Plotly.purge(gd);\n",
       "            observer.disconnect();\n",
       "        }}\n",
       "}});\n",
       "\n",
       "// Listen for the removal of the full notebook cells\n",
       "var notebookContainer = gd.closest('#notebook-container');\n",
       "if (notebookContainer) {{\n",
       "    x.observe(notebookContainer, {childList: true});\n",
       "}}\n",
       "\n",
       "// Listen for the clearing of the current output cell\n",
       "var outputEl = gd.closest('.output');\n",
       "if (outputEl) {{\n",
       "    x.observe(outputEl, {childList: true});\n",
       "}}\n",
       "\n",
       "                        })                };                });            </script>        </div>"
      ]
     },
     "metadata": {},
     "output_type": "display_data"
    }
   ],
   "source": [
    "# crear dataset\n",
    "base2 = base1.groupby(['Nombre_Localidad'])[['Average Daily Rate (Native)']].mean().sort_values('Average Daily Rate (Native)', ascending = False).reset_index()\n",
    "\n",
    "# crear gráfica\n",
    "fig = px.bar(base2, x = 'Nombre_Localidad', y='Average Daily Rate (Native)', color='Nombre_Localidad',\n",
    "             title= '<b>Precio promedio noche por Localidad (COP)<b>',\n",
    "             color_discrete_sequence=px.colors.sequential.Viridis)\n",
    "\n",
    "# agregar detalles a la gráfica\n",
    "fig.update_layout(\n",
    "    xaxis_title = 'Localidad',\n",
    "    yaxis_title = 'Precio promedio',\n",
    "    template = 'simple_white',\n",
    "    title_x = 0.5)\n",
    "\n",
    "fig.show()"
   ]
  },
  {
   "cell_type": "code",
   "execution_count": 27,
   "id": "feadc3b2",
   "metadata": {},
   "outputs": [
    {
     "data": {
      "application/vnd.plotly.v1+json": {
       "config": {
        "plotlyServerURL": "https://plot.ly"
       },
       "data": [
        {
         "alignmentgroup": "True",
         "hovertemplate": "Listing Type=Hotel room<br>Nombre_Localidad=%{x}<br>Average Daily Rate (Native)=%{y}<extra></extra>",
         "legendgroup": "Hotel room",
         "marker": {
          "color": "rgb(12,51,131)",
          "pattern": {
           "shape": ""
          }
         },
         "name": "Hotel room",
         "offsetgroup": "Hotel room",
         "orientation": "v",
         "showlegend": true,
         "textposition": "auto",
         "type": "bar",
         "x": [
          "La Candelaria",
          "Barrios Unidos",
          "Chapinero",
          "Fontibón",
          "Engativá",
          "Usaquén",
          "Santa Fe",
          "Teusaquillo",
          "Suba",
          "Puente Aranda",
          "Bosa",
          "Kennedy"
         ],
         "xaxis": "x",
         "y": [
          180630.89428571428,
          156848.45,
          90007.6456,
          82261.46833333334,
          72061.17764705882,
          71138.62,
          68080.76666666666,
          64578.7025,
          60000,
          35000,
          null,
          null
         ],
         "yaxis": "y"
        },
        {
         "alignmentgroup": "True",
         "hovertemplate": "Listing Type=Entire home/apt<br>Nombre_Localidad=%{x}<br>Average Daily Rate (Native)=%{y}<extra></extra>",
         "legendgroup": "Entire home/apt",
         "marker": {
          "color": "rgb(10,136,186)",
          "pattern": {
           "shape": ""
          }
         },
         "name": "Entire home/apt",
         "offsetgroup": "Entire home/apt",
         "orientation": "v",
         "showlegend": true,
         "textposition": "auto",
         "type": "bar",
         "x": [
          "Rafael Uribe Uribe",
          "Usaquén",
          "Antonio Nariño",
          "Suba",
          "Chapinero",
          "Ciudad Bolivar",
          "Engativá",
          "Fontibón",
          "Bosa",
          "Tunjuelito",
          "Barrios Unidos",
          "La Candelaria",
          "Santa Fe",
          "Kennedy",
          "Los Mártires",
          "Teusaquillo",
          "Puente Aranda",
          "San Cristobal",
          "Usme"
         ],
         "xaxis": "x",
         "y": [
          127393.80933333334,
          120644.87259351621,
          107630.89375,
          105545.17315447154,
          105158.76348125479,
          101248.11111111111,
          97050.70187301587,
          97000.75237735848,
          87238.59625,
          85175.66642857144,
          81005.45947916666,
          80759.43150862069,
          80456.68390862943,
          79598.05587837838,
          78544.93585365854,
          74815.92766044341,
          72233.92327272728,
          68811.86714285714,
          44
         ],
         "yaxis": "y"
        },
        {
         "alignmentgroup": "True",
         "hovertemplate": "Listing Type=Shared room<br>Nombre_Localidad=%{x}<br>Average Daily Rate (Native)=%{y}<extra></extra>",
         "legendgroup": "Shared room",
         "marker": {
          "color": "rgb(242,211,56)",
          "pattern": {
           "shape": ""
          }
         },
         "name": "Shared room",
         "offsetgroup": "Shared room",
         "orientation": "v",
         "showlegend": true,
         "textposition": "auto",
         "type": "bar",
         "x": [
          "Barrios Unidos",
          "Teusaquillo",
          "Chapinero",
          "Puente Aranda",
          "Santa Fe",
          "Engativá",
          "La Candelaria",
          "Suba",
          "Usaquén",
          "Rafael Uribe Uribe",
          "Fontibón",
          "Antonio Nariño",
          "Bosa",
          "Ciudad Bolivar",
          "Kennedy",
          "Los Mártires",
          "San Cristobal",
          "Tunjuelito",
          "Usme"
         ],
         "xaxis": "x",
         "y": [
          110631.17166666668,
          96317.78571428571,
          92590.30175,
          84280.48,
          45538.63875,
          44416.668333333335,
          43482.91111111111,
          42444.15428571428,
          38166.666666666664,
          35000,
          16698.073333333334,
          null,
          null,
          null,
          null,
          null,
          null,
          null,
          null
         ],
         "yaxis": "y"
        },
        {
         "alignmentgroup": "True",
         "hovertemplate": "Listing Type=Private room<br>Nombre_Localidad=%{x}<br>Average Daily Rate (Native)=%{y}<extra></extra>",
         "legendgroup": "Private room",
         "marker": {
          "color": "rgb(242,143,56)",
          "pattern": {
           "shape": ""
          }
         },
         "name": "Private room",
         "offsetgroup": "Private room",
         "orientation": "v",
         "showlegend": true,
         "textposition": "auto",
         "type": "bar",
         "x": [
          "Chapinero",
          "La Candelaria",
          "Santa Fe",
          "Rafael Uribe Uribe",
          "Usaquén",
          "Teusaquillo",
          "Puente Aranda",
          "Suba",
          "Engativá",
          "Fontibón",
          "San Cristobal",
          "Tunjuelito",
          "Antonio Nariño",
          "Kennedy",
          "Ciudad Bolivar",
          "Barrios Unidos",
          "Los Mártires",
          "Bosa",
          "Usme"
         ],
         "xaxis": "x",
         "y": [
          71470.09506702413,
          60706.58016806723,
          60671.490056497176,
          60322.412,
          59370.60342608696,
          58601.872951699464,
          55804.985,
          51348.92318565401,
          49656.98725631769,
          48894.972828685255,
          47384.861666666664,
          46950.95142857143,
          41963.73909090909,
          41842.546969696974,
          41395.445555555554,
          41341.26205405406,
          36588.85407407408,
          32268.532,
          null
         ],
         "yaxis": "y"
        }
       ],
       "layout": {
        "barmode": "group",
        "legend": {
         "title": {
          "text": "Listing Type"
         },
         "tracegroupgap": 0
        },
        "template": {
         "data": {
          "bar": [
           {
            "error_x": {
             "color": "rgb(36,36,36)"
            },
            "error_y": {
             "color": "rgb(36,36,36)"
            },
            "marker": {
             "line": {
              "color": "white",
              "width": 0.5
             },
             "pattern": {
              "fillmode": "overlay",
              "size": 10,
              "solidity": 0.2
             }
            },
            "type": "bar"
           }
          ],
          "barpolar": [
           {
            "marker": {
             "line": {
              "color": "white",
              "width": 0.5
             },
             "pattern": {
              "fillmode": "overlay",
              "size": 10,
              "solidity": 0.2
             }
            },
            "type": "barpolar"
           }
          ],
          "carpet": [
           {
            "aaxis": {
             "endlinecolor": "rgb(36,36,36)",
             "gridcolor": "white",
             "linecolor": "white",
             "minorgridcolor": "white",
             "startlinecolor": "rgb(36,36,36)"
            },
            "baxis": {
             "endlinecolor": "rgb(36,36,36)",
             "gridcolor": "white",
             "linecolor": "white",
             "minorgridcolor": "white",
             "startlinecolor": "rgb(36,36,36)"
            },
            "type": "carpet"
           }
          ],
          "choropleth": [
           {
            "colorbar": {
             "outlinewidth": 1,
             "tickcolor": "rgb(36,36,36)",
             "ticks": "outside"
            },
            "type": "choropleth"
           }
          ],
          "contour": [
           {
            "colorbar": {
             "outlinewidth": 1,
             "tickcolor": "rgb(36,36,36)",
             "ticks": "outside"
            },
            "colorscale": [
             [
              0,
              "#440154"
             ],
             [
              0.1111111111111111,
              "#482878"
             ],
             [
              0.2222222222222222,
              "#3e4989"
             ],
             [
              0.3333333333333333,
              "#31688e"
             ],
             [
              0.4444444444444444,
              "#26828e"
             ],
             [
              0.5555555555555556,
              "#1f9e89"
             ],
             [
              0.6666666666666666,
              "#35b779"
             ],
             [
              0.7777777777777778,
              "#6ece58"
             ],
             [
              0.8888888888888888,
              "#b5de2b"
             ],
             [
              1,
              "#fde725"
             ]
            ],
            "type": "contour"
           }
          ],
          "contourcarpet": [
           {
            "colorbar": {
             "outlinewidth": 1,
             "tickcolor": "rgb(36,36,36)",
             "ticks": "outside"
            },
            "type": "contourcarpet"
           }
          ],
          "heatmap": [
           {
            "colorbar": {
             "outlinewidth": 1,
             "tickcolor": "rgb(36,36,36)",
             "ticks": "outside"
            },
            "colorscale": [
             [
              0,
              "#440154"
             ],
             [
              0.1111111111111111,
              "#482878"
             ],
             [
              0.2222222222222222,
              "#3e4989"
             ],
             [
              0.3333333333333333,
              "#31688e"
             ],
             [
              0.4444444444444444,
              "#26828e"
             ],
             [
              0.5555555555555556,
              "#1f9e89"
             ],
             [
              0.6666666666666666,
              "#35b779"
             ],
             [
              0.7777777777777778,
              "#6ece58"
             ],
             [
              0.8888888888888888,
              "#b5de2b"
             ],
             [
              1,
              "#fde725"
             ]
            ],
            "type": "heatmap"
           }
          ],
          "heatmapgl": [
           {
            "colorbar": {
             "outlinewidth": 1,
             "tickcolor": "rgb(36,36,36)",
             "ticks": "outside"
            },
            "colorscale": [
             [
              0,
              "#440154"
             ],
             [
              0.1111111111111111,
              "#482878"
             ],
             [
              0.2222222222222222,
              "#3e4989"
             ],
             [
              0.3333333333333333,
              "#31688e"
             ],
             [
              0.4444444444444444,
              "#26828e"
             ],
             [
              0.5555555555555556,
              "#1f9e89"
             ],
             [
              0.6666666666666666,
              "#35b779"
             ],
             [
              0.7777777777777778,
              "#6ece58"
             ],
             [
              0.8888888888888888,
              "#b5de2b"
             ],
             [
              1,
              "#fde725"
             ]
            ],
            "type": "heatmapgl"
           }
          ],
          "histogram": [
           {
            "marker": {
             "line": {
              "color": "white",
              "width": 0.6
             }
            },
            "type": "histogram"
           }
          ],
          "histogram2d": [
           {
            "colorbar": {
             "outlinewidth": 1,
             "tickcolor": "rgb(36,36,36)",
             "ticks": "outside"
            },
            "colorscale": [
             [
              0,
              "#440154"
             ],
             [
              0.1111111111111111,
              "#482878"
             ],
             [
              0.2222222222222222,
              "#3e4989"
             ],
             [
              0.3333333333333333,
              "#31688e"
             ],
             [
              0.4444444444444444,
              "#26828e"
             ],
             [
              0.5555555555555556,
              "#1f9e89"
             ],
             [
              0.6666666666666666,
              "#35b779"
             ],
             [
              0.7777777777777778,
              "#6ece58"
             ],
             [
              0.8888888888888888,
              "#b5de2b"
             ],
             [
              1,
              "#fde725"
             ]
            ],
            "type": "histogram2d"
           }
          ],
          "histogram2dcontour": [
           {
            "colorbar": {
             "outlinewidth": 1,
             "tickcolor": "rgb(36,36,36)",
             "ticks": "outside"
            },
            "colorscale": [
             [
              0,
              "#440154"
             ],
             [
              0.1111111111111111,
              "#482878"
             ],
             [
              0.2222222222222222,
              "#3e4989"
             ],
             [
              0.3333333333333333,
              "#31688e"
             ],
             [
              0.4444444444444444,
              "#26828e"
             ],
             [
              0.5555555555555556,
              "#1f9e89"
             ],
             [
              0.6666666666666666,
              "#35b779"
             ],
             [
              0.7777777777777778,
              "#6ece58"
             ],
             [
              0.8888888888888888,
              "#b5de2b"
             ],
             [
              1,
              "#fde725"
             ]
            ],
            "type": "histogram2dcontour"
           }
          ],
          "mesh3d": [
           {
            "colorbar": {
             "outlinewidth": 1,
             "tickcolor": "rgb(36,36,36)",
             "ticks": "outside"
            },
            "type": "mesh3d"
           }
          ],
          "parcoords": [
           {
            "line": {
             "colorbar": {
              "outlinewidth": 1,
              "tickcolor": "rgb(36,36,36)",
              "ticks": "outside"
             }
            },
            "type": "parcoords"
           }
          ],
          "pie": [
           {
            "automargin": true,
            "type": "pie"
           }
          ],
          "scatter": [
           {
            "fillpattern": {
             "fillmode": "overlay",
             "size": 10,
             "solidity": 0.2
            },
            "type": "scatter"
           }
          ],
          "scatter3d": [
           {
            "line": {
             "colorbar": {
              "outlinewidth": 1,
              "tickcolor": "rgb(36,36,36)",
              "ticks": "outside"
             }
            },
            "marker": {
             "colorbar": {
              "outlinewidth": 1,
              "tickcolor": "rgb(36,36,36)",
              "ticks": "outside"
             }
            },
            "type": "scatter3d"
           }
          ],
          "scattercarpet": [
           {
            "marker": {
             "colorbar": {
              "outlinewidth": 1,
              "tickcolor": "rgb(36,36,36)",
              "ticks": "outside"
             }
            },
            "type": "scattercarpet"
           }
          ],
          "scattergeo": [
           {
            "marker": {
             "colorbar": {
              "outlinewidth": 1,
              "tickcolor": "rgb(36,36,36)",
              "ticks": "outside"
             }
            },
            "type": "scattergeo"
           }
          ],
          "scattergl": [
           {
            "marker": {
             "colorbar": {
              "outlinewidth": 1,
              "tickcolor": "rgb(36,36,36)",
              "ticks": "outside"
             }
            },
            "type": "scattergl"
           }
          ],
          "scattermapbox": [
           {
            "marker": {
             "colorbar": {
              "outlinewidth": 1,
              "tickcolor": "rgb(36,36,36)",
              "ticks": "outside"
             }
            },
            "type": "scattermapbox"
           }
          ],
          "scatterpolar": [
           {
            "marker": {
             "colorbar": {
              "outlinewidth": 1,
              "tickcolor": "rgb(36,36,36)",
              "ticks": "outside"
             }
            },
            "type": "scatterpolar"
           }
          ],
          "scatterpolargl": [
           {
            "marker": {
             "colorbar": {
              "outlinewidth": 1,
              "tickcolor": "rgb(36,36,36)",
              "ticks": "outside"
             }
            },
            "type": "scatterpolargl"
           }
          ],
          "scatterternary": [
           {
            "marker": {
             "colorbar": {
              "outlinewidth": 1,
              "tickcolor": "rgb(36,36,36)",
              "ticks": "outside"
             }
            },
            "type": "scatterternary"
           }
          ],
          "surface": [
           {
            "colorbar": {
             "outlinewidth": 1,
             "tickcolor": "rgb(36,36,36)",
             "ticks": "outside"
            },
            "colorscale": [
             [
              0,
              "#440154"
             ],
             [
              0.1111111111111111,
              "#482878"
             ],
             [
              0.2222222222222222,
              "#3e4989"
             ],
             [
              0.3333333333333333,
              "#31688e"
             ],
             [
              0.4444444444444444,
              "#26828e"
             ],
             [
              0.5555555555555556,
              "#1f9e89"
             ],
             [
              0.6666666666666666,
              "#35b779"
             ],
             [
              0.7777777777777778,
              "#6ece58"
             ],
             [
              0.8888888888888888,
              "#b5de2b"
             ],
             [
              1,
              "#fde725"
             ]
            ],
            "type": "surface"
           }
          ],
          "table": [
           {
            "cells": {
             "fill": {
              "color": "rgb(237,237,237)"
             },
             "line": {
              "color": "white"
             }
            },
            "header": {
             "fill": {
              "color": "rgb(217,217,217)"
             },
             "line": {
              "color": "white"
             }
            },
            "type": "table"
           }
          ]
         },
         "layout": {
          "annotationdefaults": {
           "arrowhead": 0,
           "arrowwidth": 1
          },
          "autotypenumbers": "strict",
          "coloraxis": {
           "colorbar": {
            "outlinewidth": 1,
            "tickcolor": "rgb(36,36,36)",
            "ticks": "outside"
           }
          },
          "colorscale": {
           "diverging": [
            [
             0,
             "rgb(103,0,31)"
            ],
            [
             0.1,
             "rgb(178,24,43)"
            ],
            [
             0.2,
             "rgb(214,96,77)"
            ],
            [
             0.3,
             "rgb(244,165,130)"
            ],
            [
             0.4,
             "rgb(253,219,199)"
            ],
            [
             0.5,
             "rgb(247,247,247)"
            ],
            [
             0.6,
             "rgb(209,229,240)"
            ],
            [
             0.7,
             "rgb(146,197,222)"
            ],
            [
             0.8,
             "rgb(67,147,195)"
            ],
            [
             0.9,
             "rgb(33,102,172)"
            ],
            [
             1,
             "rgb(5,48,97)"
            ]
           ],
           "sequential": [
            [
             0,
             "#440154"
            ],
            [
             0.1111111111111111,
             "#482878"
            ],
            [
             0.2222222222222222,
             "#3e4989"
            ],
            [
             0.3333333333333333,
             "#31688e"
            ],
            [
             0.4444444444444444,
             "#26828e"
            ],
            [
             0.5555555555555556,
             "#1f9e89"
            ],
            [
             0.6666666666666666,
             "#35b779"
            ],
            [
             0.7777777777777778,
             "#6ece58"
            ],
            [
             0.8888888888888888,
             "#b5de2b"
            ],
            [
             1,
             "#fde725"
            ]
           ],
           "sequentialminus": [
            [
             0,
             "#440154"
            ],
            [
             0.1111111111111111,
             "#482878"
            ],
            [
             0.2222222222222222,
             "#3e4989"
            ],
            [
             0.3333333333333333,
             "#31688e"
            ],
            [
             0.4444444444444444,
             "#26828e"
            ],
            [
             0.5555555555555556,
             "#1f9e89"
            ],
            [
             0.6666666666666666,
             "#35b779"
            ],
            [
             0.7777777777777778,
             "#6ece58"
            ],
            [
             0.8888888888888888,
             "#b5de2b"
            ],
            [
             1,
             "#fde725"
            ]
           ]
          },
          "colorway": [
           "#1F77B4",
           "#FF7F0E",
           "#2CA02C",
           "#D62728",
           "#9467BD",
           "#8C564B",
           "#E377C2",
           "#7F7F7F",
           "#BCBD22",
           "#17BECF"
          ],
          "font": {
           "color": "rgb(36,36,36)"
          },
          "geo": {
           "bgcolor": "white",
           "lakecolor": "white",
           "landcolor": "white",
           "showlakes": true,
           "showland": true,
           "subunitcolor": "white"
          },
          "hoverlabel": {
           "align": "left"
          },
          "hovermode": "closest",
          "mapbox": {
           "style": "light"
          },
          "paper_bgcolor": "white",
          "plot_bgcolor": "white",
          "polar": {
           "angularaxis": {
            "gridcolor": "rgb(232,232,232)",
            "linecolor": "rgb(36,36,36)",
            "showgrid": false,
            "showline": true,
            "ticks": "outside"
           },
           "bgcolor": "white",
           "radialaxis": {
            "gridcolor": "rgb(232,232,232)",
            "linecolor": "rgb(36,36,36)",
            "showgrid": false,
            "showline": true,
            "ticks": "outside"
           }
          },
          "scene": {
           "xaxis": {
            "backgroundcolor": "white",
            "gridcolor": "rgb(232,232,232)",
            "gridwidth": 2,
            "linecolor": "rgb(36,36,36)",
            "showbackground": true,
            "showgrid": false,
            "showline": true,
            "ticks": "outside",
            "zeroline": false,
            "zerolinecolor": "rgb(36,36,36)"
           },
           "yaxis": {
            "backgroundcolor": "white",
            "gridcolor": "rgb(232,232,232)",
            "gridwidth": 2,
            "linecolor": "rgb(36,36,36)",
            "showbackground": true,
            "showgrid": false,
            "showline": true,
            "ticks": "outside",
            "zeroline": false,
            "zerolinecolor": "rgb(36,36,36)"
           },
           "zaxis": {
            "backgroundcolor": "white",
            "gridcolor": "rgb(232,232,232)",
            "gridwidth": 2,
            "linecolor": "rgb(36,36,36)",
            "showbackground": true,
            "showgrid": false,
            "showline": true,
            "ticks": "outside",
            "zeroline": false,
            "zerolinecolor": "rgb(36,36,36)"
           }
          },
          "shapedefaults": {
           "fillcolor": "black",
           "line": {
            "width": 0
           },
           "opacity": 0.3
          },
          "ternary": {
           "aaxis": {
            "gridcolor": "rgb(232,232,232)",
            "linecolor": "rgb(36,36,36)",
            "showgrid": false,
            "showline": true,
            "ticks": "outside"
           },
           "baxis": {
            "gridcolor": "rgb(232,232,232)",
            "linecolor": "rgb(36,36,36)",
            "showgrid": false,
            "showline": true,
            "ticks": "outside"
           },
           "bgcolor": "white",
           "caxis": {
            "gridcolor": "rgb(232,232,232)",
            "linecolor": "rgb(36,36,36)",
            "showgrid": false,
            "showline": true,
            "ticks": "outside"
           }
          },
          "title": {
           "x": 0.05
          },
          "xaxis": {
           "automargin": true,
           "gridcolor": "rgb(232,232,232)",
           "linecolor": "rgb(36,36,36)",
           "showgrid": false,
           "showline": true,
           "ticks": "outside",
           "title": {
            "standoff": 15
           },
           "zeroline": false,
           "zerolinecolor": "rgb(36,36,36)"
          },
          "yaxis": {
           "automargin": true,
           "gridcolor": "rgb(232,232,232)",
           "linecolor": "rgb(36,36,36)",
           "showgrid": false,
           "showline": true,
           "ticks": "outside",
           "title": {
            "standoff": 15
           },
           "zeroline": false,
           "zerolinecolor": "rgb(36,36,36)"
          }
         }
        },
        "title": {
         "text": "<b>Precio Promedio por Tipo de Establecimiento/Localidad<b>",
         "x": 0.5
        },
        "xaxis": {
         "anchor": "y",
         "domain": [
          0,
          1
         ],
         "title": {
          "text": "Localidad"
         }
        },
        "yaxis": {
         "anchor": "x",
         "domain": [
          0,
          1
         ],
         "title": {
          "text": "Precio promedio noche"
         }
        }
       }
      },
      "text/html": [
       "<div>                            <div id=\"f50544da-45a4-4943-8e02-2d6eb932875a\" class=\"plotly-graph-div\" style=\"height:525px; width:100%;\"></div>            <script type=\"text/javascript\">                require([\"plotly\"], function(Plotly) {                    window.PLOTLYENV=window.PLOTLYENV || {};                                    if (document.getElementById(\"f50544da-45a4-4943-8e02-2d6eb932875a\")) {                    Plotly.newPlot(                        \"f50544da-45a4-4943-8e02-2d6eb932875a\",                        [{\"alignmentgroup\":\"True\",\"hovertemplate\":\"Listing Type=Hotel room<br>Nombre_Localidad=%{x}<br>Average Daily Rate (Native)=%{y}<extra></extra>\",\"legendgroup\":\"Hotel room\",\"marker\":{\"color\":\"rgb(12,51,131)\",\"pattern\":{\"shape\":\"\"}},\"name\":\"Hotel room\",\"offsetgroup\":\"Hotel room\",\"orientation\":\"v\",\"showlegend\":true,\"textposition\":\"auto\",\"x\":[\"La Candelaria\",\"Barrios Unidos\",\"Chapinero\",\"Fontib\\u00f3n\",\"Engativ\\u00e1\",\"Usaqu\\u00e9n\",\"Santa Fe\",\"Teusaquillo\",\"Suba\",\"Puente Aranda\",\"Bosa\",\"Kennedy\"],\"xaxis\":\"x\",\"y\":[180630.89428571428,156848.45,90007.6456,82261.46833333334,72061.17764705882,71138.62,68080.76666666666,64578.7025,60000.0,35000.0,null,null],\"yaxis\":\"y\",\"type\":\"bar\"},{\"alignmentgroup\":\"True\",\"hovertemplate\":\"Listing Type=Entire home/apt<br>Nombre_Localidad=%{x}<br>Average Daily Rate (Native)=%{y}<extra></extra>\",\"legendgroup\":\"Entire home/apt\",\"marker\":{\"color\":\"rgb(10,136,186)\",\"pattern\":{\"shape\":\"\"}},\"name\":\"Entire home/apt\",\"offsetgroup\":\"Entire home/apt\",\"orientation\":\"v\",\"showlegend\":true,\"textposition\":\"auto\",\"x\":[\"Rafael Uribe Uribe\",\"Usaqu\\u00e9n\",\"Antonio Nari\\u00f1o\",\"Suba\",\"Chapinero\",\"Ciudad Bolivar\",\"Engativ\\u00e1\",\"Fontib\\u00f3n\",\"Bosa\",\"Tunjuelito\",\"Barrios Unidos\",\"La Candelaria\",\"Santa Fe\",\"Kennedy\",\"Los M\\u00e1rtires\",\"Teusaquillo\",\"Puente Aranda\",\"San Cristobal\",\"Usme\"],\"xaxis\":\"x\",\"y\":[127393.80933333334,120644.87259351621,107630.89375,105545.17315447154,105158.76348125479,101248.11111111111,97050.70187301587,97000.75237735848,87238.59625,85175.66642857144,81005.45947916666,80759.43150862069,80456.68390862943,79598.05587837838,78544.93585365854,74815.92766044341,72233.92327272728,68811.86714285714,44.0],\"yaxis\":\"y\",\"type\":\"bar\"},{\"alignmentgroup\":\"True\",\"hovertemplate\":\"Listing Type=Shared room<br>Nombre_Localidad=%{x}<br>Average Daily Rate (Native)=%{y}<extra></extra>\",\"legendgroup\":\"Shared room\",\"marker\":{\"color\":\"rgb(242,211,56)\",\"pattern\":{\"shape\":\"\"}},\"name\":\"Shared room\",\"offsetgroup\":\"Shared room\",\"orientation\":\"v\",\"showlegend\":true,\"textposition\":\"auto\",\"x\":[\"Barrios Unidos\",\"Teusaquillo\",\"Chapinero\",\"Puente Aranda\",\"Santa Fe\",\"Engativ\\u00e1\",\"La Candelaria\",\"Suba\",\"Usaqu\\u00e9n\",\"Rafael Uribe Uribe\",\"Fontib\\u00f3n\",\"Antonio Nari\\u00f1o\",\"Bosa\",\"Ciudad Bolivar\",\"Kennedy\",\"Los M\\u00e1rtires\",\"San Cristobal\",\"Tunjuelito\",\"Usme\"],\"xaxis\":\"x\",\"y\":[110631.17166666668,96317.78571428571,92590.30175,84280.48,45538.63875,44416.668333333335,43482.91111111111,42444.15428571428,38166.666666666664,35000.0,16698.073333333334,null,null,null,null,null,null,null,null],\"yaxis\":\"y\",\"type\":\"bar\"},{\"alignmentgroup\":\"True\",\"hovertemplate\":\"Listing Type=Private room<br>Nombre_Localidad=%{x}<br>Average Daily Rate (Native)=%{y}<extra></extra>\",\"legendgroup\":\"Private room\",\"marker\":{\"color\":\"rgb(242,143,56)\",\"pattern\":{\"shape\":\"\"}},\"name\":\"Private room\",\"offsetgroup\":\"Private room\",\"orientation\":\"v\",\"showlegend\":true,\"textposition\":\"auto\",\"x\":[\"Chapinero\",\"La Candelaria\",\"Santa Fe\",\"Rafael Uribe Uribe\",\"Usaqu\\u00e9n\",\"Teusaquillo\",\"Puente Aranda\",\"Suba\",\"Engativ\\u00e1\",\"Fontib\\u00f3n\",\"San Cristobal\",\"Tunjuelito\",\"Antonio Nari\\u00f1o\",\"Kennedy\",\"Ciudad Bolivar\",\"Barrios Unidos\",\"Los M\\u00e1rtires\",\"Bosa\",\"Usme\"],\"xaxis\":\"x\",\"y\":[71470.09506702413,60706.58016806723,60671.490056497176,60322.412,59370.60342608696,58601.872951699464,55804.985,51348.92318565401,49656.98725631769,48894.972828685255,47384.861666666664,46950.95142857143,41963.73909090909,41842.546969696974,41395.445555555554,41341.26205405406,36588.85407407408,32268.532,null],\"yaxis\":\"y\",\"type\":\"bar\"}],                        {\"template\":{\"data\":{\"barpolar\":[{\"marker\":{\"line\":{\"color\":\"white\",\"width\":0.5},\"pattern\":{\"fillmode\":\"overlay\",\"size\":10,\"solidity\":0.2}},\"type\":\"barpolar\"}],\"bar\":[{\"error_x\":{\"color\":\"rgb(36,36,36)\"},\"error_y\":{\"color\":\"rgb(36,36,36)\"},\"marker\":{\"line\":{\"color\":\"white\",\"width\":0.5},\"pattern\":{\"fillmode\":\"overlay\",\"size\":10,\"solidity\":0.2}},\"type\":\"bar\"}],\"carpet\":[{\"aaxis\":{\"endlinecolor\":\"rgb(36,36,36)\",\"gridcolor\":\"white\",\"linecolor\":\"white\",\"minorgridcolor\":\"white\",\"startlinecolor\":\"rgb(36,36,36)\"},\"baxis\":{\"endlinecolor\":\"rgb(36,36,36)\",\"gridcolor\":\"white\",\"linecolor\":\"white\",\"minorgridcolor\":\"white\",\"startlinecolor\":\"rgb(36,36,36)\"},\"type\":\"carpet\"}],\"choropleth\":[{\"colorbar\":{\"outlinewidth\":1,\"tickcolor\":\"rgb(36,36,36)\",\"ticks\":\"outside\"},\"type\":\"choropleth\"}],\"contourcarpet\":[{\"colorbar\":{\"outlinewidth\":1,\"tickcolor\":\"rgb(36,36,36)\",\"ticks\":\"outside\"},\"type\":\"contourcarpet\"}],\"contour\":[{\"colorbar\":{\"outlinewidth\":1,\"tickcolor\":\"rgb(36,36,36)\",\"ticks\":\"outside\"},\"colorscale\":[[0.0,\"#440154\"],[0.1111111111111111,\"#482878\"],[0.2222222222222222,\"#3e4989\"],[0.3333333333333333,\"#31688e\"],[0.4444444444444444,\"#26828e\"],[0.5555555555555556,\"#1f9e89\"],[0.6666666666666666,\"#35b779\"],[0.7777777777777778,\"#6ece58\"],[0.8888888888888888,\"#b5de2b\"],[1.0,\"#fde725\"]],\"type\":\"contour\"}],\"heatmapgl\":[{\"colorbar\":{\"outlinewidth\":1,\"tickcolor\":\"rgb(36,36,36)\",\"ticks\":\"outside\"},\"colorscale\":[[0.0,\"#440154\"],[0.1111111111111111,\"#482878\"],[0.2222222222222222,\"#3e4989\"],[0.3333333333333333,\"#31688e\"],[0.4444444444444444,\"#26828e\"],[0.5555555555555556,\"#1f9e89\"],[0.6666666666666666,\"#35b779\"],[0.7777777777777778,\"#6ece58\"],[0.8888888888888888,\"#b5de2b\"],[1.0,\"#fde725\"]],\"type\":\"heatmapgl\"}],\"heatmap\":[{\"colorbar\":{\"outlinewidth\":1,\"tickcolor\":\"rgb(36,36,36)\",\"ticks\":\"outside\"},\"colorscale\":[[0.0,\"#440154\"],[0.1111111111111111,\"#482878\"],[0.2222222222222222,\"#3e4989\"],[0.3333333333333333,\"#31688e\"],[0.4444444444444444,\"#26828e\"],[0.5555555555555556,\"#1f9e89\"],[0.6666666666666666,\"#35b779\"],[0.7777777777777778,\"#6ece58\"],[0.8888888888888888,\"#b5de2b\"],[1.0,\"#fde725\"]],\"type\":\"heatmap\"}],\"histogram2dcontour\":[{\"colorbar\":{\"outlinewidth\":1,\"tickcolor\":\"rgb(36,36,36)\",\"ticks\":\"outside\"},\"colorscale\":[[0.0,\"#440154\"],[0.1111111111111111,\"#482878\"],[0.2222222222222222,\"#3e4989\"],[0.3333333333333333,\"#31688e\"],[0.4444444444444444,\"#26828e\"],[0.5555555555555556,\"#1f9e89\"],[0.6666666666666666,\"#35b779\"],[0.7777777777777778,\"#6ece58\"],[0.8888888888888888,\"#b5de2b\"],[1.0,\"#fde725\"]],\"type\":\"histogram2dcontour\"}],\"histogram2d\":[{\"colorbar\":{\"outlinewidth\":1,\"tickcolor\":\"rgb(36,36,36)\",\"ticks\":\"outside\"},\"colorscale\":[[0.0,\"#440154\"],[0.1111111111111111,\"#482878\"],[0.2222222222222222,\"#3e4989\"],[0.3333333333333333,\"#31688e\"],[0.4444444444444444,\"#26828e\"],[0.5555555555555556,\"#1f9e89\"],[0.6666666666666666,\"#35b779\"],[0.7777777777777778,\"#6ece58\"],[0.8888888888888888,\"#b5de2b\"],[1.0,\"#fde725\"]],\"type\":\"histogram2d\"}],\"histogram\":[{\"marker\":{\"line\":{\"color\":\"white\",\"width\":0.6}},\"type\":\"histogram\"}],\"mesh3d\":[{\"colorbar\":{\"outlinewidth\":1,\"tickcolor\":\"rgb(36,36,36)\",\"ticks\":\"outside\"},\"type\":\"mesh3d\"}],\"parcoords\":[{\"line\":{\"colorbar\":{\"outlinewidth\":1,\"tickcolor\":\"rgb(36,36,36)\",\"ticks\":\"outside\"}},\"type\":\"parcoords\"}],\"pie\":[{\"automargin\":true,\"type\":\"pie\"}],\"scatter3d\":[{\"line\":{\"colorbar\":{\"outlinewidth\":1,\"tickcolor\":\"rgb(36,36,36)\",\"ticks\":\"outside\"}},\"marker\":{\"colorbar\":{\"outlinewidth\":1,\"tickcolor\":\"rgb(36,36,36)\",\"ticks\":\"outside\"}},\"type\":\"scatter3d\"}],\"scattercarpet\":[{\"marker\":{\"colorbar\":{\"outlinewidth\":1,\"tickcolor\":\"rgb(36,36,36)\",\"ticks\":\"outside\"}},\"type\":\"scattercarpet\"}],\"scattergeo\":[{\"marker\":{\"colorbar\":{\"outlinewidth\":1,\"tickcolor\":\"rgb(36,36,36)\",\"ticks\":\"outside\"}},\"type\":\"scattergeo\"}],\"scattergl\":[{\"marker\":{\"colorbar\":{\"outlinewidth\":1,\"tickcolor\":\"rgb(36,36,36)\",\"ticks\":\"outside\"}},\"type\":\"scattergl\"}],\"scattermapbox\":[{\"marker\":{\"colorbar\":{\"outlinewidth\":1,\"tickcolor\":\"rgb(36,36,36)\",\"ticks\":\"outside\"}},\"type\":\"scattermapbox\"}],\"scatterpolargl\":[{\"marker\":{\"colorbar\":{\"outlinewidth\":1,\"tickcolor\":\"rgb(36,36,36)\",\"ticks\":\"outside\"}},\"type\":\"scatterpolargl\"}],\"scatterpolar\":[{\"marker\":{\"colorbar\":{\"outlinewidth\":1,\"tickcolor\":\"rgb(36,36,36)\",\"ticks\":\"outside\"}},\"type\":\"scatterpolar\"}],\"scatter\":[{\"fillpattern\":{\"fillmode\":\"overlay\",\"size\":10,\"solidity\":0.2},\"type\":\"scatter\"}],\"scatterternary\":[{\"marker\":{\"colorbar\":{\"outlinewidth\":1,\"tickcolor\":\"rgb(36,36,36)\",\"ticks\":\"outside\"}},\"type\":\"scatterternary\"}],\"surface\":[{\"colorbar\":{\"outlinewidth\":1,\"tickcolor\":\"rgb(36,36,36)\",\"ticks\":\"outside\"},\"colorscale\":[[0.0,\"#440154\"],[0.1111111111111111,\"#482878\"],[0.2222222222222222,\"#3e4989\"],[0.3333333333333333,\"#31688e\"],[0.4444444444444444,\"#26828e\"],[0.5555555555555556,\"#1f9e89\"],[0.6666666666666666,\"#35b779\"],[0.7777777777777778,\"#6ece58\"],[0.8888888888888888,\"#b5de2b\"],[1.0,\"#fde725\"]],\"type\":\"surface\"}],\"table\":[{\"cells\":{\"fill\":{\"color\":\"rgb(237,237,237)\"},\"line\":{\"color\":\"white\"}},\"header\":{\"fill\":{\"color\":\"rgb(217,217,217)\"},\"line\":{\"color\":\"white\"}},\"type\":\"table\"}]},\"layout\":{\"annotationdefaults\":{\"arrowhead\":0,\"arrowwidth\":1},\"autotypenumbers\":\"strict\",\"coloraxis\":{\"colorbar\":{\"outlinewidth\":1,\"tickcolor\":\"rgb(36,36,36)\",\"ticks\":\"outside\"}},\"colorscale\":{\"diverging\":[[0.0,\"rgb(103,0,31)\"],[0.1,\"rgb(178,24,43)\"],[0.2,\"rgb(214,96,77)\"],[0.3,\"rgb(244,165,130)\"],[0.4,\"rgb(253,219,199)\"],[0.5,\"rgb(247,247,247)\"],[0.6,\"rgb(209,229,240)\"],[0.7,\"rgb(146,197,222)\"],[0.8,\"rgb(67,147,195)\"],[0.9,\"rgb(33,102,172)\"],[1.0,\"rgb(5,48,97)\"]],\"sequential\":[[0.0,\"#440154\"],[0.1111111111111111,\"#482878\"],[0.2222222222222222,\"#3e4989\"],[0.3333333333333333,\"#31688e\"],[0.4444444444444444,\"#26828e\"],[0.5555555555555556,\"#1f9e89\"],[0.6666666666666666,\"#35b779\"],[0.7777777777777778,\"#6ece58\"],[0.8888888888888888,\"#b5de2b\"],[1.0,\"#fde725\"]],\"sequentialminus\":[[0.0,\"#440154\"],[0.1111111111111111,\"#482878\"],[0.2222222222222222,\"#3e4989\"],[0.3333333333333333,\"#31688e\"],[0.4444444444444444,\"#26828e\"],[0.5555555555555556,\"#1f9e89\"],[0.6666666666666666,\"#35b779\"],[0.7777777777777778,\"#6ece58\"],[0.8888888888888888,\"#b5de2b\"],[1.0,\"#fde725\"]]},\"colorway\":[\"#1F77B4\",\"#FF7F0E\",\"#2CA02C\",\"#D62728\",\"#9467BD\",\"#8C564B\",\"#E377C2\",\"#7F7F7F\",\"#BCBD22\",\"#17BECF\"],\"font\":{\"color\":\"rgb(36,36,36)\"},\"geo\":{\"bgcolor\":\"white\",\"lakecolor\":\"white\",\"landcolor\":\"white\",\"showlakes\":true,\"showland\":true,\"subunitcolor\":\"white\"},\"hoverlabel\":{\"align\":\"left\"},\"hovermode\":\"closest\",\"mapbox\":{\"style\":\"light\"},\"paper_bgcolor\":\"white\",\"plot_bgcolor\":\"white\",\"polar\":{\"angularaxis\":{\"gridcolor\":\"rgb(232,232,232)\",\"linecolor\":\"rgb(36,36,36)\",\"showgrid\":false,\"showline\":true,\"ticks\":\"outside\"},\"bgcolor\":\"white\",\"radialaxis\":{\"gridcolor\":\"rgb(232,232,232)\",\"linecolor\":\"rgb(36,36,36)\",\"showgrid\":false,\"showline\":true,\"ticks\":\"outside\"}},\"scene\":{\"xaxis\":{\"backgroundcolor\":\"white\",\"gridcolor\":\"rgb(232,232,232)\",\"gridwidth\":2,\"linecolor\":\"rgb(36,36,36)\",\"showbackground\":true,\"showgrid\":false,\"showline\":true,\"ticks\":\"outside\",\"zeroline\":false,\"zerolinecolor\":\"rgb(36,36,36)\"},\"yaxis\":{\"backgroundcolor\":\"white\",\"gridcolor\":\"rgb(232,232,232)\",\"gridwidth\":2,\"linecolor\":\"rgb(36,36,36)\",\"showbackground\":true,\"showgrid\":false,\"showline\":true,\"ticks\":\"outside\",\"zeroline\":false,\"zerolinecolor\":\"rgb(36,36,36)\"},\"zaxis\":{\"backgroundcolor\":\"white\",\"gridcolor\":\"rgb(232,232,232)\",\"gridwidth\":2,\"linecolor\":\"rgb(36,36,36)\",\"showbackground\":true,\"showgrid\":false,\"showline\":true,\"ticks\":\"outside\",\"zeroline\":false,\"zerolinecolor\":\"rgb(36,36,36)\"}},\"shapedefaults\":{\"fillcolor\":\"black\",\"line\":{\"width\":0},\"opacity\":0.3},\"ternary\":{\"aaxis\":{\"gridcolor\":\"rgb(232,232,232)\",\"linecolor\":\"rgb(36,36,36)\",\"showgrid\":false,\"showline\":true,\"ticks\":\"outside\"},\"baxis\":{\"gridcolor\":\"rgb(232,232,232)\",\"linecolor\":\"rgb(36,36,36)\",\"showgrid\":false,\"showline\":true,\"ticks\":\"outside\"},\"bgcolor\":\"white\",\"caxis\":{\"gridcolor\":\"rgb(232,232,232)\",\"linecolor\":\"rgb(36,36,36)\",\"showgrid\":false,\"showline\":true,\"ticks\":\"outside\"}},\"title\":{\"x\":0.05},\"xaxis\":{\"automargin\":true,\"gridcolor\":\"rgb(232,232,232)\",\"linecolor\":\"rgb(36,36,36)\",\"showgrid\":false,\"showline\":true,\"ticks\":\"outside\",\"title\":{\"standoff\":15},\"zeroline\":false,\"zerolinecolor\":\"rgb(36,36,36)\"},\"yaxis\":{\"automargin\":true,\"gridcolor\":\"rgb(232,232,232)\",\"linecolor\":\"rgb(36,36,36)\",\"showgrid\":false,\"showline\":true,\"ticks\":\"outside\",\"title\":{\"standoff\":15},\"zeroline\":false,\"zerolinecolor\":\"rgb(36,36,36)\"}}},\"xaxis\":{\"anchor\":\"y\",\"domain\":[0.0,1.0],\"title\":{\"text\":\"Localidad\"}},\"yaxis\":{\"anchor\":\"x\",\"domain\":[0.0,1.0],\"title\":{\"text\":\"Precio promedio noche\"}},\"legend\":{\"title\":{\"text\":\"Listing Type\"},\"tracegroupgap\":0},\"title\":{\"text\":\"<b>Precio Promedio por Tipo de Establecimiento/Localidad<b>\",\"x\":0.5},\"barmode\":\"group\"},                        {\"responsive\": true}                    ).then(function(){\n",
       "                            \n",
       "var gd = document.getElementById('f50544da-45a4-4943-8e02-2d6eb932875a');\n",
       "var x = new MutationObserver(function (mutations, observer) {{\n",
       "        var display = window.getComputedStyle(gd).display;\n",
       "        if (!display || display === 'none') {{\n",
       "            console.log([gd, 'removed!']);\n",
       "            Plotly.purge(gd);\n",
       "            observer.disconnect();\n",
       "        }}\n",
       "}});\n",
       "\n",
       "// Listen for the removal of the full notebook cells\n",
       "var notebookContainer = gd.closest('#notebook-container');\n",
       "if (notebookContainer) {{\n",
       "    x.observe(notebookContainer, {childList: true});\n",
       "}}\n",
       "\n",
       "// Listen for the clearing of the current output cell\n",
       "var outputEl = gd.closest('.output');\n",
       "if (outputEl) {{\n",
       "    x.observe(outputEl, {childList: true});\n",
       "}}\n",
       "\n",
       "                        })                };                });            </script>        </div>"
      ]
     },
     "metadata": {},
     "output_type": "display_data"
    }
   ],
   "source": [
    "# crear dataset\n",
    "base2 = base1.groupby(['Nombre_Localidad', 'Listing Type'])[['Average Daily Rate (Native)']].mean().sort_values('Average Daily Rate (Native)', ascending = False).reset_index()\n",
    "\n",
    "# crear gráfica\n",
    "fig = px.bar(base2, x = 'Nombre_Localidad', y='Average Daily Rate (Native)',color = 'Listing Type',\n",
    "             barmode = 'group', color_discrete_sequence=px.colors.diverging.Portland,\n",
    "             title= '<b>Precio Promedio por Tipo de Establecimiento/Localidad<b>')\n",
    "\n",
    "# agregar detalles a la gráfica\n",
    "fig.update_layout(\n",
    "    xaxis_title = 'Localidad',\n",
    "    yaxis_title = 'Precio promedio noche',\n",
    "    template = 'simple_white',\n",
    "    title_x = 0.5)\n",
    "\n",
    "fig.show()"
   ]
  },
  {
   "cell_type": "code",
   "execution_count": 11,
   "id": "627dba21",
   "metadata": {},
   "outputs": [],
   "source": [
    "base1['Created Date'] = pd.to_datetime(base1['Created Date'])"
   ]
  },
  {
   "cell_type": "code",
   "execution_count": 12,
   "id": "dfd1d0e5",
   "metadata": {},
   "outputs": [],
   "source": [
    "base1['Year'] = base1['Created Date'].dt.strftime('%Y')\n",
    "base1['Month'] = base1['Created Date'].dt.strftime('%m')\n",
    "base1['YearMonth'] = base1['Year'] + base1['Month']"
   ]
  },
  {
   "cell_type": "code",
   "execution_count": 13,
   "id": "00d955c6",
   "metadata": {},
   "outputs": [
    {
     "data": {
      "text/plain": [
       "array(['2020', '2021', '2022', '2018', '2019', '2009', '2010', '2011',\n",
       "       '2012', '2013', '2017', '2016', '2014', '2015', nan], dtype=object)"
      ]
     },
     "execution_count": 13,
     "metadata": {},
     "output_type": "execute_result"
    }
   ],
   "source": [
    "base1['Year'].unique()"
   ]
  },
  {
   "cell_type": "code",
   "execution_count": 25,
   "id": "2c0d13e0",
   "metadata": {},
   "outputs": [
    {
     "data": {
      "application/vnd.plotly.v1+json": {
       "config": {
        "plotlyServerURL": "https://plot.ly"
       },
       "data": [
        {
         "hovertemplate": "Nombre_Localidad=Fontibón<br>Year=%{x}<br>Property ID=%{y}<extra></extra>",
         "legendgroup": "Fontibón",
         "line": {
          "color": "#440154",
          "dash": "solid"
         },
         "marker": {
          "symbol": "circle"
         },
         "mode": "lines",
         "name": "Fontibón",
         "orientation": "v",
         "showlegend": true,
         "type": "scatter",
         "x": [
          "2009",
          "2011",
          "2012",
          "2013",
          "2014",
          "2015",
          "2016",
          "2017",
          "2018",
          "2019",
          "2020",
          "2021",
          "2022"
         ],
         "xaxis": "x",
         "y": [
          1,
          4,
          7,
          13,
          30,
          88,
          239,
          355,
          505,
          516,
          251,
          191,
          28
         ],
         "yaxis": "y"
        },
        {
         "hovertemplate": "Nombre_Localidad=Los Mártires<br>Year=%{x}<br>Property ID=%{y}<extra></extra>",
         "legendgroup": "Los Mártires",
         "line": {
          "color": "#482878",
          "dash": "solid"
         },
         "marker": {
          "symbol": "circle"
         },
         "mode": "lines",
         "name": "Los Mártires",
         "orientation": "v",
         "showlegend": true,
         "type": "scatter",
         "x": [
          "2009",
          "2010",
          "2012",
          "2014",
          "2015",
          "2016",
          "2017",
          "2018",
          "2019",
          "2020",
          "2021",
          "2022"
         ],
         "xaxis": "x",
         "y": [
          1,
          1,
          1,
          6,
          13,
          25,
          67,
          118,
          125,
          69,
          50,
          7
         ],
         "yaxis": "y"
        },
        {
         "hovertemplate": "Nombre_Localidad=Chapinero<br>Year=%{x}<br>Property ID=%{y}<extra></extra>",
         "legendgroup": "Chapinero",
         "line": {
          "color": "#3e4989",
          "dash": "solid"
         },
         "marker": {
          "symbol": "circle"
         },
         "mode": "lines",
         "name": "Chapinero",
         "orientation": "v",
         "showlegend": true,
         "type": "scatter",
         "x": [
          "2010",
          "2011",
          "2012",
          "2013",
          "2014",
          "2015",
          "2016",
          "2017",
          "2018",
          "2019",
          "2020",
          "2021",
          "2022"
         ],
         "xaxis": "x",
         "y": [
          5,
          26,
          67,
          122,
          320,
          880,
          1617,
          1690,
          1860,
          1845,
          1180,
          1363,
          211
         ],
         "yaxis": "y"
        },
        {
         "hovertemplate": "Nombre_Localidad=Santa Fe<br>Year=%{x}<br>Property ID=%{y}<extra></extra>",
         "legendgroup": "Santa Fe",
         "line": {
          "color": "#31688e",
          "dash": "solid"
         },
         "marker": {
          "symbol": "circle"
         },
         "mode": "lines",
         "name": "Santa Fe",
         "orientation": "v",
         "showlegend": true,
         "type": "scatter",
         "x": [
          "2010",
          "2011",
          "2012",
          "2013",
          "2014",
          "2015",
          "2016",
          "2017",
          "2018",
          "2019",
          "2020",
          "2021",
          "2022"
         ],
         "xaxis": "x",
         "y": [
          1,
          7,
          10,
          31,
          88,
          191,
          299,
          427,
          588,
          552,
          259,
          356,
          44
         ],
         "yaxis": "y"
        },
        {
         "hovertemplate": "Nombre_Localidad=Engativá<br>Year=%{x}<br>Property ID=%{y}<extra></extra>",
         "legendgroup": "Engativá",
         "line": {
          "color": "#26828e",
          "dash": "solid"
         },
         "marker": {
          "symbol": "circle"
         },
         "mode": "lines",
         "name": "Engativá",
         "orientation": "v",
         "showlegend": true,
         "type": "scatter",
         "x": [
          "2010",
          "2011",
          "2012",
          "2013",
          "2014",
          "2015",
          "2016",
          "2017",
          "2018",
          "2019",
          "2020",
          "2021",
          "2022"
         ],
         "xaxis": "x",
         "y": [
          1,
          3,
          14,
          12,
          22,
          81,
          244,
          348,
          689,
          706,
          392,
          274,
          28
         ],
         "yaxis": "y"
        },
        {
         "hovertemplate": "Nombre_Localidad=La Candelaria<br>Year=%{x}<br>Property ID=%{y}<extra></extra>",
         "legendgroup": "La Candelaria",
         "line": {
          "color": "#1f9e89",
          "dash": "solid"
         },
         "marker": {
          "symbol": "circle"
         },
         "mode": "lines",
         "name": "La Candelaria",
         "orientation": "v",
         "showlegend": true,
         "type": "scatter",
         "x": [
          "2010",
          "2011",
          "2012",
          "2013",
          "2014",
          "2015",
          "2016",
          "2017",
          "2018",
          "2019",
          "2020",
          "2021",
          "2022"
         ],
         "xaxis": "x",
         "y": [
          1,
          7,
          20,
          23,
          40,
          95,
          153,
          219,
          221,
          309,
          133,
          128,
          26
         ],
         "yaxis": "y"
        },
        {
         "hovertemplate": "Nombre_Localidad=San Cristobal<br>Year=%{x}<br>Property ID=%{y}<extra></extra>",
         "legendgroup": "San Cristobal",
         "line": {
          "color": "#35b779",
          "dash": "solid"
         },
         "marker": {
          "symbol": "circle"
         },
         "mode": "lines",
         "name": "San Cristobal",
         "orientation": "v",
         "showlegend": true,
         "type": "scatter",
         "x": [
          "2011",
          "2012",
          "2013",
          "2014",
          "2015",
          "2016",
          "2017",
          "2018",
          "2019",
          "2020",
          "2021",
          "2022"
         ],
         "xaxis": "x",
         "y": [
          1,
          1,
          1,
          1,
          4,
          15,
          16,
          65,
          72,
          30,
          25,
          2
         ],
         "yaxis": "y"
        },
        {
         "hovertemplate": "Nombre_Localidad=Tunjuelito<br>Year=%{x}<br>Property ID=%{y}<extra></extra>",
         "legendgroup": "Tunjuelito",
         "line": {
          "color": "#6ece58",
          "dash": "solid"
         },
         "marker": {
          "symbol": "circle"
         },
         "mode": "lines",
         "name": "Tunjuelito",
         "orientation": "v",
         "showlegend": true,
         "type": "scatter",
         "x": [
          "2011",
          "2012",
          "2013",
          "2014",
          "2015",
          "2016",
          "2017",
          "2018",
          "2019",
          "2020",
          "2021",
          "2022"
         ],
         "xaxis": "x",
         "y": [
          1,
          1,
          1,
          1,
          1,
          5,
          11,
          17,
          26,
          20,
          15,
          1
         ],
         "yaxis": "y"
        },
        {
         "hovertemplate": "Nombre_Localidad=Teusaquillo<br>Year=%{x}<br>Property ID=%{y}<extra></extra>",
         "legendgroup": "Teusaquillo",
         "line": {
          "color": "#b5de2b",
          "dash": "solid"
         },
         "marker": {
          "symbol": "circle"
         },
         "mode": "lines",
         "name": "Teusaquillo",
         "orientation": "v",
         "showlegend": true,
         "type": "scatter",
         "x": [
          "2011",
          "2012",
          "2013",
          "2014",
          "2015",
          "2016",
          "2017",
          "2018",
          "2019",
          "2020",
          "2021",
          "2022"
         ],
         "xaxis": "x",
         "y": [
          16,
          22,
          30,
          98,
          332,
          644,
          832,
          1099,
          1121,
          992,
          1247,
          192
         ],
         "yaxis": "y"
        },
        {
         "hovertemplate": "Nombre_Localidad=Kennedy<br>Year=%{x}<br>Property ID=%{y}<extra></extra>",
         "legendgroup": "Kennedy",
         "line": {
          "color": "#fde725",
          "dash": "solid"
         },
         "marker": {
          "symbol": "circle"
         },
         "mode": "lines",
         "name": "Kennedy",
         "orientation": "v",
         "showlegend": true,
         "type": "scatter",
         "x": [
          "2011",
          "2012",
          "2013",
          "2014",
          "2015",
          "2016",
          "2017",
          "2018",
          "2019",
          "2020",
          "2021",
          "2022"
         ],
         "xaxis": "x",
         "y": [
          3,
          5,
          4,
          13,
          49,
          113,
          212,
          438,
          367,
          157,
          112,
          13
         ],
         "yaxis": "y"
        },
        {
         "hovertemplate": "Nombre_Localidad=Ciudad Bolivar<br>Year=%{x}<br>Property ID=%{y}<extra></extra>",
         "legendgroup": "Ciudad Bolivar",
         "line": {
          "color": "#440154",
          "dash": "solid"
         },
         "marker": {
          "symbol": "circle"
         },
         "mode": "lines",
         "name": "Ciudad Bolivar",
         "orientation": "v",
         "showlegend": true,
         "type": "scatter",
         "x": [
          "2011",
          "2013",
          "2014",
          "2015",
          "2016",
          "2017",
          "2018",
          "2019",
          "2020",
          "2021",
          "2022"
         ],
         "xaxis": "x",
         "y": [
          1,
          2,
          4,
          8,
          10,
          21,
          51,
          58,
          17,
          5,
          2
         ],
         "yaxis": "y"
        },
        {
         "hovertemplate": "Nombre_Localidad=Usme<br>Year=%{x}<br>Property ID=%{y}<extra></extra>",
         "legendgroup": "Usme",
         "line": {
          "color": "#482878",
          "dash": "solid"
         },
         "marker": {
          "symbol": "circle"
         },
         "mode": "lines",
         "name": "Usme",
         "orientation": "v",
         "showlegend": true,
         "type": "scatter",
         "x": [
          "2011",
          "2012",
          "2015",
          "2016",
          "2017",
          "2018",
          "2019",
          "2020",
          "2022"
         ],
         "xaxis": "x",
         "y": [
          1,
          3,
          4,
          4,
          6,
          19,
          12,
          5,
          3
         ],
         "yaxis": "y"
        },
        {
         "hovertemplate": "Nombre_Localidad=Suba<br>Year=%{x}<br>Property ID=%{y}<extra></extra>",
         "legendgroup": "Suba",
         "line": {
          "color": "#3e4989",
          "dash": "solid"
         },
         "marker": {
          "symbol": "circle"
         },
         "mode": "lines",
         "name": "Suba",
         "orientation": "v",
         "showlegend": true,
         "type": "scatter",
         "x": [
          "2011",
          "2012",
          "2013",
          "2014",
          "2015",
          "2016",
          "2017",
          "2018",
          "2019",
          "2020",
          "2021",
          "2022"
         ],
         "xaxis": "x",
         "y": [
          20,
          20,
          43,
          66,
          350,
          755,
          934,
          1454,
          1334,
          595,
          476,
          39
         ],
         "yaxis": "y"
        },
        {
         "hovertemplate": "Nombre_Localidad=Puente Aranda<br>Year=%{x}<br>Property ID=%{y}<extra></extra>",
         "legendgroup": "Puente Aranda",
         "line": {
          "color": "#31688e",
          "dash": "solid"
         },
         "marker": {
          "symbol": "circle"
         },
         "mode": "lines",
         "name": "Puente Aranda",
         "orientation": "v",
         "showlegend": true,
         "type": "scatter",
         "x": [
          "2011",
          "2012",
          "2013",
          "2014",
          "2015",
          "2016",
          "2017",
          "2018",
          "2019",
          "2020",
          "2021",
          "2022"
         ],
         "xaxis": "x",
         "y": [
          1,
          5,
          4,
          5,
          16,
          58,
          57,
          144,
          125,
          79,
          56,
          3
         ],
         "yaxis": "y"
        },
        {
         "hovertemplate": "Nombre_Localidad=Barrios Unidos<br>Year=%{x}<br>Property ID=%{y}<extra></extra>",
         "legendgroup": "Barrios Unidos",
         "line": {
          "color": "#26828e",
          "dash": "solid"
         },
         "marker": {
          "symbol": "circle"
         },
         "mode": "lines",
         "name": "Barrios Unidos",
         "orientation": "v",
         "showlegend": true,
         "type": "scatter",
         "x": [
          "2011",
          "2012",
          "2013",
          "2014",
          "2015",
          "2016",
          "2017",
          "2018",
          "2019",
          "2020",
          "2021",
          "2022"
         ],
         "xaxis": "x",
         "y": [
          1,
          6,
          9,
          40,
          89,
          215,
          281,
          416,
          518,
          263,
          348,
          20
         ],
         "yaxis": "y"
        },
        {
         "hovertemplate": "Nombre_Localidad=Usaquén<br>Year=%{x}<br>Property ID=%{y}<extra></extra>",
         "legendgroup": "Usaquén",
         "line": {
          "color": "#1f9e89",
          "dash": "solid"
         },
         "marker": {
          "symbol": "circle"
         },
         "mode": "lines",
         "name": "Usaquén",
         "orientation": "v",
         "showlegend": true,
         "type": "scatter",
         "x": [
          "2011",
          "2012",
          "2013",
          "2014",
          "2015",
          "2016",
          "2017",
          "2018",
          "2019",
          "2020",
          "2021",
          "2022"
         ],
         "xaxis": "x",
         "y": [
          26,
          41,
          60,
          191,
          675,
          1186,
          1539,
          1796,
          1725,
          900,
          863,
          95
         ],
         "yaxis": "y"
        },
        {
         "hovertemplate": "Nombre_Localidad=Rafael Uribe Uribe<br>Year=%{x}<br>Property ID=%{y}<extra></extra>",
         "legendgroup": "Rafael Uribe Uribe",
         "line": {
          "color": "#35b779",
          "dash": "solid"
         },
         "marker": {
          "symbol": "circle"
         },
         "mode": "lines",
         "name": "Rafael Uribe Uribe",
         "orientation": "v",
         "showlegend": true,
         "type": "scatter",
         "x": [
          "2012",
          "2013",
          "2014",
          "2015",
          "2016",
          "2017",
          "2018",
          "2019",
          "2020",
          "2021",
          "2022"
         ],
         "xaxis": "x",
         "y": [
          1,
          2,
          5,
          11,
          14,
          18,
          32,
          48,
          23,
          8,
          1
         ],
         "yaxis": "y"
        },
        {
         "hovertemplate": "Nombre_Localidad=Antonio Nariño<br>Year=%{x}<br>Property ID=%{y}<extra></extra>",
         "legendgroup": "Antonio Nariño",
         "line": {
          "color": "#6ece58",
          "dash": "solid"
         },
         "marker": {
          "symbol": "circle"
         },
         "mode": "lines",
         "name": "Antonio Nariño",
         "orientation": "v",
         "showlegend": true,
         "type": "scatter",
         "x": [
          "2014",
          "2015",
          "2016",
          "2017",
          "2018",
          "2019",
          "2020",
          "2021"
         ],
         "xaxis": "x",
         "y": [
          1,
          9,
          11,
          16,
          55,
          47,
          18,
          8
         ],
         "yaxis": "y"
        },
        {
         "hovertemplate": "Nombre_Localidad=Bosa<br>Year=%{x}<br>Property ID=%{y}<extra></extra>",
         "legendgroup": "Bosa",
         "line": {
          "color": "#b5de2b",
          "dash": "solid"
         },
         "marker": {
          "symbol": "circle"
         },
         "mode": "lines",
         "name": "Bosa",
         "orientation": "v",
         "showlegend": true,
         "type": "scatter",
         "x": [
          "2015",
          "2016",
          "2017",
          "2018",
          "2019",
          "2020",
          "2021"
         ],
         "xaxis": "x",
         "y": [
          9,
          5,
          12,
          52,
          46,
          26,
          7
         ],
         "yaxis": "y"
        }
       ],
       "layout": {
        "legend": {
         "title": {
          "text": "Nombre_Localidad"
         },
         "tracegroupgap": 0
        },
        "template": {
         "data": {
          "bar": [
           {
            "error_x": {
             "color": "rgb(36,36,36)"
            },
            "error_y": {
             "color": "rgb(36,36,36)"
            },
            "marker": {
             "line": {
              "color": "white",
              "width": 0.5
             },
             "pattern": {
              "fillmode": "overlay",
              "size": 10,
              "solidity": 0.2
             }
            },
            "type": "bar"
           }
          ],
          "barpolar": [
           {
            "marker": {
             "line": {
              "color": "white",
              "width": 0.5
             },
             "pattern": {
              "fillmode": "overlay",
              "size": 10,
              "solidity": 0.2
             }
            },
            "type": "barpolar"
           }
          ],
          "carpet": [
           {
            "aaxis": {
             "endlinecolor": "rgb(36,36,36)",
             "gridcolor": "white",
             "linecolor": "white",
             "minorgridcolor": "white",
             "startlinecolor": "rgb(36,36,36)"
            },
            "baxis": {
             "endlinecolor": "rgb(36,36,36)",
             "gridcolor": "white",
             "linecolor": "white",
             "minorgridcolor": "white",
             "startlinecolor": "rgb(36,36,36)"
            },
            "type": "carpet"
           }
          ],
          "choropleth": [
           {
            "colorbar": {
             "outlinewidth": 1,
             "tickcolor": "rgb(36,36,36)",
             "ticks": "outside"
            },
            "type": "choropleth"
           }
          ],
          "contour": [
           {
            "colorbar": {
             "outlinewidth": 1,
             "tickcolor": "rgb(36,36,36)",
             "ticks": "outside"
            },
            "colorscale": [
             [
              0,
              "#440154"
             ],
             [
              0.1111111111111111,
              "#482878"
             ],
             [
              0.2222222222222222,
              "#3e4989"
             ],
             [
              0.3333333333333333,
              "#31688e"
             ],
             [
              0.4444444444444444,
              "#26828e"
             ],
             [
              0.5555555555555556,
              "#1f9e89"
             ],
             [
              0.6666666666666666,
              "#35b779"
             ],
             [
              0.7777777777777778,
              "#6ece58"
             ],
             [
              0.8888888888888888,
              "#b5de2b"
             ],
             [
              1,
              "#fde725"
             ]
            ],
            "type": "contour"
           }
          ],
          "contourcarpet": [
           {
            "colorbar": {
             "outlinewidth": 1,
             "tickcolor": "rgb(36,36,36)",
             "ticks": "outside"
            },
            "type": "contourcarpet"
           }
          ],
          "heatmap": [
           {
            "colorbar": {
             "outlinewidth": 1,
             "tickcolor": "rgb(36,36,36)",
             "ticks": "outside"
            },
            "colorscale": [
             [
              0,
              "#440154"
             ],
             [
              0.1111111111111111,
              "#482878"
             ],
             [
              0.2222222222222222,
              "#3e4989"
             ],
             [
              0.3333333333333333,
              "#31688e"
             ],
             [
              0.4444444444444444,
              "#26828e"
             ],
             [
              0.5555555555555556,
              "#1f9e89"
             ],
             [
              0.6666666666666666,
              "#35b779"
             ],
             [
              0.7777777777777778,
              "#6ece58"
             ],
             [
              0.8888888888888888,
              "#b5de2b"
             ],
             [
              1,
              "#fde725"
             ]
            ],
            "type": "heatmap"
           }
          ],
          "heatmapgl": [
           {
            "colorbar": {
             "outlinewidth": 1,
             "tickcolor": "rgb(36,36,36)",
             "ticks": "outside"
            },
            "colorscale": [
             [
              0,
              "#440154"
             ],
             [
              0.1111111111111111,
              "#482878"
             ],
             [
              0.2222222222222222,
              "#3e4989"
             ],
             [
              0.3333333333333333,
              "#31688e"
             ],
             [
              0.4444444444444444,
              "#26828e"
             ],
             [
              0.5555555555555556,
              "#1f9e89"
             ],
             [
              0.6666666666666666,
              "#35b779"
             ],
             [
              0.7777777777777778,
              "#6ece58"
             ],
             [
              0.8888888888888888,
              "#b5de2b"
             ],
             [
              1,
              "#fde725"
             ]
            ],
            "type": "heatmapgl"
           }
          ],
          "histogram": [
           {
            "marker": {
             "line": {
              "color": "white",
              "width": 0.6
             }
            },
            "type": "histogram"
           }
          ],
          "histogram2d": [
           {
            "colorbar": {
             "outlinewidth": 1,
             "tickcolor": "rgb(36,36,36)",
             "ticks": "outside"
            },
            "colorscale": [
             [
              0,
              "#440154"
             ],
             [
              0.1111111111111111,
              "#482878"
             ],
             [
              0.2222222222222222,
              "#3e4989"
             ],
             [
              0.3333333333333333,
              "#31688e"
             ],
             [
              0.4444444444444444,
              "#26828e"
             ],
             [
              0.5555555555555556,
              "#1f9e89"
             ],
             [
              0.6666666666666666,
              "#35b779"
             ],
             [
              0.7777777777777778,
              "#6ece58"
             ],
             [
              0.8888888888888888,
              "#b5de2b"
             ],
             [
              1,
              "#fde725"
             ]
            ],
            "type": "histogram2d"
           }
          ],
          "histogram2dcontour": [
           {
            "colorbar": {
             "outlinewidth": 1,
             "tickcolor": "rgb(36,36,36)",
             "ticks": "outside"
            },
            "colorscale": [
             [
              0,
              "#440154"
             ],
             [
              0.1111111111111111,
              "#482878"
             ],
             [
              0.2222222222222222,
              "#3e4989"
             ],
             [
              0.3333333333333333,
              "#31688e"
             ],
             [
              0.4444444444444444,
              "#26828e"
             ],
             [
              0.5555555555555556,
              "#1f9e89"
             ],
             [
              0.6666666666666666,
              "#35b779"
             ],
             [
              0.7777777777777778,
              "#6ece58"
             ],
             [
              0.8888888888888888,
              "#b5de2b"
             ],
             [
              1,
              "#fde725"
             ]
            ],
            "type": "histogram2dcontour"
           }
          ],
          "mesh3d": [
           {
            "colorbar": {
             "outlinewidth": 1,
             "tickcolor": "rgb(36,36,36)",
             "ticks": "outside"
            },
            "type": "mesh3d"
           }
          ],
          "parcoords": [
           {
            "line": {
             "colorbar": {
              "outlinewidth": 1,
              "tickcolor": "rgb(36,36,36)",
              "ticks": "outside"
             }
            },
            "type": "parcoords"
           }
          ],
          "pie": [
           {
            "automargin": true,
            "type": "pie"
           }
          ],
          "scatter": [
           {
            "fillpattern": {
             "fillmode": "overlay",
             "size": 10,
             "solidity": 0.2
            },
            "type": "scatter"
           }
          ],
          "scatter3d": [
           {
            "line": {
             "colorbar": {
              "outlinewidth": 1,
              "tickcolor": "rgb(36,36,36)",
              "ticks": "outside"
             }
            },
            "marker": {
             "colorbar": {
              "outlinewidth": 1,
              "tickcolor": "rgb(36,36,36)",
              "ticks": "outside"
             }
            },
            "type": "scatter3d"
           }
          ],
          "scattercarpet": [
           {
            "marker": {
             "colorbar": {
              "outlinewidth": 1,
              "tickcolor": "rgb(36,36,36)",
              "ticks": "outside"
             }
            },
            "type": "scattercarpet"
           }
          ],
          "scattergeo": [
           {
            "marker": {
             "colorbar": {
              "outlinewidth": 1,
              "tickcolor": "rgb(36,36,36)",
              "ticks": "outside"
             }
            },
            "type": "scattergeo"
           }
          ],
          "scattergl": [
           {
            "marker": {
             "colorbar": {
              "outlinewidth": 1,
              "tickcolor": "rgb(36,36,36)",
              "ticks": "outside"
             }
            },
            "type": "scattergl"
           }
          ],
          "scattermapbox": [
           {
            "marker": {
             "colorbar": {
              "outlinewidth": 1,
              "tickcolor": "rgb(36,36,36)",
              "ticks": "outside"
             }
            },
            "type": "scattermapbox"
           }
          ],
          "scatterpolar": [
           {
            "marker": {
             "colorbar": {
              "outlinewidth": 1,
              "tickcolor": "rgb(36,36,36)",
              "ticks": "outside"
             }
            },
            "type": "scatterpolar"
           }
          ],
          "scatterpolargl": [
           {
            "marker": {
             "colorbar": {
              "outlinewidth": 1,
              "tickcolor": "rgb(36,36,36)",
              "ticks": "outside"
             }
            },
            "type": "scatterpolargl"
           }
          ],
          "scatterternary": [
           {
            "marker": {
             "colorbar": {
              "outlinewidth": 1,
              "tickcolor": "rgb(36,36,36)",
              "ticks": "outside"
             }
            },
            "type": "scatterternary"
           }
          ],
          "surface": [
           {
            "colorbar": {
             "outlinewidth": 1,
             "tickcolor": "rgb(36,36,36)",
             "ticks": "outside"
            },
            "colorscale": [
             [
              0,
              "#440154"
             ],
             [
              0.1111111111111111,
              "#482878"
             ],
             [
              0.2222222222222222,
              "#3e4989"
             ],
             [
              0.3333333333333333,
              "#31688e"
             ],
             [
              0.4444444444444444,
              "#26828e"
             ],
             [
              0.5555555555555556,
              "#1f9e89"
             ],
             [
              0.6666666666666666,
              "#35b779"
             ],
             [
              0.7777777777777778,
              "#6ece58"
             ],
             [
              0.8888888888888888,
              "#b5de2b"
             ],
             [
              1,
              "#fde725"
             ]
            ],
            "type": "surface"
           }
          ],
          "table": [
           {
            "cells": {
             "fill": {
              "color": "rgb(237,237,237)"
             },
             "line": {
              "color": "white"
             }
            },
            "header": {
             "fill": {
              "color": "rgb(217,217,217)"
             },
             "line": {
              "color": "white"
             }
            },
            "type": "table"
           }
          ]
         },
         "layout": {
          "annotationdefaults": {
           "arrowhead": 0,
           "arrowwidth": 1
          },
          "autotypenumbers": "strict",
          "coloraxis": {
           "colorbar": {
            "outlinewidth": 1,
            "tickcolor": "rgb(36,36,36)",
            "ticks": "outside"
           }
          },
          "colorscale": {
           "diverging": [
            [
             0,
             "rgb(103,0,31)"
            ],
            [
             0.1,
             "rgb(178,24,43)"
            ],
            [
             0.2,
             "rgb(214,96,77)"
            ],
            [
             0.3,
             "rgb(244,165,130)"
            ],
            [
             0.4,
             "rgb(253,219,199)"
            ],
            [
             0.5,
             "rgb(247,247,247)"
            ],
            [
             0.6,
             "rgb(209,229,240)"
            ],
            [
             0.7,
             "rgb(146,197,222)"
            ],
            [
             0.8,
             "rgb(67,147,195)"
            ],
            [
             0.9,
             "rgb(33,102,172)"
            ],
            [
             1,
             "rgb(5,48,97)"
            ]
           ],
           "sequential": [
            [
             0,
             "#440154"
            ],
            [
             0.1111111111111111,
             "#482878"
            ],
            [
             0.2222222222222222,
             "#3e4989"
            ],
            [
             0.3333333333333333,
             "#31688e"
            ],
            [
             0.4444444444444444,
             "#26828e"
            ],
            [
             0.5555555555555556,
             "#1f9e89"
            ],
            [
             0.6666666666666666,
             "#35b779"
            ],
            [
             0.7777777777777778,
             "#6ece58"
            ],
            [
             0.8888888888888888,
             "#b5de2b"
            ],
            [
             1,
             "#fde725"
            ]
           ],
           "sequentialminus": [
            [
             0,
             "#440154"
            ],
            [
             0.1111111111111111,
             "#482878"
            ],
            [
             0.2222222222222222,
             "#3e4989"
            ],
            [
             0.3333333333333333,
             "#31688e"
            ],
            [
             0.4444444444444444,
             "#26828e"
            ],
            [
             0.5555555555555556,
             "#1f9e89"
            ],
            [
             0.6666666666666666,
             "#35b779"
            ],
            [
             0.7777777777777778,
             "#6ece58"
            ],
            [
             0.8888888888888888,
             "#b5de2b"
            ],
            [
             1,
             "#fde725"
            ]
           ]
          },
          "colorway": [
           "#1F77B4",
           "#FF7F0E",
           "#2CA02C",
           "#D62728",
           "#9467BD",
           "#8C564B",
           "#E377C2",
           "#7F7F7F",
           "#BCBD22",
           "#17BECF"
          ],
          "font": {
           "color": "rgb(36,36,36)"
          },
          "geo": {
           "bgcolor": "white",
           "lakecolor": "white",
           "landcolor": "white",
           "showlakes": true,
           "showland": true,
           "subunitcolor": "white"
          },
          "hoverlabel": {
           "align": "left"
          },
          "hovermode": "closest",
          "mapbox": {
           "style": "light"
          },
          "paper_bgcolor": "white",
          "plot_bgcolor": "white",
          "polar": {
           "angularaxis": {
            "gridcolor": "rgb(232,232,232)",
            "linecolor": "rgb(36,36,36)",
            "showgrid": false,
            "showline": true,
            "ticks": "outside"
           },
           "bgcolor": "white",
           "radialaxis": {
            "gridcolor": "rgb(232,232,232)",
            "linecolor": "rgb(36,36,36)",
            "showgrid": false,
            "showline": true,
            "ticks": "outside"
           }
          },
          "scene": {
           "xaxis": {
            "backgroundcolor": "white",
            "gridcolor": "rgb(232,232,232)",
            "gridwidth": 2,
            "linecolor": "rgb(36,36,36)",
            "showbackground": true,
            "showgrid": false,
            "showline": true,
            "ticks": "outside",
            "zeroline": false,
            "zerolinecolor": "rgb(36,36,36)"
           },
           "yaxis": {
            "backgroundcolor": "white",
            "gridcolor": "rgb(232,232,232)",
            "gridwidth": 2,
            "linecolor": "rgb(36,36,36)",
            "showbackground": true,
            "showgrid": false,
            "showline": true,
            "ticks": "outside",
            "zeroline": false,
            "zerolinecolor": "rgb(36,36,36)"
           },
           "zaxis": {
            "backgroundcolor": "white",
            "gridcolor": "rgb(232,232,232)",
            "gridwidth": 2,
            "linecolor": "rgb(36,36,36)",
            "showbackground": true,
            "showgrid": false,
            "showline": true,
            "ticks": "outside",
            "zeroline": false,
            "zerolinecolor": "rgb(36,36,36)"
           }
          },
          "shapedefaults": {
           "fillcolor": "black",
           "line": {
            "width": 0
           },
           "opacity": 0.3
          },
          "ternary": {
           "aaxis": {
            "gridcolor": "rgb(232,232,232)",
            "linecolor": "rgb(36,36,36)",
            "showgrid": false,
            "showline": true,
            "ticks": "outside"
           },
           "baxis": {
            "gridcolor": "rgb(232,232,232)",
            "linecolor": "rgb(36,36,36)",
            "showgrid": false,
            "showline": true,
            "ticks": "outside"
           },
           "bgcolor": "white",
           "caxis": {
            "gridcolor": "rgb(232,232,232)",
            "linecolor": "rgb(36,36,36)",
            "showgrid": false,
            "showline": true,
            "ticks": "outside"
           }
          },
          "title": {
           "x": 0.05
          },
          "xaxis": {
           "automargin": true,
           "gridcolor": "rgb(232,232,232)",
           "linecolor": "rgb(36,36,36)",
           "showgrid": false,
           "showline": true,
           "ticks": "outside",
           "title": {
            "standoff": 15
           },
           "zeroline": false,
           "zerolinecolor": "rgb(36,36,36)"
          },
          "yaxis": {
           "automargin": true,
           "gridcolor": "rgb(232,232,232)",
           "linecolor": "rgb(36,36,36)",
           "showgrid": false,
           "showline": true,
           "ticks": "outside",
           "title": {
            "standoff": 15
           },
           "zeroline": false,
           "zerolinecolor": "rgb(36,36,36)"
          }
         }
        },
        "title": {
         "text": "<b>Apertura de Establecimientos por año<b>",
         "x": 0.5
        },
        "xaxis": {
         "anchor": "y",
         "domain": [
          0,
          1
         ],
         "title": {
          "text": "Año"
         }
        },
        "yaxis": {
         "anchor": "x",
         "domain": [
          0,
          1
         ],
         "title": {
          "text": "# Establecimientos"
         }
        }
       }
      },
      "text/html": [
       "<div>                            <div id=\"7fea1521-1a0b-4a7c-af24-338a10ae1c34\" class=\"plotly-graph-div\" style=\"height:525px; width:100%;\"></div>            <script type=\"text/javascript\">                require([\"plotly\"], function(Plotly) {                    window.PLOTLYENV=window.PLOTLYENV || {};                                    if (document.getElementById(\"7fea1521-1a0b-4a7c-af24-338a10ae1c34\")) {                    Plotly.newPlot(                        \"7fea1521-1a0b-4a7c-af24-338a10ae1c34\",                        [{\"hovertemplate\":\"Nombre_Localidad=Fontib\\u00f3n<br>Year=%{x}<br>Property ID=%{y}<extra></extra>\",\"legendgroup\":\"Fontib\\u00f3n\",\"line\":{\"color\":\"#440154\",\"dash\":\"solid\"},\"marker\":{\"symbol\":\"circle\"},\"mode\":\"lines\",\"name\":\"Fontib\\u00f3n\",\"orientation\":\"v\",\"showlegend\":true,\"x\":[\"2009\",\"2011\",\"2012\",\"2013\",\"2014\",\"2015\",\"2016\",\"2017\",\"2018\",\"2019\",\"2020\",\"2021\",\"2022\"],\"xaxis\":\"x\",\"y\":[1,4,7,13,30,88,239,355,505,516,251,191,28],\"yaxis\":\"y\",\"type\":\"scatter\"},{\"hovertemplate\":\"Nombre_Localidad=Los M\\u00e1rtires<br>Year=%{x}<br>Property ID=%{y}<extra></extra>\",\"legendgroup\":\"Los M\\u00e1rtires\",\"line\":{\"color\":\"#482878\",\"dash\":\"solid\"},\"marker\":{\"symbol\":\"circle\"},\"mode\":\"lines\",\"name\":\"Los M\\u00e1rtires\",\"orientation\":\"v\",\"showlegend\":true,\"x\":[\"2009\",\"2010\",\"2012\",\"2014\",\"2015\",\"2016\",\"2017\",\"2018\",\"2019\",\"2020\",\"2021\",\"2022\"],\"xaxis\":\"x\",\"y\":[1,1,1,6,13,25,67,118,125,69,50,7],\"yaxis\":\"y\",\"type\":\"scatter\"},{\"hovertemplate\":\"Nombre_Localidad=Chapinero<br>Year=%{x}<br>Property ID=%{y}<extra></extra>\",\"legendgroup\":\"Chapinero\",\"line\":{\"color\":\"#3e4989\",\"dash\":\"solid\"},\"marker\":{\"symbol\":\"circle\"},\"mode\":\"lines\",\"name\":\"Chapinero\",\"orientation\":\"v\",\"showlegend\":true,\"x\":[\"2010\",\"2011\",\"2012\",\"2013\",\"2014\",\"2015\",\"2016\",\"2017\",\"2018\",\"2019\",\"2020\",\"2021\",\"2022\"],\"xaxis\":\"x\",\"y\":[5,26,67,122,320,880,1617,1690,1860,1845,1180,1363,211],\"yaxis\":\"y\",\"type\":\"scatter\"},{\"hovertemplate\":\"Nombre_Localidad=Santa Fe<br>Year=%{x}<br>Property ID=%{y}<extra></extra>\",\"legendgroup\":\"Santa Fe\",\"line\":{\"color\":\"#31688e\",\"dash\":\"solid\"},\"marker\":{\"symbol\":\"circle\"},\"mode\":\"lines\",\"name\":\"Santa Fe\",\"orientation\":\"v\",\"showlegend\":true,\"x\":[\"2010\",\"2011\",\"2012\",\"2013\",\"2014\",\"2015\",\"2016\",\"2017\",\"2018\",\"2019\",\"2020\",\"2021\",\"2022\"],\"xaxis\":\"x\",\"y\":[1,7,10,31,88,191,299,427,588,552,259,356,44],\"yaxis\":\"y\",\"type\":\"scatter\"},{\"hovertemplate\":\"Nombre_Localidad=Engativ\\u00e1<br>Year=%{x}<br>Property ID=%{y}<extra></extra>\",\"legendgroup\":\"Engativ\\u00e1\",\"line\":{\"color\":\"#26828e\",\"dash\":\"solid\"},\"marker\":{\"symbol\":\"circle\"},\"mode\":\"lines\",\"name\":\"Engativ\\u00e1\",\"orientation\":\"v\",\"showlegend\":true,\"x\":[\"2010\",\"2011\",\"2012\",\"2013\",\"2014\",\"2015\",\"2016\",\"2017\",\"2018\",\"2019\",\"2020\",\"2021\",\"2022\"],\"xaxis\":\"x\",\"y\":[1,3,14,12,22,81,244,348,689,706,392,274,28],\"yaxis\":\"y\",\"type\":\"scatter\"},{\"hovertemplate\":\"Nombre_Localidad=La Candelaria<br>Year=%{x}<br>Property ID=%{y}<extra></extra>\",\"legendgroup\":\"La Candelaria\",\"line\":{\"color\":\"#1f9e89\",\"dash\":\"solid\"},\"marker\":{\"symbol\":\"circle\"},\"mode\":\"lines\",\"name\":\"La Candelaria\",\"orientation\":\"v\",\"showlegend\":true,\"x\":[\"2010\",\"2011\",\"2012\",\"2013\",\"2014\",\"2015\",\"2016\",\"2017\",\"2018\",\"2019\",\"2020\",\"2021\",\"2022\"],\"xaxis\":\"x\",\"y\":[1,7,20,23,40,95,153,219,221,309,133,128,26],\"yaxis\":\"y\",\"type\":\"scatter\"},{\"hovertemplate\":\"Nombre_Localidad=San Cristobal<br>Year=%{x}<br>Property ID=%{y}<extra></extra>\",\"legendgroup\":\"San Cristobal\",\"line\":{\"color\":\"#35b779\",\"dash\":\"solid\"},\"marker\":{\"symbol\":\"circle\"},\"mode\":\"lines\",\"name\":\"San Cristobal\",\"orientation\":\"v\",\"showlegend\":true,\"x\":[\"2011\",\"2012\",\"2013\",\"2014\",\"2015\",\"2016\",\"2017\",\"2018\",\"2019\",\"2020\",\"2021\",\"2022\"],\"xaxis\":\"x\",\"y\":[1,1,1,1,4,15,16,65,72,30,25,2],\"yaxis\":\"y\",\"type\":\"scatter\"},{\"hovertemplate\":\"Nombre_Localidad=Tunjuelito<br>Year=%{x}<br>Property ID=%{y}<extra></extra>\",\"legendgroup\":\"Tunjuelito\",\"line\":{\"color\":\"#6ece58\",\"dash\":\"solid\"},\"marker\":{\"symbol\":\"circle\"},\"mode\":\"lines\",\"name\":\"Tunjuelito\",\"orientation\":\"v\",\"showlegend\":true,\"x\":[\"2011\",\"2012\",\"2013\",\"2014\",\"2015\",\"2016\",\"2017\",\"2018\",\"2019\",\"2020\",\"2021\",\"2022\"],\"xaxis\":\"x\",\"y\":[1,1,1,1,1,5,11,17,26,20,15,1],\"yaxis\":\"y\",\"type\":\"scatter\"},{\"hovertemplate\":\"Nombre_Localidad=Teusaquillo<br>Year=%{x}<br>Property ID=%{y}<extra></extra>\",\"legendgroup\":\"Teusaquillo\",\"line\":{\"color\":\"#b5de2b\",\"dash\":\"solid\"},\"marker\":{\"symbol\":\"circle\"},\"mode\":\"lines\",\"name\":\"Teusaquillo\",\"orientation\":\"v\",\"showlegend\":true,\"x\":[\"2011\",\"2012\",\"2013\",\"2014\",\"2015\",\"2016\",\"2017\",\"2018\",\"2019\",\"2020\",\"2021\",\"2022\"],\"xaxis\":\"x\",\"y\":[16,22,30,98,332,644,832,1099,1121,992,1247,192],\"yaxis\":\"y\",\"type\":\"scatter\"},{\"hovertemplate\":\"Nombre_Localidad=Kennedy<br>Year=%{x}<br>Property ID=%{y}<extra></extra>\",\"legendgroup\":\"Kennedy\",\"line\":{\"color\":\"#fde725\",\"dash\":\"solid\"},\"marker\":{\"symbol\":\"circle\"},\"mode\":\"lines\",\"name\":\"Kennedy\",\"orientation\":\"v\",\"showlegend\":true,\"x\":[\"2011\",\"2012\",\"2013\",\"2014\",\"2015\",\"2016\",\"2017\",\"2018\",\"2019\",\"2020\",\"2021\",\"2022\"],\"xaxis\":\"x\",\"y\":[3,5,4,13,49,113,212,438,367,157,112,13],\"yaxis\":\"y\",\"type\":\"scatter\"},{\"hovertemplate\":\"Nombre_Localidad=Ciudad Bolivar<br>Year=%{x}<br>Property ID=%{y}<extra></extra>\",\"legendgroup\":\"Ciudad Bolivar\",\"line\":{\"color\":\"#440154\",\"dash\":\"solid\"},\"marker\":{\"symbol\":\"circle\"},\"mode\":\"lines\",\"name\":\"Ciudad Bolivar\",\"orientation\":\"v\",\"showlegend\":true,\"x\":[\"2011\",\"2013\",\"2014\",\"2015\",\"2016\",\"2017\",\"2018\",\"2019\",\"2020\",\"2021\",\"2022\"],\"xaxis\":\"x\",\"y\":[1,2,4,8,10,21,51,58,17,5,2],\"yaxis\":\"y\",\"type\":\"scatter\"},{\"hovertemplate\":\"Nombre_Localidad=Usme<br>Year=%{x}<br>Property ID=%{y}<extra></extra>\",\"legendgroup\":\"Usme\",\"line\":{\"color\":\"#482878\",\"dash\":\"solid\"},\"marker\":{\"symbol\":\"circle\"},\"mode\":\"lines\",\"name\":\"Usme\",\"orientation\":\"v\",\"showlegend\":true,\"x\":[\"2011\",\"2012\",\"2015\",\"2016\",\"2017\",\"2018\",\"2019\",\"2020\",\"2022\"],\"xaxis\":\"x\",\"y\":[1,3,4,4,6,19,12,5,3],\"yaxis\":\"y\",\"type\":\"scatter\"},{\"hovertemplate\":\"Nombre_Localidad=Suba<br>Year=%{x}<br>Property ID=%{y}<extra></extra>\",\"legendgroup\":\"Suba\",\"line\":{\"color\":\"#3e4989\",\"dash\":\"solid\"},\"marker\":{\"symbol\":\"circle\"},\"mode\":\"lines\",\"name\":\"Suba\",\"orientation\":\"v\",\"showlegend\":true,\"x\":[\"2011\",\"2012\",\"2013\",\"2014\",\"2015\",\"2016\",\"2017\",\"2018\",\"2019\",\"2020\",\"2021\",\"2022\"],\"xaxis\":\"x\",\"y\":[20,20,43,66,350,755,934,1454,1334,595,476,39],\"yaxis\":\"y\",\"type\":\"scatter\"},{\"hovertemplate\":\"Nombre_Localidad=Puente Aranda<br>Year=%{x}<br>Property ID=%{y}<extra></extra>\",\"legendgroup\":\"Puente Aranda\",\"line\":{\"color\":\"#31688e\",\"dash\":\"solid\"},\"marker\":{\"symbol\":\"circle\"},\"mode\":\"lines\",\"name\":\"Puente Aranda\",\"orientation\":\"v\",\"showlegend\":true,\"x\":[\"2011\",\"2012\",\"2013\",\"2014\",\"2015\",\"2016\",\"2017\",\"2018\",\"2019\",\"2020\",\"2021\",\"2022\"],\"xaxis\":\"x\",\"y\":[1,5,4,5,16,58,57,144,125,79,56,3],\"yaxis\":\"y\",\"type\":\"scatter\"},{\"hovertemplate\":\"Nombre_Localidad=Barrios Unidos<br>Year=%{x}<br>Property ID=%{y}<extra></extra>\",\"legendgroup\":\"Barrios Unidos\",\"line\":{\"color\":\"#26828e\",\"dash\":\"solid\"},\"marker\":{\"symbol\":\"circle\"},\"mode\":\"lines\",\"name\":\"Barrios Unidos\",\"orientation\":\"v\",\"showlegend\":true,\"x\":[\"2011\",\"2012\",\"2013\",\"2014\",\"2015\",\"2016\",\"2017\",\"2018\",\"2019\",\"2020\",\"2021\",\"2022\"],\"xaxis\":\"x\",\"y\":[1,6,9,40,89,215,281,416,518,263,348,20],\"yaxis\":\"y\",\"type\":\"scatter\"},{\"hovertemplate\":\"Nombre_Localidad=Usaqu\\u00e9n<br>Year=%{x}<br>Property ID=%{y}<extra></extra>\",\"legendgroup\":\"Usaqu\\u00e9n\",\"line\":{\"color\":\"#1f9e89\",\"dash\":\"solid\"},\"marker\":{\"symbol\":\"circle\"},\"mode\":\"lines\",\"name\":\"Usaqu\\u00e9n\",\"orientation\":\"v\",\"showlegend\":true,\"x\":[\"2011\",\"2012\",\"2013\",\"2014\",\"2015\",\"2016\",\"2017\",\"2018\",\"2019\",\"2020\",\"2021\",\"2022\"],\"xaxis\":\"x\",\"y\":[26,41,60,191,675,1186,1539,1796,1725,900,863,95],\"yaxis\":\"y\",\"type\":\"scatter\"},{\"hovertemplate\":\"Nombre_Localidad=Rafael Uribe Uribe<br>Year=%{x}<br>Property ID=%{y}<extra></extra>\",\"legendgroup\":\"Rafael Uribe Uribe\",\"line\":{\"color\":\"#35b779\",\"dash\":\"solid\"},\"marker\":{\"symbol\":\"circle\"},\"mode\":\"lines\",\"name\":\"Rafael Uribe Uribe\",\"orientation\":\"v\",\"showlegend\":true,\"x\":[\"2012\",\"2013\",\"2014\",\"2015\",\"2016\",\"2017\",\"2018\",\"2019\",\"2020\",\"2021\",\"2022\"],\"xaxis\":\"x\",\"y\":[1,2,5,11,14,18,32,48,23,8,1],\"yaxis\":\"y\",\"type\":\"scatter\"},{\"hovertemplate\":\"Nombre_Localidad=Antonio Nari\\u00f1o<br>Year=%{x}<br>Property ID=%{y}<extra></extra>\",\"legendgroup\":\"Antonio Nari\\u00f1o\",\"line\":{\"color\":\"#6ece58\",\"dash\":\"solid\"},\"marker\":{\"symbol\":\"circle\"},\"mode\":\"lines\",\"name\":\"Antonio Nari\\u00f1o\",\"orientation\":\"v\",\"showlegend\":true,\"x\":[\"2014\",\"2015\",\"2016\",\"2017\",\"2018\",\"2019\",\"2020\",\"2021\"],\"xaxis\":\"x\",\"y\":[1,9,11,16,55,47,18,8],\"yaxis\":\"y\",\"type\":\"scatter\"},{\"hovertemplate\":\"Nombre_Localidad=Bosa<br>Year=%{x}<br>Property ID=%{y}<extra></extra>\",\"legendgroup\":\"Bosa\",\"line\":{\"color\":\"#b5de2b\",\"dash\":\"solid\"},\"marker\":{\"symbol\":\"circle\"},\"mode\":\"lines\",\"name\":\"Bosa\",\"orientation\":\"v\",\"showlegend\":true,\"x\":[\"2015\",\"2016\",\"2017\",\"2018\",\"2019\",\"2020\",\"2021\"],\"xaxis\":\"x\",\"y\":[9,5,12,52,46,26,7],\"yaxis\":\"y\",\"type\":\"scatter\"}],                        {\"template\":{\"data\":{\"barpolar\":[{\"marker\":{\"line\":{\"color\":\"white\",\"width\":0.5},\"pattern\":{\"fillmode\":\"overlay\",\"size\":10,\"solidity\":0.2}},\"type\":\"barpolar\"}],\"bar\":[{\"error_x\":{\"color\":\"rgb(36,36,36)\"},\"error_y\":{\"color\":\"rgb(36,36,36)\"},\"marker\":{\"line\":{\"color\":\"white\",\"width\":0.5},\"pattern\":{\"fillmode\":\"overlay\",\"size\":10,\"solidity\":0.2}},\"type\":\"bar\"}],\"carpet\":[{\"aaxis\":{\"endlinecolor\":\"rgb(36,36,36)\",\"gridcolor\":\"white\",\"linecolor\":\"white\",\"minorgridcolor\":\"white\",\"startlinecolor\":\"rgb(36,36,36)\"},\"baxis\":{\"endlinecolor\":\"rgb(36,36,36)\",\"gridcolor\":\"white\",\"linecolor\":\"white\",\"minorgridcolor\":\"white\",\"startlinecolor\":\"rgb(36,36,36)\"},\"type\":\"carpet\"}],\"choropleth\":[{\"colorbar\":{\"outlinewidth\":1,\"tickcolor\":\"rgb(36,36,36)\",\"ticks\":\"outside\"},\"type\":\"choropleth\"}],\"contourcarpet\":[{\"colorbar\":{\"outlinewidth\":1,\"tickcolor\":\"rgb(36,36,36)\",\"ticks\":\"outside\"},\"type\":\"contourcarpet\"}],\"contour\":[{\"colorbar\":{\"outlinewidth\":1,\"tickcolor\":\"rgb(36,36,36)\",\"ticks\":\"outside\"},\"colorscale\":[[0.0,\"#440154\"],[0.1111111111111111,\"#482878\"],[0.2222222222222222,\"#3e4989\"],[0.3333333333333333,\"#31688e\"],[0.4444444444444444,\"#26828e\"],[0.5555555555555556,\"#1f9e89\"],[0.6666666666666666,\"#35b779\"],[0.7777777777777778,\"#6ece58\"],[0.8888888888888888,\"#b5de2b\"],[1.0,\"#fde725\"]],\"type\":\"contour\"}],\"heatmapgl\":[{\"colorbar\":{\"outlinewidth\":1,\"tickcolor\":\"rgb(36,36,36)\",\"ticks\":\"outside\"},\"colorscale\":[[0.0,\"#440154\"],[0.1111111111111111,\"#482878\"],[0.2222222222222222,\"#3e4989\"],[0.3333333333333333,\"#31688e\"],[0.4444444444444444,\"#26828e\"],[0.5555555555555556,\"#1f9e89\"],[0.6666666666666666,\"#35b779\"],[0.7777777777777778,\"#6ece58\"],[0.8888888888888888,\"#b5de2b\"],[1.0,\"#fde725\"]],\"type\":\"heatmapgl\"}],\"heatmap\":[{\"colorbar\":{\"outlinewidth\":1,\"tickcolor\":\"rgb(36,36,36)\",\"ticks\":\"outside\"},\"colorscale\":[[0.0,\"#440154\"],[0.1111111111111111,\"#482878\"],[0.2222222222222222,\"#3e4989\"],[0.3333333333333333,\"#31688e\"],[0.4444444444444444,\"#26828e\"],[0.5555555555555556,\"#1f9e89\"],[0.6666666666666666,\"#35b779\"],[0.7777777777777778,\"#6ece58\"],[0.8888888888888888,\"#b5de2b\"],[1.0,\"#fde725\"]],\"type\":\"heatmap\"}],\"histogram2dcontour\":[{\"colorbar\":{\"outlinewidth\":1,\"tickcolor\":\"rgb(36,36,36)\",\"ticks\":\"outside\"},\"colorscale\":[[0.0,\"#440154\"],[0.1111111111111111,\"#482878\"],[0.2222222222222222,\"#3e4989\"],[0.3333333333333333,\"#31688e\"],[0.4444444444444444,\"#26828e\"],[0.5555555555555556,\"#1f9e89\"],[0.6666666666666666,\"#35b779\"],[0.7777777777777778,\"#6ece58\"],[0.8888888888888888,\"#b5de2b\"],[1.0,\"#fde725\"]],\"type\":\"histogram2dcontour\"}],\"histogram2d\":[{\"colorbar\":{\"outlinewidth\":1,\"tickcolor\":\"rgb(36,36,36)\",\"ticks\":\"outside\"},\"colorscale\":[[0.0,\"#440154\"],[0.1111111111111111,\"#482878\"],[0.2222222222222222,\"#3e4989\"],[0.3333333333333333,\"#31688e\"],[0.4444444444444444,\"#26828e\"],[0.5555555555555556,\"#1f9e89\"],[0.6666666666666666,\"#35b779\"],[0.7777777777777778,\"#6ece58\"],[0.8888888888888888,\"#b5de2b\"],[1.0,\"#fde725\"]],\"type\":\"histogram2d\"}],\"histogram\":[{\"marker\":{\"line\":{\"color\":\"white\",\"width\":0.6}},\"type\":\"histogram\"}],\"mesh3d\":[{\"colorbar\":{\"outlinewidth\":1,\"tickcolor\":\"rgb(36,36,36)\",\"ticks\":\"outside\"},\"type\":\"mesh3d\"}],\"parcoords\":[{\"line\":{\"colorbar\":{\"outlinewidth\":1,\"tickcolor\":\"rgb(36,36,36)\",\"ticks\":\"outside\"}},\"type\":\"parcoords\"}],\"pie\":[{\"automargin\":true,\"type\":\"pie\"}],\"scatter3d\":[{\"line\":{\"colorbar\":{\"outlinewidth\":1,\"tickcolor\":\"rgb(36,36,36)\",\"ticks\":\"outside\"}},\"marker\":{\"colorbar\":{\"outlinewidth\":1,\"tickcolor\":\"rgb(36,36,36)\",\"ticks\":\"outside\"}},\"type\":\"scatter3d\"}],\"scattercarpet\":[{\"marker\":{\"colorbar\":{\"outlinewidth\":1,\"tickcolor\":\"rgb(36,36,36)\",\"ticks\":\"outside\"}},\"type\":\"scattercarpet\"}],\"scattergeo\":[{\"marker\":{\"colorbar\":{\"outlinewidth\":1,\"tickcolor\":\"rgb(36,36,36)\",\"ticks\":\"outside\"}},\"type\":\"scattergeo\"}],\"scattergl\":[{\"marker\":{\"colorbar\":{\"outlinewidth\":1,\"tickcolor\":\"rgb(36,36,36)\",\"ticks\":\"outside\"}},\"type\":\"scattergl\"}],\"scattermapbox\":[{\"marker\":{\"colorbar\":{\"outlinewidth\":1,\"tickcolor\":\"rgb(36,36,36)\",\"ticks\":\"outside\"}},\"type\":\"scattermapbox\"}],\"scatterpolargl\":[{\"marker\":{\"colorbar\":{\"outlinewidth\":1,\"tickcolor\":\"rgb(36,36,36)\",\"ticks\":\"outside\"}},\"type\":\"scatterpolargl\"}],\"scatterpolar\":[{\"marker\":{\"colorbar\":{\"outlinewidth\":1,\"tickcolor\":\"rgb(36,36,36)\",\"ticks\":\"outside\"}},\"type\":\"scatterpolar\"}],\"scatter\":[{\"fillpattern\":{\"fillmode\":\"overlay\",\"size\":10,\"solidity\":0.2},\"type\":\"scatter\"}],\"scatterternary\":[{\"marker\":{\"colorbar\":{\"outlinewidth\":1,\"tickcolor\":\"rgb(36,36,36)\",\"ticks\":\"outside\"}},\"type\":\"scatterternary\"}],\"surface\":[{\"colorbar\":{\"outlinewidth\":1,\"tickcolor\":\"rgb(36,36,36)\",\"ticks\":\"outside\"},\"colorscale\":[[0.0,\"#440154\"],[0.1111111111111111,\"#482878\"],[0.2222222222222222,\"#3e4989\"],[0.3333333333333333,\"#31688e\"],[0.4444444444444444,\"#26828e\"],[0.5555555555555556,\"#1f9e89\"],[0.6666666666666666,\"#35b779\"],[0.7777777777777778,\"#6ece58\"],[0.8888888888888888,\"#b5de2b\"],[1.0,\"#fde725\"]],\"type\":\"surface\"}],\"table\":[{\"cells\":{\"fill\":{\"color\":\"rgb(237,237,237)\"},\"line\":{\"color\":\"white\"}},\"header\":{\"fill\":{\"color\":\"rgb(217,217,217)\"},\"line\":{\"color\":\"white\"}},\"type\":\"table\"}]},\"layout\":{\"annotationdefaults\":{\"arrowhead\":0,\"arrowwidth\":1},\"autotypenumbers\":\"strict\",\"coloraxis\":{\"colorbar\":{\"outlinewidth\":1,\"tickcolor\":\"rgb(36,36,36)\",\"ticks\":\"outside\"}},\"colorscale\":{\"diverging\":[[0.0,\"rgb(103,0,31)\"],[0.1,\"rgb(178,24,43)\"],[0.2,\"rgb(214,96,77)\"],[0.3,\"rgb(244,165,130)\"],[0.4,\"rgb(253,219,199)\"],[0.5,\"rgb(247,247,247)\"],[0.6,\"rgb(209,229,240)\"],[0.7,\"rgb(146,197,222)\"],[0.8,\"rgb(67,147,195)\"],[0.9,\"rgb(33,102,172)\"],[1.0,\"rgb(5,48,97)\"]],\"sequential\":[[0.0,\"#440154\"],[0.1111111111111111,\"#482878\"],[0.2222222222222222,\"#3e4989\"],[0.3333333333333333,\"#31688e\"],[0.4444444444444444,\"#26828e\"],[0.5555555555555556,\"#1f9e89\"],[0.6666666666666666,\"#35b779\"],[0.7777777777777778,\"#6ece58\"],[0.8888888888888888,\"#b5de2b\"],[1.0,\"#fde725\"]],\"sequentialminus\":[[0.0,\"#440154\"],[0.1111111111111111,\"#482878\"],[0.2222222222222222,\"#3e4989\"],[0.3333333333333333,\"#31688e\"],[0.4444444444444444,\"#26828e\"],[0.5555555555555556,\"#1f9e89\"],[0.6666666666666666,\"#35b779\"],[0.7777777777777778,\"#6ece58\"],[0.8888888888888888,\"#b5de2b\"],[1.0,\"#fde725\"]]},\"colorway\":[\"#1F77B4\",\"#FF7F0E\",\"#2CA02C\",\"#D62728\",\"#9467BD\",\"#8C564B\",\"#E377C2\",\"#7F7F7F\",\"#BCBD22\",\"#17BECF\"],\"font\":{\"color\":\"rgb(36,36,36)\"},\"geo\":{\"bgcolor\":\"white\",\"lakecolor\":\"white\",\"landcolor\":\"white\",\"showlakes\":true,\"showland\":true,\"subunitcolor\":\"white\"},\"hoverlabel\":{\"align\":\"left\"},\"hovermode\":\"closest\",\"mapbox\":{\"style\":\"light\"},\"paper_bgcolor\":\"white\",\"plot_bgcolor\":\"white\",\"polar\":{\"angularaxis\":{\"gridcolor\":\"rgb(232,232,232)\",\"linecolor\":\"rgb(36,36,36)\",\"showgrid\":false,\"showline\":true,\"ticks\":\"outside\"},\"bgcolor\":\"white\",\"radialaxis\":{\"gridcolor\":\"rgb(232,232,232)\",\"linecolor\":\"rgb(36,36,36)\",\"showgrid\":false,\"showline\":true,\"ticks\":\"outside\"}},\"scene\":{\"xaxis\":{\"backgroundcolor\":\"white\",\"gridcolor\":\"rgb(232,232,232)\",\"gridwidth\":2,\"linecolor\":\"rgb(36,36,36)\",\"showbackground\":true,\"showgrid\":false,\"showline\":true,\"ticks\":\"outside\",\"zeroline\":false,\"zerolinecolor\":\"rgb(36,36,36)\"},\"yaxis\":{\"backgroundcolor\":\"white\",\"gridcolor\":\"rgb(232,232,232)\",\"gridwidth\":2,\"linecolor\":\"rgb(36,36,36)\",\"showbackground\":true,\"showgrid\":false,\"showline\":true,\"ticks\":\"outside\",\"zeroline\":false,\"zerolinecolor\":\"rgb(36,36,36)\"},\"zaxis\":{\"backgroundcolor\":\"white\",\"gridcolor\":\"rgb(232,232,232)\",\"gridwidth\":2,\"linecolor\":\"rgb(36,36,36)\",\"showbackground\":true,\"showgrid\":false,\"showline\":true,\"ticks\":\"outside\",\"zeroline\":false,\"zerolinecolor\":\"rgb(36,36,36)\"}},\"shapedefaults\":{\"fillcolor\":\"black\",\"line\":{\"width\":0},\"opacity\":0.3},\"ternary\":{\"aaxis\":{\"gridcolor\":\"rgb(232,232,232)\",\"linecolor\":\"rgb(36,36,36)\",\"showgrid\":false,\"showline\":true,\"ticks\":\"outside\"},\"baxis\":{\"gridcolor\":\"rgb(232,232,232)\",\"linecolor\":\"rgb(36,36,36)\",\"showgrid\":false,\"showline\":true,\"ticks\":\"outside\"},\"bgcolor\":\"white\",\"caxis\":{\"gridcolor\":\"rgb(232,232,232)\",\"linecolor\":\"rgb(36,36,36)\",\"showgrid\":false,\"showline\":true,\"ticks\":\"outside\"}},\"title\":{\"x\":0.05},\"xaxis\":{\"automargin\":true,\"gridcolor\":\"rgb(232,232,232)\",\"linecolor\":\"rgb(36,36,36)\",\"showgrid\":false,\"showline\":true,\"ticks\":\"outside\",\"title\":{\"standoff\":15},\"zeroline\":false,\"zerolinecolor\":\"rgb(36,36,36)\"},\"yaxis\":{\"automargin\":true,\"gridcolor\":\"rgb(232,232,232)\",\"linecolor\":\"rgb(36,36,36)\",\"showgrid\":false,\"showline\":true,\"ticks\":\"outside\",\"title\":{\"standoff\":15},\"zeroline\":false,\"zerolinecolor\":\"rgb(36,36,36)\"}}},\"xaxis\":{\"anchor\":\"y\",\"domain\":[0.0,1.0],\"title\":{\"text\":\"A\\u00f1o\"}},\"yaxis\":{\"anchor\":\"x\",\"domain\":[0.0,1.0],\"title\":{\"text\":\"# Establecimientos\"}},\"legend\":{\"title\":{\"text\":\"Nombre_Localidad\"},\"tracegroupgap\":0},\"title\":{\"text\":\"<b>Apertura de Establecimientos por a\\u00f1o<b>\",\"x\":0.5}},                        {\"responsive\": true}                    ).then(function(){\n",
       "                            \n",
       "var gd = document.getElementById('7fea1521-1a0b-4a7c-af24-338a10ae1c34');\n",
       "var x = new MutationObserver(function (mutations, observer) {{\n",
       "        var display = window.getComputedStyle(gd).display;\n",
       "        if (!display || display === 'none') {{\n",
       "            console.log([gd, 'removed!']);\n",
       "            Plotly.purge(gd);\n",
       "            observer.disconnect();\n",
       "        }}\n",
       "}});\n",
       "\n",
       "// Listen for the removal of the full notebook cells\n",
       "var notebookContainer = gd.closest('#notebook-container');\n",
       "if (notebookContainer) {{\n",
       "    x.observe(notebookContainer, {childList: true});\n",
       "}}\n",
       "\n",
       "// Listen for the clearing of the current output cell\n",
       "var outputEl = gd.closest('.output');\n",
       "if (outputEl) {{\n",
       "    x.observe(outputEl, {childList: true});\n",
       "}}\n",
       "\n",
       "                        })                };                });            </script>        </div>"
      ]
     },
     "metadata": {},
     "output_type": "display_data"
    }
   ],
   "source": [
    "# crear dataset\n",
    "base2 = base1.groupby(['Nombre_Localidad', 'Year'])[['Property ID']].count().sort_values('Year', ascending = True).reset_index()\n",
    "base2 = base2.dropna()\n",
    "\n",
    "# crear gráfica\n",
    "fig = px.line(base2, x = 'Year', y='Property ID', color = 'Nombre_Localidad',\n",
    "              color_discrete_sequence=px.colors.sequential.Viridis,\n",
    "              title= '<b>Apertura de Establecimientos por año<b>')\n",
    "\n",
    "# agregar detalles a la gráfica\n",
    "fig.update_layout(\n",
    "    xaxis_title = 'Año',\n",
    "    yaxis_title = '# Establecimientos',\n",
    "    template = 'simple_white',\n",
    "    title_x = 0.5)\n",
    "\n",
    "fig.show()"
   ]
  }
 ],
 "metadata": {
  "kernelspec": {
   "display_name": "Python 3 (ipykernel)",
   "language": "python",
   "name": "python3"
  },
  "language_info": {
   "codemirror_mode": {
    "name": "ipython",
    "version": 3
   },
   "file_extension": ".py",
   "mimetype": "text/x-python",
   "name": "python",
   "nbconvert_exporter": "python",
   "pygments_lexer": "ipython3",
   "version": "3.10.5"
  }
 },
 "nbformat": 4,
 "nbformat_minor": 5
}
